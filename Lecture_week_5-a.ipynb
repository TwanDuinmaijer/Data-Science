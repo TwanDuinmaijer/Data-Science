{
 "cells": [
  {
   "cell_type": "markdown",
   "metadata": {
    "tags": []
   },
   "source": [
    "Lecture week 5\n",
    "==============\n",
    "\n"
   ]
  },
  {
   "cell_type": "code",
   "execution_count": null,
   "metadata": {},
   "outputs": [],
   "source": [
    "from __future__ import absolute_import, division, print_function, unicode_literals\n",
    "\n",
    "import numpy as np\n",
    "import pandas as pd\n",
    "import seaborn as sn\n",
    "from scipy import optimize\n",
    "import pymc3 as pm\n",
    "import statsmodels.api as sm # check the error that cannot import name 'factorial' in from scipy.misc import factorial\n",
    "import statsmodels.formula.api as smf\n",
    "import matplotlib.pyplot as plt\n",
    "import tensorflow as tf\n",
    "import altair as alt\n",
    "# from linearmodels.iv import IV2SLS\n",
    "from tensorflow.keras import datasets, layers, models\n",
    "from tensorflow import keras\n",
    "import arviz as az\n",
    "\n",
    "import theano\n",
    "import covid19pandas as cod\n",
    "from country_codes import eurostat_dictionary\n",
    "import eurostat\n",
    "from warnings import filterwarnings\n",
    "filterwarnings('ignore')\n",
    "from sklearn import datasets\n",
    "from sklearn.preprocessing import scale\n",
    "from sklearn.model_selection import train_test_split\n",
    "from sklearn.datasets import make_moons"
   ]
  },
  {
   "cell_type": "code",
   "execution_count": null,
   "metadata": {},
   "outputs": [],
   "source": [
    "EU_countries = ['Belgium', 'Bulgaria', 'Czechia', 'Denmark',\n",
    "'Germany (until 1990 former territory of the FRG)', 'Germany','Estonia',\n",
    "'Ireland', 'Greece', 'Spain', 'France', 'Croatia', 'Italy',\n",
    "'Cyprus', 'Latvia', 'Lithuania', 'Luxembourg', 'Hungary', 'Malta',\n",
    "'Netherlands', 'Austria', 'Poland', 'Portugal', 'Romania',\n",
    "'Slovenia', 'Slovakia', 'Finland', 'Sweden', 'United Kingdom',\n",
    "'Iceland', 'Liechtenstein', 'Norway', 'Switzerland',\n",
    "'Bosnia and Herzegovina']"
   ]
  },
  {
   "cell_type": "markdown",
   "metadata": {},
   "source": [
    "## Mortality\n",
    "\n"
   ]
  },
  {
   "cell_type": "markdown",
   "metadata": {},
   "source": [
    "The [Eurostat website](https://ec.europa.eu/eurostat/data/database?node_code=hlth_cd_apr) has a browser where you can look for data. Here we are looking for data on mortality. You can click on the link to the data browser to see the [details of the variable](https://ec.europa.eu/eurostat/databrowser/view/hlth_cd_apr/default/table?lang=en). At the top-left of the screen you can see the name of the variable in the line &ldquo;`online data code: HLTH_CD_APR`&rdquo;. The name of this variable we use below in the `get_data_df` method.\n",
    "\n",
    "So we call this method and collect the information in the dataframe `df`. Then we check what `df` looks like:\n",
    "\n"
   ]
  },
  {
   "cell_type": "code",
   "execution_count": null,
   "metadata": {},
   "outputs": [],
   "source": [
    "df = eurostat.get_data_df('hlth_cd_apr')\n",
    "df.head()"
   ]
  },
  {
   "cell_type": "markdown",
   "metadata": {},
   "source": [
    "We would like to get our data into the following shape:\n",
    "\n",
    "| country|year|sex|Preventable  mortality|Treatable  mortality|\n",
    "|---|---|---|---|---|\n",
    "| Austria|2011|F|95.29|67.41|\n",
    "| Austria|2011|M|248.50|96.86|\n",
    "| Austria|2012|F|96.16|69.72|\n",
    "| Austria|2012|M|252.28|91.45|\n",
    "| Austria|2013|F|93.22|66.84|\n",
    "\n",
    "Hence we need to use pandas to get from our initial `df` to a dataframe like this table.\n",
    "\n"
   ]
  },
  {
   "cell_type": "code",
   "execution_count": null,
   "metadata": {},
   "outputs": [],
   "source": [
    "df.rename({'geo\\\\time':'geo'},inplace=True,axis=1)\n",
    "df['country'] = df['geo'].replace(eurostat_dictionary)\n",
    "df.head()"
   ]
  },
  {
   "cell_type": "code",
   "execution_count": null,
   "metadata": {},
   "outputs": [],
   "source": [
    "df = df[df.country.isin(EU_countries) & (df.sex.isin([\"M\",\"F\"]) ) & (df.mortalit.isin([\"PRVT\",\"TRT\"])) \\\n",
    "        & (df.unit == \"RT\") & (df.icd10 == \"TOTAL\")]\n",
    "df.drop([\"unit\",\"icd10\",\"geo\"],axis=1,inplace=True)\n",
    "df.head()"
   ]
  },
  {
   "cell_type": "markdown",
   "metadata": {},
   "source": [
    "Now we want to &ldquo;move&rdquo; the years into rows.\n",
    "\n",
    "-   Pandas&rsquo; [melt method](https://pandas.pydata.org/pandas-docs/stable/reference/api/pandas.melt.html) helps us to get the years in a column `year`\n",
    "-   the mortality rates in a column `rate`\n",
    "-   columns 2011-2017 (`np.arange(2011,2018)` in the code) become row values in the column `year`\n",
    "-   this column `year` together with the identifier variables uniquely identifies a row\n",
    "-   values for PRVT and TRT are given in the column `rate`.\n",
    "\n"
   ]
  },
  {
   "cell_type": "code",
   "execution_count": null,
   "metadata": {},
   "outputs": [],
   "source": [
    "df = pd.melt(df,id_vars=['country','sex','mortalit'],\n",
    "                        value_vars=np.arange(2011,2018),\n",
    "                        var_name='year',\n",
    "                        value_name='rate')\n",
    "df.head()"
   ]
  },
  {
   "cell_type": "markdown",
   "metadata": {},
   "source": [
    "-   we want to have two columns (i.e. two variables); one corresponds to PRVT, the other to TRT\n",
    "-   we use [unstack](https://pandas.pydata.org/pandas-docs/stable/reference/api/pandas.DataFrame.unstack.html): put the identifying columns in an order such that the last column refers to `mortalit` which contains the two values PRVT and TRT\n",
    "-   these columns become the index of the dataframe\n",
    "-   unstack the dataframe on the last column of the index, which is the default value of `unstack()`\n",
    "-   pivots the column `mortalit` into two separate columns PRVT and TRT.\n",
    "\n"
   ]
  },
  {
   "cell_type": "code",
   "execution_count": null,
   "metadata": {},
   "outputs": [],
   "source": [
    "df.set_index(['country','year','sex','mortalit'],inplace=True)\n",
    "df = df.unstack()\n",
    "df.head()"
   ]
  },
  {
   "cell_type": "markdown",
   "metadata": {},
   "source": [
    "-   reset the index  and rename the columns\n",
    "\n"
   ]
  },
  {
   "cell_type": "code",
   "execution_count": null,
   "metadata": {},
   "outputs": [],
   "source": [
    "df.reset_index(inplace=True)\n",
    "df.columns = [' '.join(col).strip() for col in df.columns.values]\n",
    "df.rename({'rate PRVT':'Preventable mortality', 'rate TRT':'Treatable mortality'},inplace=True,axis=1)\n",
    "df.head()"
   ]
  },
  {
   "cell_type": "markdown",
   "metadata": {},
   "source": [
    "## GDP per capita\n",
    "\n"
   ]
  },
  {
   "cell_type": "markdown",
   "metadata": {},
   "source": [
    "Go to this [page](https://ec.europa.eu/eurostat/data/database?node_code=nama_10_pc) to find the variable name for &ldquo;Main GDP aggregates per capita&rdquo;:\n",
    "\n"
   ]
  },
  {
   "cell_type": "code",
   "execution_count": null,
   "metadata": {},
   "outputs": [],
   "source": [
    "df_n = eurostat.get_data_df('...')\n",
    "df_n.rename(...)\n",
    "df_n['country'] = ...\n",
    "df_n.drop(np.arange(1975,2011),axis=1,inplace=True)\n",
    "df_n.head()"
   ]
  },
  {
   "cell_type": "markdown",
   "metadata": {},
   "source": [
    "### Question: make the following selections:\n",
    "\n"
   ]
  },
  {
   "cell_type": "markdown",
   "metadata": {},
   "source": [
    "-   from the column `country` select EU countries\n",
    "-   from `na_item` select &rsquo;B1GQ&rsquo;\n",
    "-   from `unit` select `CP_EUR_HAB`\n",
    "-   then drop the columns `unit, na_item, geo`\n",
    "\n"
   ]
  },
  {
   "cell_type": "markdown",
   "metadata": {},
   "source": [
    "### answer\n",
    "\n"
   ]
  },
  {
   "cell_type": "code",
   "execution_count": null,
   "metadata": {},
   "outputs": [],
   "source": []
  },
  {
   "cell_type": "markdown",
   "metadata": {},
   "source": [
    "### The melt statement\n",
    "\n"
   ]
  },
  {
   "cell_type": "markdown",
   "metadata": {},
   "source": [
    "The melt statement is easier now. Together with `year`, a column is uniquely identified by `country` only. Since we only have one variable here (GDP), we do not need to `unstack`.\n",
    "\n"
   ]
  },
  {
   "cell_type": "code",
   "execution_count": null,
   "metadata": {},
   "outputs": [],
   "source": []
  },
  {
   "cell_type": "markdown",
   "metadata": {},
   "source": [
    "### merge into dataframe\n",
    "\n"
   ]
  },
  {
   "cell_type": "markdown",
   "metadata": {},
   "source": [
    "The final step is to [merge](https://pandas.pydata.org/pandas-docs/stable/reference/api/pandas.DataFrame.merge.html) the GDP data with the dataframe `df` on mortality.\n",
    "\n"
   ]
  },
  {
   "cell_type": "code",
   "execution_count": null,
   "metadata": {},
   "outputs": [],
   "source": [
    "df=df.merge(df_n,how='left',left_on=['country','year'], right_on=['country','year'])\n",
    "df.head()"
   ]
  },
  {
   "cell_type": "markdown",
   "metadata": {},
   "source": [
    "## Body mass index\n",
    "\n"
   ]
  },
  {
   "cell_type": "markdown",
   "metadata": {},
   "source": [
    "-   go to: [https://ec.europa.eu/eurostat/databrowser/view/hlth_ehis_bm1i/default/table?lang=en](https://ec.europa.eu/eurostat/databrowser/view/hlth_ehis_bm1i/default/table?lang=en)\n",
    "-   create a dataframe `df_n` for this data\n",
    "-   make your own selections on the data\n",
    "-   merge this data with the dataframe `df`\n",
    "\n"
   ]
  },
  {
   "cell_type": "code",
   "execution_count": null,
   "metadata": {},
   "outputs": [],
   "source": []
  },
  {
   "cell_type": "markdown",
   "metadata": {},
   "source": [
    "### merge into dataframe\n",
    "\n"
   ]
  },
  {
   "cell_type": "code",
   "execution_count": null,
   "metadata": {},
   "outputs": [],
   "source": []
  },
  {
   "cell_type": "markdown",
   "metadata": {},
   "source": [
    "## next lecture: Bayesian statistics\n",
    "\n"
   ]
  },
  {
   "cell_type": "markdown",
   "metadata": {},
   "source": [
    "-   you have a coin and you want to determine the probability $p$ that it turns up head\n",
    "-   experiment: you throw it once ($n=1$), twice ($n=2$), three times etc. all the way up to twenty times ($n=20$)\n",
    "-   count the number of heads ($y$)\n",
    "-   6 of these experiments ($n=1,2,3,4,5,20$) and outcomes($y = 1,1,2,2,3,14$)\n",
    "-   after each experiment you calculate the posterior distribution for $p$\n",
    "\n"
   ]
  },
  {
   "cell_type": "code",
   "execution_count": null,
   "metadata": {},
   "outputs": [],
   "source": [
    "y_values = [1,1,2,2,3,14]\n",
    "n_values = [1,2,3,4,5,20]\n",
    "posterior_list = []\n",
    "for i in range(len(n_values)):\n",
    "    with pm.Model() as binomial:\n",
    "      p = pm.Uniform('p',0,1)\n",
    "      y = pm.Binomial('y', p = p, observed = y_values[i], n = n_values[i])\n",
    "      trace = pm.sample(tune=2000)\n",
    "    print(i)\n",
    "    posterior = az.from_pymc3(trace)\n",
    "    posterior_list.append(posterior.posterior.p.values.flatten())"
   ]
  },
  {
   "cell_type": "code",
   "execution_count": null,
   "metadata": {},
   "outputs": [],
   "source": [
    "posterior_list.append(np.arange(0,1.0001,0.0001))"
   ]
  },
  {
   "cell_type": "markdown",
   "metadata": {},
   "source": [
    "We plot the posterior distributions:\n",
    "\n"
   ]
  },
  {
   "cell_type": "code",
   "execution_count": null,
   "metadata": {},
   "outputs": [],
   "source": [
    "fig, axs = plt.subplots(2,3,figsize=(12,6))\n",
    "\n",
    "for i in range(2):\n",
    "    for j in range(3):\n",
    "        sn.kdeplot(posterior_list[3*i+j],ax = axs[i,j])\n",
    "        sn.kdeplot(posterior_list[3*i+j-1],ax = axs[i,j],linestyle='--')\n",
    "        plt.gcf().get_axes()[3*i+j].set_xlim(0,1)\n",
    "        axs[i,j].set_title('n = {}, y = {}'.format(n_values[3*i+j],y_values[3*i+j]))\n",
    "fig.tight_layout();"
   ]
  },
  {
   "cell_type": "markdown",
   "metadata": {},
   "source": [
    "\n",
    "\n",
    "The advantage of a posterior distribution is that it tells you what you expect it to tell you. To illustrate this, consider the posterior at $n=20$ which we plot now as cdf (cumulative distribution function):\n",
    "\n"
   ]
  },
  {
   "cell_type": "code",
   "execution_count": null,
   "metadata": {},
   "outputs": [],
   "source": [
    "sn.kdeplot(posterior_list[-2],cumulative=True)\n",
    "plt.ylabel('probability')\n",
    "plt.xlabel('$p$');"
   ]
  },
  {
   "cell_type": "markdown",
   "metadata": {},
   "source": [
    "This curve shows that with 40% probability it is the case that $p \\leq 0.65$ (approximately).\n",
    "\n"
   ]
  },
  {
   "cell_type": "markdown",
   "metadata": {},
   "source": [
    "### Question: calculate the probability that $p>0.8$ after throwing the coin 20 times (with $y=14$).\n",
    "\n"
   ]
  },
  {
   "cell_type": "markdown",
   "metadata": {},
   "source": [
    "[hint: use the variable `posterior_list`.]\n",
    "\n"
   ]
  },
  {
   "cell_type": "code",
   "execution_count": null,
   "metadata": {},
   "outputs": [],
   "source": []
  },
  {
   "cell_type": "markdown",
   "metadata": {},
   "source": [
    "## Altair\n",
    "\n"
   ]
  },
  {
   "cell_type": "code",
   "execution_count": null,
   "metadata": {},
   "outputs": [],
   "source": [
    "df = pd.read_csv('./data/health_data.csv')\n",
    "df.describe()"
   ]
  },
  {
   "cell_type": "markdown",
   "metadata": {},
   "source": [
    "You can open the file `gdp_mortality.html` in a web browser. You can add it to a website etc. You can use the slider to select a year, zoom in and out of the graph, hover over a point to see the country.\n",
    "\n"
   ]
  },
  {
   "cell_type": "code",
   "execution_count": null,
   "metadata": {},
   "outputs": [],
   "source": [
    "df.rename({'year_x':'year'},inplace=True,axis=1)\n",
    "\n",
    "select_year = alt.selection_single(\n",
    "    name='Select', fields=['year'], init={'year': 2011},\n",
    "    bind=alt.binding_range(min=2011, max=2017, step=1)\n",
    ")\n",
    "\n",
    "df['log gdp'] = np.log(df['GDP per capita'])\n",
    "df['log mortality'] = np.log(df['Treatable mortality'])\n",
    "df['Gender'] = df['sex'].replace({'F':'Female','M':'Male'})\n",
    "\n",
    "figure = alt.Chart(df).mark_point(filled=True,size=50).encode(\n",
    "    alt.X('log gdp',title='GDP per captita(in logs)',scale=alt.Scale(domain=[9,12])),\n",
    "    alt.Y('log mortality',title='Treatable mortality (in logs)',scale=alt.Scale(domain=[4,6])),\n",
    "    color='country',\n",
    "    column='Gender',\n",
    "    tooltip=['country']\n",
    ").configure_axis(\n",
    "    grid=False\n",
    ").configure_view(\n",
    "    strokeWidth=0\n",
    ").add_selection(select_year).transform_filter(select_year).interactive()\n",
    "\n",
    "\n",
    "\n",
    "figure.save('./figures/gdp_mortality.html')"
   ]
  },
  {
   "cell_type": "code",
   "execution_count": null,
   "metadata": {},
   "outputs": [],
   "source": []
  }
 ],
 "metadata": {
  "kernelspec": {
   "display_name": "Python 3 (ipykernel)",
   "language": "python",
   "name": "python3"
  },
  "language_info": {
   "codemirror_mode": {
    "name": "ipython",
    "version": 3
   },
   "file_extension": ".py",
   "mimetype": "text/x-python",
   "name": "python",
   "nbconvert_exporter": "python",
   "pygments_lexer": "ipython3",
   "version": "3.9.7"
  },
  "org": null
 },
 "nbformat": 4,
 "nbformat_minor": 4
}
