{
 "cells": [
  {
   "cell_type": "markdown",
   "metadata": {},
   "source": [
    "Lecture week 1\n",
    "==============\n",
    "\n",
    "If this is the first time you are using jupyterlab, you may want to check out this [short introduction to jupyterlab](https://janboone.github.io/applied-economics/pagescreencasts.html#Short_introduction_to_JupyterLab)\n",
    "\n",
    "This is the notebook we discussed in the lectures of the first week. Do not just simply run through the cells below, but change things, play around with the code, try other things etc.\n",
    "\n",
    "You do not learn a lot from pressing SHIFT-ENTER through an existing notebook.\n"
   ]
  },
  {
   "cell_type": "markdown",
   "metadata": {},
   "source": [
    "## Import libraries\n",
    "\n"
   ]
  },
  {
   "cell_type": "code",
   "execution_count": 1,
   "metadata": {},
   "outputs": [
    {
     "name": "stderr",
     "output_type": "stream",
     "text": [
      "/opt/conda/lib/python3.8/site-packages/theano/configdefaults.py:696: UserWarning: DeprecationWarning: there is no c++ compiler.This is deprecated and with Theano 0.11 a c++ compiler will be mandatory\n",
      "  warnings.warn(\n",
      "WARNING (theano.configdefaults): g++ not detected ! Theano will be unable to execute optimized C-implementations (for both CPU and GPU) and will default to Python implementations. Performance will be severely degraded. To remove this warning, set Theano flags cxx to an empty string.\n",
      "WARNING (theano.configdefaults): install mkl with `conda install mkl-service`: No module named 'mkl'\n",
      "WARNING (theano.tensor.blas): Using NumPy C-API based implementation for BLAS functions.\n"
     ]
    }
   ],
   "source": [
    "from __future__ import absolute_import, division, print_function, unicode_literals\n",
    "\n",
    "import numpy as np\n",
    "import pandas as pd\n",
    "from scipy import optimize\n",
    "import pymc3 as pm\n",
    "import statsmodels.api as sm # check the error that cannot import name 'factorial' in from scipy.misc import factorial\n",
    "import statsmodels.formula.api as smf\n",
    "import matplotlib.pyplot as plt\n",
    "import tensorflow as tf\n",
    "import altair as alt\n",
    "from linearmodels.iv import IV2SLS\n",
    "from tensorflow.keras import datasets, layers, models\n",
    "from tensorflow import keras"
   ]
  },
  {
   "cell_type": "markdown",
   "metadata": {},
   "source": [
    "## Generating random variables\n",
    "\n"
   ]
  },
  {
   "cell_type": "markdown",
   "metadata": {},
   "source": [
    "There are different ways to generate random variables. You do not need to know them all. Just use the ones you are happy with. Experiment a bit with all of them, jus to get an idea of how they work.\n",
    "\n"
   ]
  },
  {
   "cell_type": "markdown",
   "metadata": {},
   "source": [
    "### tensorflow\n",
    "\n"
   ]
  },
  {
   "cell_type": "code",
   "execution_count": 10,
   "metadata": {},
   "outputs": [
    {
     "data": {
      "text/plain": [
       "<tf.Tensor: shape=(10, 4), dtype=float32, numpy=\n",
       "array([[0.3360592 , 0.2341249 , 0.5925926 , 0.9295021 ],\n",
       "       [0.4090222 , 0.5351814 , 0.06339276, 0.86464   ],\n",
       "       [0.9885632 , 0.06894541, 0.8008833 , 0.2784251 ],\n",
       "       [0.61640203, 0.5133958 , 0.78173757, 0.5236528 ],\n",
       "       [0.40527165, 0.00747669, 0.4569515 , 0.26440823],\n",
       "       [0.77686155, 0.4520445 , 0.6392257 , 0.47018778],\n",
       "       [0.0888319 , 0.01547754, 0.96021974, 0.23377371],\n",
       "       [0.73604524, 0.06117189, 0.25479734, 0.0297718 ],\n",
       "       [0.05658066, 0.49421847, 0.3242886 , 0.8279139 ],\n",
       "       [0.68359625, 0.87019026, 0.0644027 , 0.52644646]], dtype=float32)>"
      ]
     },
     "execution_count": 10,
     "metadata": {},
     "output_type": "execute_result"
    }
   ],
   "source": [
    "tf.random.uniform([10,4],0,1)"
   ]
  },
  {
   "cell_type": "markdown",
   "metadata": {},
   "source": [
    "As you can see, a tensorflow array has some extra information in the first line. Some packages cannot deal with this. If you get an error using a tensorflow array, it can help to apply the `numpy()` method.\n",
    "\n"
   ]
  },
  {
   "cell_type": "code",
   "execution_count": 11,
   "metadata": {},
   "outputs": [
    {
     "data": {
      "text/plain": [
       "array([[0.5517137 , 0.5703113 , 0.5630356 , 0.91385496],\n",
       "       [0.7488214 , 0.8225161 , 0.06262028, 0.4802245 ],\n",
       "       [0.61337626, 0.45384645, 0.4919963 , 0.50688505],\n",
       "       [0.40251315, 0.6855378 , 0.65492284, 0.42955017],\n",
       "       [0.81379974, 0.46474707, 0.54499674, 0.82734156],\n",
       "       [0.5848986 , 0.6831137 , 0.40183747, 0.20451593],\n",
       "       [0.42521656, 0.18525386, 0.30172956, 0.7900913 ],\n",
       "       [0.54735196, 0.7860143 , 0.99976087, 0.5216851 ],\n",
       "       [0.65262425, 0.5996126 , 0.6804341 , 0.6587579 ],\n",
       "       [0.21769011, 0.73447526, 0.7940258 , 0.76983595]], dtype=float32)"
      ]
     },
     "execution_count": 11,
     "metadata": {},
     "output_type": "execute_result"
    }
   ],
   "source": [
    "tf.random.uniform([10,4],0,1).numpy()"
   ]
  },
  {
   "cell_type": "markdown",
   "metadata": {},
   "source": [
    "### pymc3\n",
    "\n"
   ]
  },
  {
   "cell_type": "markdown",
   "metadata": {},
   "source": [
    "We can also generate random numbers with pymc3:\n",
    "\n"
   ]
  },
  {
   "cell_type": "code",
   "execution_count": 15,
   "metadata": {},
   "outputs": [
    {
     "data": {
      "text/plain": [
       "array([[0.95575746, 0.8419309 , 0.58283535],\n",
       "       [0.39316293, 0.47041616, 0.22194611],\n",
       "       [0.00329527, 0.84194071, 0.22210243],\n",
       "       [0.52044544, 0.61769139, 0.86409614],\n",
       "       [0.79507533, 0.1500418 , 0.56595232],\n",
       "       [0.58434859, 0.84731028, 0.06195188],\n",
       "       [0.05587542, 0.28879255, 0.23523001],\n",
       "       [0.69168561, 0.78851596, 0.83582926],\n",
       "       [0.83505278, 0.63052097, 0.88026548],\n",
       "       [0.00313238, 0.33612003, 0.40470564]])"
      ]
     },
     "execution_count": 15,
     "metadata": {},
     "output_type": "execute_result"
    }
   ],
   "source": [
    "pm.Uniform.dist(0,1).random(size=(10,3))"
   ]
  },
  {
   "cell_type": "markdown",
   "metadata": {},
   "source": [
    "### numpy\n",
    "\n"
   ]
  },
  {
   "cell_type": "markdown",
   "metadata": {},
   "source": [
    "Good old numpy also has a random library:\n",
    "\n"
   ]
  },
  {
   "cell_type": "code",
   "execution_count": 14,
   "metadata": {},
   "outputs": [
    {
     "data": {
      "text/plain": [
       "array([[0.77749346, 0.45322135, 0.41784374],\n",
       "       [0.64369077, 0.22502533, 0.50370495],\n",
       "       [0.62377327, 0.43658175, 0.45303219],\n",
       "       [0.28589816, 0.1787601 , 0.58658976],\n",
       "       [0.84308612, 0.3461543 , 0.15946842],\n",
       "       [0.97019336, 0.39416118, 0.59030178],\n",
       "       [0.72673118, 0.90867822, 0.77665982],\n",
       "       [0.56844464, 0.78363209, 0.67299367],\n",
       "       [0.83788014, 0.24489646, 0.30319066],\n",
       "       [0.5119626 , 0.43148791, 0.94832413]])"
      ]
     },
     "execution_count": 14,
     "metadata": {},
     "output_type": "execute_result"
    }
   ],
   "source": [
    "np.random.uniform(0,1,size=(10,3))"
   ]
  },
  {
   "cell_type": "code",
   "execution_count": null,
   "metadata": {},
   "outputs": [],
   "source": []
  },
  {
   "cell_type": "markdown",
   "metadata": {},
   "source": [
    "### random vectors that are related\n",
    "\n"
   ]
  },
  {
   "cell_type": "markdown",
   "metadata": {},
   "source": [
    "You can build a set of vectors that are related to each other. The next example has `x` and `y` variables that are correlated:\n",
    "\n"
   ]
  },
  {
   "cell_type": "code",
   "execution_count": 22,
   "metadata": {},
   "outputs": [
    {
     "data": {
      "image/png": "[encoded data removed]",
      "text/plain": [
       "<Figure size 432x288 with 1 Axes>"
      ]
     },
     "metadata": {
      "needs_background": "light"
     },
     "output_type": "display_data"
    }
   ],
   "source": [
    "N = 100\n",
    "x = np.random.normal(0,1,size=(N,1))\n",
    "y = 3 * x + 5 + np.random.normal(0,1,size=(N,1))\n",
    "plt.plot(x,y,'bo');"
   ]
  },
  {
   "cell_type": "markdown",
   "metadata": {},
   "source": [
    "If variables are related, we can figure out what the correlation is, using OLS. Here we use `statsmodels` for the OLS regression:\n",
    "\n"
   ]
  },
  {
   "cell_type": "code",
   "execution_count": 25,
   "metadata": {},
   "outputs": [
    {
     "name": "stdout",
     "output_type": "stream",
     "text": [
      "the fitted constant is 5.21 and the fitted slope equals 3.12\n"
     ]
    },
    {
     "data": {
      "image/png": "[encoded data removed]",
      "text/plain": [
       "<Figure size 432x288 with 1 Axes>"
      ]
     },
     "metadata": {
      "needs_background": "light"
     },
     "output_type": "display_data"
    }
   ],
   "source": [
    "model = sm.OLS(y,sm.add_constant(x))\n",
    "print(\"the fitted constant is {:.2f} and the fitted slope equals {:.2f}\".format(*model.fit().params))\n",
    "b, a = model.fit().params\n",
    "plt.plot(x,y,'bo',label='data')\n",
    "range_x = np.linspace(-3,3)\n",
    "plt.plot(range_x,b + a * range_x,'r',label='regression line')\n",
    "plt.legend();"
   ]
  },
  {
   "cell_type": "markdown",
   "metadata": {},
   "source": [
    "We can present the estimated parameters in 2 different ways:\n",
    "\n"
   ]
  },
  {
   "cell_type": "code",
   "execution_count": 26,
   "metadata": {},
   "outputs": [
    {
     "name": "stdout",
     "output_type": "stream",
     "text": [
      "5.21, 3.12\n",
      "[5.20725954 3.12353854]\n"
     ]
    }
   ],
   "source": [
    "print(\"{:.2f}, {:.2f}\".format(*model.fit().params))\n",
    "print(\"{}\".format(model.fit().params))"
   ]
  },
  {
   "cell_type": "markdown",
   "metadata": {},
   "source": [
    "## distribution of slopes\n",
    "\n"
   ]
  },
  {
   "cell_type": "markdown",
   "metadata": {},
   "source": [
    "If we generate data and run the regression `n` times, we get a distribution of slopes.\n",
    "\n",
    "We use yet another way to generate our data. Don&rsquo;t worry about the exact syntax, we will see `pm.Model()` a lot lateron in the course.\n",
    "\n"
   ]
  },
  {
   "cell_type": "code",
   "execution_count": 27,
   "metadata": {},
   "outputs": [
    {
     "data": {
      "text/plain": [
       "array([-2.05390064, -0.3438997 , -0.51664525,  3.64227672,  3.46304029,\n",
       "        2.40037883, -2.2921418 , -0.6636318 ,  0.72507741,  1.75889062,\n",
       "       -2.4989709 ,  0.05779167, -2.42187364, -3.22225598,  1.45636623,\n",
       "       -0.93023766, -0.56902478,  3.48718524,  2.28140502, -0.99854943])"
      ]
     },
     "execution_count": 27,
     "metadata": {},
     "output_type": "execute_result"
    }
   ],
   "source": [
    "def generate_data(a=0.5,b=0,n=20):\n",
    "    with pm.Model() as model_data:\n",
    "        x = pm.Normal(\"x\",0,2)\n",
    "        mu_y = a*x+b\n",
    "        y = pm.Normal(\"y\",mu_y,2)\n",
    "        data = pm.sample_prior_predictive(samples=n)\n",
    "    return data\n",
    "data = generate_data()\n",
    "data['x']"
   ]
  },
  {
   "cell_type": "markdown",
   "metadata": {},
   "source": [
    "As a brief reminder, the following is a dictionary in python:"
   ]
  },
  {
   "cell_type": "code",
   "execution_count": 32,
   "metadata": {},
   "outputs": [
    {
     "data": {
      "text/plain": [
       "10"
      ]
     },
     "execution_count": 32,
     "metadata": {},
     "output_type": "execute_result"
    }
   ],
   "source": [
    "my_dict = {'x': 10, 'y':20}\n",
    "my_dict['x']"
   ]
  },
  {
   "cell_type": "code",
   "execution_count": 31,
   "metadata": {},
   "outputs": [
    {
     "data": {
      "image/png": "[encoded data removed]",
      "text/plain": [
       "<Figure size 432x288 with 1 Axes>"
      ]
     },
     "metadata": {
      "needs_background": "light"
     },
     "output_type": "display_data"
    }
   ],
   "source": [
    "plt.scatter(data['x'],data['y']);"
   ]
  },
  {
   "cell_type": "code",
   "execution_count": 33,
   "metadata": {},
   "outputs": [],
   "source": [
    "slopes = []\n",
    "for i in np.arange(100):\n",
    "    data = generate_data()\n",
    "    slopes.append(sm.OLS(data['y'],sm.add_constant(data['x'])).fit().params[1])\n",
    "    \n"
   ]
  },
  {
   "cell_type": "markdown",
   "metadata": {},
   "source": [
    "make a histogram of the slopes:"
   ]
  },
  {
   "cell_type": "code",
   "execution_count": 35,
   "metadata": {},
   "outputs": [
    {
     "data": {
      "image/png": "[encoded data removed]",
      "text/plain": [
       "<Figure size 432x288 with 1 Axes>"
      ]
     },
     "metadata": {
      "needs_background": "light"
     },
     "output_type": "display_data"
    }
   ],
   "source": [
    "plt.hist(slopes,bins=20,density=True);"
   ]
  },
  {
   "cell_type": "markdown",
   "metadata": {},
   "source": [
    "Now we generate the data where `a` is set equal to 0"
   ]
  },
  {
   "cell_type": "code",
   "execution_count": 36,
   "metadata": {},
   "outputs": [],
   "source": [
    "slopes = []\n",
    "for i in np.arange(100):\n",
    "    data = generate_data(a=0)\n",
    "    slopes.append(sm.OLS(data['y'],sm.add_constant(data['x'])).fit().params[1])\n",
    "    \n"
   ]
  },
  {
   "cell_type": "code",
   "execution_count": 38,
   "metadata": {},
   "outputs": [
    {
     "data": {
      "image/png": "[encoded data removed]",
      "text/plain": [
       "<Figure size 432x288 with 1 Axes>"
      ]
     },
     "metadata": {
      "needs_background": "light"
     },
     "output_type": "display_data"
    }
   ],
   "source": [
    "plt.hist(slopes,bins=20,density=True);"
   ]
  },
  {
   "cell_type": "markdown",
   "metadata": {},
   "source": [
    "What does the following cell tell us?\n",
    "\n"
   ]
  },
  {
   "cell_type": "code",
   "execution_count": 39,
   "metadata": {},
   "outputs": [
    {
     "data": {
      "text/plain": [
       "0.03"
      ]
     },
     "execution_count": 39,
     "metadata": {},
     "output_type": "execute_result"
    }
   ],
   "source": [
    "np.sum(np.array(slopes)>0.5)/len(slopes)"
   ]
  },
  {
   "cell_type": "markdown",
   "metadata": {},
   "source": [
    "## Do our own OLS\n",
    "\n"
   ]
  },
  {
   "cell_type": "markdown",
   "metadata": {},
   "source": [
    "Instead of relying on existing packages to do OLS, let&rsquo;s do it ourselves! OLS minimizes the squared (vertical) distance between obervations and the line we estimate: `y = w[0] + w[1] * x`\n",
    "\n"
   ]
  },
  {
   "cell_type": "code",
   "execution_count": 43,
   "metadata": {},
   "outputs": [],
   "source": [
    "data = generate_data(a=1,b=5)\n",
    "def loss(w):\n",
    "    loss = np.sum((w[0]+w[1]*data['x']-data['y'])**2)/len(data['y'])\n",
    "    return loss"
   ]
  },
  {
   "cell_type": "code",
   "execution_count": 44,
   "metadata": {},
   "outputs": [
    {
     "data": {
      "text/plain": [
       "278.0168727540582"
      ]
     },
     "execution_count": 44,
     "metadata": {},
     "output_type": "execute_result"
    }
   ],
   "source": [
    "loss([1,9])"
   ]
  },
  {
   "cell_type": "code",
   "execution_count": 45,
   "metadata": {},
   "outputs": [
    {
     "name": "stdout",
     "output_type": "stream",
     "text": [
      "Optimization terminated successfully.\n",
      "         Current function value: 5.801362\n",
      "         Iterations: 56\n",
      "         Function evaluations: 105\n"
     ]
    },
    {
     "data": {
      "text/plain": [
       "array([5.27933682, 0.99242052])"
      ]
     },
     "execution_count": 45,
     "metadata": {},
     "output_type": "execute_result"
    }
   ],
   "source": [
    "optimize.fmin(loss,[0,0])"
   ]
  },
  {
   "cell_type": "code",
   "execution_count": null,
   "metadata": {},
   "outputs": [],
   "source": []
  }
 ],
 "metadata": {
  "kernelspec": {
   "display_name": "Python 3",
   "language": "python",
   "name": "python3"
  },
  "language_info": {
   "codemirror_mode": {
    "name": "ipython",
    "version": 3
   },
   "file_extension": ".py",
   "mimetype": "text/x-python",
   "name": "python",
   "nbconvert_exporter": "python",
   "pygments_lexer": "ipython3",
   "version": "3.8.6"
  },
  "org": null
 },
 "nbformat": 4,
 "nbformat_minor": 4
}
