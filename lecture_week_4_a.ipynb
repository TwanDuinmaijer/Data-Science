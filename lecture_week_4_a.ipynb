{
 "cells": [
  {
   "cell_type": "markdown",
   "metadata": {},
   "source": [
    "Lecture week 4\n",
    "==============\n",
    "\n"
   ]
  },
  {
   "cell_type": "markdown",
   "metadata": {},
   "source": [
    "## Code preamble\n",
    "\n"
   ]
  },
  {
   "cell_type": "code",
   "execution_count": 1,
   "metadata": {},
   "outputs": [
    {
     "name": "stderr",
     "output_type": "stream",
     "text": [
      "/opt/conda/lib/python3.9/site-packages/statsmodels/compat/pandas.py:65: FutureWarning: pandas.Int64Index is deprecated and will be removed from pandas in a future version. Use pandas.Index with the appropriate dtype instead.\n",
      "  from pandas import Int64Index as NumericIndex\n"
     ]
    }
   ],
   "source": [
    "from __future__ import absolute_import, division, print_function, unicode_literals\n",
    "\n",
    "import numpy as np\n",
    "import pandas as pd\n",
    "import seaborn as sns\n",
    "from scipy import optimize\n",
    "import pymc3 as pm\n",
    "import statsmodels.api as sm # check the error that cannot import name 'factorial' in from scipy.misc import factorial\n",
    "import statsmodels.formula.api as smf\n",
    "import matplotlib.pyplot as plt\n",
    "import tensorflow as tf\n",
    "import altair as alt\n",
    "from linearmodels.iv import IV2SLS\n",
    "from tensorflow.keras import datasets, layers, models\n",
    "from tensorflow import keras\n",
    "import arviz as az\n",
    "\n",
    "import theano\n",
    "import covid19pandas as cod\n",
    "from country_codes import eurostat_dictionary\n",
    "import eurostat\n",
    "from warnings import filterwarnings\n",
    "filterwarnings('ignore')\n",
    "from sklearn import datasets\n",
    "from sklearn.preprocessing import scale\n",
    "from sklearn.model_selection import train_test_split\n",
    "from sklearn.datasets import make_moons"
   ]
  },
  {
   "cell_type": "markdown",
   "metadata": {},
   "source": [
    "## Overview: neural network and treatment effects\n",
    "\n"
   ]
  },
  {
   "cell_type": "markdown",
   "metadata": {},
   "source": [
    "### simple example\n",
    "\n"
   ]
  },
  {
   "cell_type": "markdown",
   "metadata": {},
   "source": [
    "From the python code for a neural network:\n",
    "\n"
   ]
  },
  {
   "cell_type": "markdown",
   "metadata": {},
   "source": [
    "`self.weights -= eta*np.dot(np.transpose(inputs),self.activations-targets)`"
   ]
  },
  {
   "cell_type": "markdown",
   "metadata": {},
   "source": [
    "In equation format, the weights are updated as: $w = w - \\eta (prediction - target) x$\n",
    "\n",
    "Let&rsquo;s look at a simple example to understand why this the correct updating rule. We have 4 observations with two labels (`targets`): red and blue in the figure.\n",
    "\n",
    "We want to find a line such that all points above the line are blue; the one point below the line is red.\n",
    "\n"
   ]
  },
  {
   "cell_type": "code",
   "execution_count": 2,
   "metadata": {},
   "outputs": [
    {
     "data": {
      "image/png": "[encoded data removed]",
      "text/plain": [
       "<Figure size 432x288 with 1 Axes>"
      ]
     },
     "metadata": {
      "needs_background": "light"
     },
     "output_type": "display_data"
    }
   ],
   "source": [
    "inputs = np.array([[0,0],[0,1],[1,0],[1,1]])\n",
    "targets = np.array([[0],[1],[1],[1]])\n",
    "colors = []\n",
    "for i in range(len(targets)):\n",
    "    colors.append(['red','blue'][targets[i][0]])\n",
    "plt.scatter(inputs[:,0],inputs[:,1],color=colors)\n",
    "plt.plot([0,1],[0.8,0.2],c='k')\n",
    "plt.plot([0,1],[0.8,-0.2],'--',c='k')\n",
    "\n",
    "plt.xlabel('$x$')\n",
    "plt.ylabel('$y$')\n",
    "plt.show()"
   ]
  },
  {
   "cell_type": "markdown",
   "metadata": {},
   "source": [
    "Line of the form $w_0 x + w_1 y - w_2 = 0$ or $y = -w_0/w_1 x + w_2/w_1$.\n",
    "\n",
    "The solid line mis-classifies one point. To get this classification right, the line needs to become steeper for the point with $x=1$ and $y=0$.\n",
    "\n",
    "To make the line steeper, $w_0$ needs to increase:\n",
    "\n",
    "\\begin{equation}\n",
    "\\label{eq:1}\n",
    "w_0 = w_0 - \\eta (0-1) * 1 = w_0 + \\eta\n",
    "\\end{equation}\n",
    "\n",
    "If we give the model a new point, it will predict &ldquo;blue&rdquo; if the point is above the line and &ldquo;red&rdquo; if it is below.\n",
    "\n"
   ]
  },
  {
   "cell_type": "markdown",
   "metadata": {},
   "source": [
    "### example neural network: confusion matrix\n",
    "\n"
   ]
  },
  {
   "cell_type": "markdown",
   "metadata": {},
   "source": [
    "We import some data:\n",
    "\n"
   ]
  },
  {
   "cell_type": "code",
   "execution_count": 3,
   "metadata": {},
   "outputs": [
    {
     "data": {
      "text/html": [
       "<div>\n",
       "<style scoped>\n",
       "    .dataframe tbody tr th:only-of-type {\n",
       "        vertical-align: middle;\n",
       "    }\n",
       "\n",
       "    .dataframe tbody tr th {\n",
       "        vertical-align: top;\n",
       "    }\n",
       "\n",
       "    .dataframe thead th {\n",
       "        text-align: right;\n",
       "    }\n",
       "</style>\n",
       "<table border=\"1\" class=\"dataframe\">\n",
       "  <thead>\n",
       "    <tr style=\"text-align: right;\">\n",
       "      <th></th>\n",
       "      <th>sepal_length</th>\n",
       "      <th>sepal_width</th>\n",
       "      <th>petal_length</th>\n",
       "      <th>petal_width</th>\n",
       "      <th>species</th>\n",
       "    </tr>\n",
       "  </thead>\n",
       "  <tbody>\n",
       "    <tr>\n",
       "      <th>0</th>\n",
       "      <td>5.1</td>\n",
       "      <td>3.5</td>\n",
       "      <td>1.4</td>\n",
       "      <td>0.2</td>\n",
       "      <td>Iris-setosa</td>\n",
       "    </tr>\n",
       "    <tr>\n",
       "      <th>1</th>\n",
       "      <td>4.9</td>\n",
       "      <td>3.0</td>\n",
       "      <td>1.4</td>\n",
       "      <td>0.2</td>\n",
       "      <td>Iris-setosa</td>\n",
       "    </tr>\n",
       "    <tr>\n",
       "      <th>2</th>\n",
       "      <td>4.7</td>\n",
       "      <td>3.2</td>\n",
       "      <td>1.3</td>\n",
       "      <td>0.2</td>\n",
       "      <td>Iris-setosa</td>\n",
       "    </tr>\n",
       "    <tr>\n",
       "      <th>3</th>\n",
       "      <td>4.6</td>\n",
       "      <td>3.1</td>\n",
       "      <td>1.5</td>\n",
       "      <td>0.2</td>\n",
       "      <td>Iris-setosa</td>\n",
       "    </tr>\n",
       "    <tr>\n",
       "      <th>4</th>\n",
       "      <td>5.0</td>\n",
       "      <td>3.6</td>\n",
       "      <td>1.4</td>\n",
       "      <td>0.2</td>\n",
       "      <td>Iris-setosa</td>\n",
       "    </tr>\n",
       "  </tbody>\n",
       "</table>\n",
       "</div>"
      ],
      "text/plain": [
       "   sepal_length  sepal_width  petal_length  petal_width      species\n",
       "0           5.1          3.5           1.4          0.2  Iris-setosa\n",
       "1           4.9          3.0           1.4          0.2  Iris-setosa\n",
       "2           4.7          3.2           1.3          0.2  Iris-setosa\n",
       "3           4.6          3.1           1.5          0.2  Iris-setosa\n",
       "4           5.0          3.6           1.4          0.2  Iris-setosa"
      ]
     },
     "execution_count": 3,
     "metadata": {},
     "output_type": "execute_result"
    }
   ],
   "source": [
    "import requests\n",
    "url = 'https://archive.ics.uci.edu/ml/machine-learning-databases/iris/iris.data'\n",
    "r = requests.get(url, allow_redirects=True)\n",
    "filename = \"./data/iris.csv\"\n",
    "open(filename, 'wb').write(r.content)\n",
    "\n",
    "df = pd.read_csv(filename, header=None, names=['sepal_length','sepal_width','petal_length','petal_width','species'])\n",
    "df.head()"
   ]
  },
  {
   "cell_type": "markdown",
   "metadata": {},
   "source": [
    "* how many observations do we have?\n",
    "* what are the datatypes of the columns (hint: use `dtypes`)\n",
    "* how can we figure out the number of species ('targets') that we have?"
   ]
  },
  {
   "cell_type": "code",
   "execution_count": null,
   "metadata": {},
   "outputs": [],
   "source": []
  },
  {
   "cell_type": "code",
   "execution_count": null,
   "metadata": {},
   "outputs": [],
   "source": []
  },
  {
   "cell_type": "code",
   "execution_count": null,
   "metadata": {},
   "outputs": [],
   "source": []
  },
  {
   "cell_type": "code",
   "execution_count": 7,
   "metadata": {},
   "outputs": [
    {
     "data": {
      "text/html": [
       "<div>\n",
       "<style scoped>\n",
       "    .dataframe tbody tr th:only-of-type {\n",
       "        vertical-align: middle;\n",
       "    }\n",
       "\n",
       "    .dataframe tbody tr th {\n",
       "        vertical-align: top;\n",
       "    }\n",
       "\n",
       "    .dataframe thead th {\n",
       "        text-align: right;\n",
       "    }\n",
       "</style>\n",
       "<table border=\"1\" class=\"dataframe\">\n",
       "  <thead>\n",
       "    <tr style=\"text-align: right;\">\n",
       "      <th></th>\n",
       "      <th>sepal_length</th>\n",
       "      <th>sepal_width</th>\n",
       "      <th>petal_length</th>\n",
       "      <th>petal_width</th>\n",
       "      <th>species</th>\n",
       "    </tr>\n",
       "  </thead>\n",
       "  <tbody>\n",
       "    <tr>\n",
       "      <th>145</th>\n",
       "      <td>6.7</td>\n",
       "      <td>3.0</td>\n",
       "      <td>5.2</td>\n",
       "      <td>2.3</td>\n",
       "      <td>1</td>\n",
       "    </tr>\n",
       "    <tr>\n",
       "      <th>146</th>\n",
       "      <td>6.3</td>\n",
       "      <td>2.5</td>\n",
       "      <td>5.0</td>\n",
       "      <td>1.9</td>\n",
       "      <td>1</td>\n",
       "    </tr>\n",
       "    <tr>\n",
       "      <th>147</th>\n",
       "      <td>6.5</td>\n",
       "      <td>3.0</td>\n",
       "      <td>5.2</td>\n",
       "      <td>2.0</td>\n",
       "      <td>1</td>\n",
       "    </tr>\n",
       "    <tr>\n",
       "      <th>148</th>\n",
       "      <td>6.2</td>\n",
       "      <td>3.4</td>\n",
       "      <td>5.4</td>\n",
       "      <td>2.3</td>\n",
       "      <td>1</td>\n",
       "    </tr>\n",
       "    <tr>\n",
       "      <th>149</th>\n",
       "      <td>5.9</td>\n",
       "      <td>3.0</td>\n",
       "      <td>5.1</td>\n",
       "      <td>1.8</td>\n",
       "      <td>1</td>\n",
       "    </tr>\n",
       "  </tbody>\n",
       "</table>\n",
       "</div>"
      ],
      "text/plain": [
       "     sepal_length  sepal_width  petal_length  petal_width  species\n",
       "145           6.7          3.0           5.2          2.3        1\n",
       "146           6.3          2.5           5.0          1.9        1\n",
       "147           6.5          3.0           5.2          2.0        1\n",
       "148           6.2          3.4           5.4          2.3        1\n",
       "149           5.9          3.0           5.1          1.8        1"
      ]
     },
     "execution_count": 7,
     "metadata": {},
     "output_type": "execute_result"
    }
   ],
   "source": [
    "df[\"species\"].replace({\"Iris-setosa\":0,\"Iris-virginica\":1,\"Iris-versicolor\":2},inplace=True)\n",
    "df.tail()"
   ]
  },
  {
   "cell_type": "code",
   "execution_count": 8,
   "metadata": {},
   "outputs": [
    {
     "data": {
      "image/png": "[encoded data removed]",
      "text/plain": [
       "<Figure size 432x288 with 1 Axes>"
      ]
     },
     "metadata": {
      "needs_background": "light"
     },
     "output_type": "display_data"
    }
   ],
   "source": [
    "plt.scatter(df['sepal_width'],df['petal_width'],c=df.species);"
   ]
  },
  {
   "cell_type": "code",
   "execution_count": 11,
   "metadata": {},
   "outputs": [
    {
     "data": {
      "image/png": "[encoded data removed]",
      "text/plain": [
       "<Figure size 432x288 with 1 Axes>"
      ]
     },
     "metadata": {
      "needs_background": "light"
     },
     "output_type": "display_data"
    }
   ],
   "source": [
    "plt.scatter(df['sepal_length'],df['petal_length'],c=df.species);"
   ]
  },
  {
   "cell_type": "code",
   "execution_count": 10,
   "metadata": {},
   "outputs": [],
   "source": [
    "#plt.scatter?"
   ]
  },
  {
   "cell_type": "markdown",
   "metadata": {},
   "source": [
    "-   Neural networks do not only use linear functions to separate the data\n",
    "-   [https://playground.tensorflow.org/](https://playground.tensorflow.org/)\n",
    "\n",
    "Before estimating a neural network, it is a good idea to standardize the features. No need to standardize the labels.\n",
    "\n"
   ]
  },
  {
   "cell_type": "code",
   "execution_count": 11,
   "metadata": {},
   "outputs": [],
   "source": [
    "X = np.zeros([150,4])\n",
    "i = 0\n",
    "for col in df.columns[0:4]:\n",
    "    x = df[col].values\n",
    "    X[:,i] = (x-x.mean())/x.std()\n",
    "    i += 1\n",
    "\n",
    "y = df['species'].values"
   ]
  },
  {
   "cell_type": "markdown",
   "metadata": {},
   "source": [
    "-   Ignoring for now splitting the data into test and train set\n",
    "\n"
   ]
  },
  {
   "cell_type": "code",
   "execution_count": 12,
   "metadata": {},
   "outputs": [],
   "source": [
    "model = keras.Sequential([\n",
    "    keras.layers.Dense(20, input_dim = 4, activation='relu'), # input layer\n",
    "    keras.layers.Dense(10, activation = 'relu'),              # hidden\n",
    "    keras.layers.Dense(3, activation = 'softmax')             # output\n",
    "    ])\n",
    "\n",
    "model.compile(optimizer='adam',\n",
    "              loss='sparse_categorical_crossentropy',\n",
    "              metrics=['accuracy'])"
   ]
  },
  {
   "cell_type": "code",
   "execution_count": 13,
   "metadata": {},
   "outputs": [
    {
     "name": "stdout",
     "output_type": "stream",
     "text": [
      "Epoch 1/10\n",
      "5/5 [==============================] - 1s 2ms/step - loss: 0.9703 - accuracy: 0.3800\n",
      "Epoch 2/10\n",
      "5/5 [==============================] - 0s 20ms/step - loss: 0.9244 - accuracy: 0.5533\n",
      "Epoch 3/10\n",
      "5/5 [==============================] - 0s 2ms/step - loss: 0.8841 - accuracy: 0.6600\n",
      "Epoch 4/10\n",
      "5/5 [==============================] - 0s 22ms/step - loss: 0.8480 - accuracy: 0.6600\n",
      "Epoch 5/10\n",
      "5/5 [==============================] - 0s 1ms/step - loss: 0.8147 - accuracy: 0.6600\n",
      "Epoch 6/10\n",
      "5/5 [==============================] - 0s 1ms/step - loss: 0.7842 - accuracy: 0.6667\n",
      "Epoch 7/10\n",
      "5/5 [==============================] - 0s 2ms/step - loss: 0.7552 - accuracy: 0.6867\n",
      "Epoch 8/10\n",
      "5/5 [==============================] - 0s 1ms/step - loss: 0.7281 - accuracy: 0.7067\n",
      "Epoch 9/10\n",
      "5/5 [==============================] - 0s 2ms/step - loss: 0.7033 - accuracy: 0.7600\n",
      "Epoch 10/10\n",
      "5/5 [==============================] - 0s 1ms/step - loss: 0.6788 - accuracy: 0.7733\n"
     ]
    },
    {
     "data": {
      "text/plain": [
       "<keras.callbacks.History at 0x7fcbc464dd60>"
      ]
     },
     "execution_count": 13,
     "metadata": {},
     "output_type": "execute_result"
    }
   ],
   "source": [
    "model.fit(X,y,epochs=10)"
   ]
  },
  {
   "cell_type": "code",
   "execution_count": 15,
   "metadata": {},
   "outputs": [
    {
     "data": {
      "text/plain": [
       "<tf.Tensor: shape=(3, 3), dtype=int32, numpy=\n",
       "array([[50,  0,  0],\n",
       "       [ 0, 50,  0],\n",
       "       [ 3, 30, 17]], dtype=int32)>"
      ]
     },
     "execution_count": 15,
     "metadata": {},
     "output_type": "execute_result"
    }
   ],
   "source": [
    "y_pred = (model.predict(X)).argmax(axis=1)\n",
    "matrix = tf.math.confusion_matrix(y, y_pred)\n",
    "matrix"
   ]
  },
  {
   "cell_type": "code",
   "execution_count": 16,
   "metadata": {},
   "outputs": [],
   "source": [
    "#tf.math.confusion_matrix?"
   ]
  },
  {
   "cell_type": "markdown",
   "metadata": {},
   "source": [
    "### using history to check for over/under fitting\n",
    "\n"
   ]
  },
  {
   "cell_type": "markdown",
   "metadata": {},
   "source": [
    "-   neural network with the handwritten digits data set\n",
    "-   use `history` method to fine tune the number of epochs to avoid under/over-fitting\n",
    "\n"
   ]
  },
  {
   "cell_type": "code",
   "execution_count": 19,
   "metadata": {
    "collapsed": true,
    "jupyter": {
     "outputs_hidden": true
    },
    "tags": []
   },
   "outputs": [
    {
     "name": "stdout",
     "output_type": "stream",
     "text": [
      "Epoch 1/60\n",
      "118/118 [==============================] - 4s 31ms/step - loss: 9.5620 - accuracy: 0.8306 - val_loss: 2.7458 - val_accuracy: 0.9043\n",
      "Epoch 2/60\n",
      "118/118 [==============================] - 3s 23ms/step - loss: 1.8660 - accuracy: 0.9187 - val_loss: 1.6974 - val_accuracy: 0.9229\n",
      "Epoch 3/60\n",
      "118/118 [==============================] - 3s 27ms/step - loss: 1.1418 - accuracy: 0.9353 - val_loss: 1.2136 - val_accuracy: 0.9339\n",
      "Epoch 4/60\n",
      "118/118 [==============================] - 3s 24ms/step - loss: 0.7269 - accuracy: 0.9497 - val_loss: 1.1253 - val_accuracy: 0.9355\n",
      "Epoch 5/60\n",
      "118/118 [==============================] - 3s 23ms/step - loss: 0.5330 - accuracy: 0.9579 - val_loss: 1.0058 - val_accuracy: 0.9376\n",
      "Epoch 6/60\n",
      "118/118 [==============================] - 3s 23ms/step - loss: 0.4081 - accuracy: 0.9636 - val_loss: 0.8819 - val_accuracy: 0.9435\n",
      "Epoch 7/60\n",
      "118/118 [==============================] - 3s 25ms/step - loss: 0.3079 - accuracy: 0.9690 - val_loss: 0.8137 - val_accuracy: 0.9470\n",
      "Epoch 8/60\n",
      "118/118 [==============================] - 3s 22ms/step - loss: 0.2421 - accuracy: 0.9730 - val_loss: 0.8195 - val_accuracy: 0.9460\n",
      "Epoch 9/60\n",
      "118/118 [==============================] - 3s 22ms/step - loss: 0.1882 - accuracy: 0.9769 - val_loss: 0.7609 - val_accuracy: 0.9509\n",
      "Epoch 10/60\n",
      "118/118 [==============================] - 3s 25ms/step - loss: 0.1602 - accuracy: 0.9786 - val_loss: 0.7576 - val_accuracy: 0.9530\n",
      "Epoch 11/60\n",
      "118/118 [==============================] - 3s 22ms/step - loss: 0.1243 - accuracy: 0.9819 - val_loss: 0.7605 - val_accuracy: 0.9495\n",
      "Epoch 12/60\n",
      "118/118 [==============================] - 3s 22ms/step - loss: 0.1139 - accuracy: 0.9831 - val_loss: 0.7471 - val_accuracy: 0.9537\n",
      "Epoch 13/60\n",
      "118/118 [==============================] - 3s 22ms/step - loss: 0.1105 - accuracy: 0.9824 - val_loss: 0.7231 - val_accuracy: 0.9541\n",
      "Epoch 14/60\n",
      "118/118 [==============================] - 3s 24ms/step - loss: 0.1024 - accuracy: 0.9846 - val_loss: 0.6800 - val_accuracy: 0.9570\n",
      "Epoch 15/60\n",
      "118/118 [==============================] - 3s 25ms/step - loss: 0.0688 - accuracy: 0.9883 - val_loss: 0.7192 - val_accuracy: 0.9547\n",
      "Epoch 16/60\n",
      "118/118 [==============================] - 3s 23ms/step - loss: 0.0691 - accuracy: 0.9880 - val_loss: 0.7380 - val_accuracy: 0.9552\n",
      "Epoch 17/60\n",
      "118/118 [==============================] - 3s 23ms/step - loss: 0.0605 - accuracy: 0.9888 - val_loss: 0.6864 - val_accuracy: 0.9569\n",
      "Epoch 18/60\n",
      "118/118 [==============================] - 3s 21ms/step - loss: 0.0574 - accuracy: 0.9891 - val_loss: 0.6736 - val_accuracy: 0.9564\n",
      "Epoch 19/60\n",
      "118/118 [==============================] - 3s 21ms/step - loss: 0.0700 - accuracy: 0.9874 - val_loss: 0.6868 - val_accuracy: 0.9568\n",
      "Epoch 20/60\n",
      "118/118 [==============================] - 3s 22ms/step - loss: 0.0628 - accuracy: 0.9888 - val_loss: 0.6993 - val_accuracy: 0.9587\n",
      "Epoch 21/60\n",
      "118/118 [==============================] - 2s 21ms/step - loss: 0.0543 - accuracy: 0.9898 - val_loss: 0.6912 - val_accuracy: 0.9595\n",
      "Epoch 22/60\n",
      "118/118 [==============================] - 3s 22ms/step - loss: 0.0598 - accuracy: 0.9900 - val_loss: 0.7296 - val_accuracy: 0.9592\n",
      "Epoch 23/60\n",
      "118/118 [==============================] - 3s 23ms/step - loss: 0.0605 - accuracy: 0.9895 - val_loss: 0.7073 - val_accuracy: 0.9579\n",
      "Epoch 24/60\n",
      "118/118 [==============================] - 3s 22ms/step - loss: 0.0623 - accuracy: 0.9894 - val_loss: 0.7222 - val_accuracy: 0.9586\n",
      "Epoch 25/60\n",
      "118/118 [==============================] - 3s 21ms/step - loss: 0.0462 - accuracy: 0.9916 - val_loss: 0.7166 - val_accuracy: 0.9590\n",
      "Epoch 26/60\n",
      "118/118 [==============================] - 3s 22ms/step - loss: 0.0547 - accuracy: 0.9907 - val_loss: 0.6894 - val_accuracy: 0.9600\n",
      "Epoch 27/60\n",
      "118/118 [==============================] - 3s 22ms/step - loss: 0.0522 - accuracy: 0.9908 - val_loss: 0.7070 - val_accuracy: 0.9618\n",
      "Epoch 28/60\n",
      "118/118 [==============================] - 3s 23ms/step - loss: 0.0560 - accuracy: 0.9902 - val_loss: 0.6972 - val_accuracy: 0.9621\n",
      "Epoch 29/60\n",
      "118/118 [==============================] - 3s 22ms/step - loss: 0.0947 - accuracy: 0.9866 - val_loss: 0.7042 - val_accuracy: 0.9606\n",
      "Epoch 30/60\n",
      "118/118 [==============================] - 3s 23ms/step - loss: 0.0641 - accuracy: 0.9897 - val_loss: 0.7249 - val_accuracy: 0.9613\n",
      "Epoch 31/60\n",
      "118/118 [==============================] - 3s 24ms/step - loss: 0.0609 - accuracy: 0.9906 - val_loss: 0.6760 - val_accuracy: 0.9619\n",
      "Epoch 32/60\n",
      "118/118 [==============================] - 3s 23ms/step - loss: 0.0534 - accuracy: 0.9912 - val_loss: 0.7260 - val_accuracy: 0.9628\n",
      "Epoch 33/60\n",
      "118/118 [==============================] - 3s 26ms/step - loss: 0.0654 - accuracy: 0.9908 - val_loss: 0.7643 - val_accuracy: 0.9623\n",
      "Epoch 34/60\n",
      "118/118 [==============================] - 3s 23ms/step - loss: 0.0575 - accuracy: 0.9914 - val_loss: 0.7175 - val_accuracy: 0.9621\n",
      "Epoch 35/60\n",
      "118/118 [==============================] - 3s 25ms/step - loss: 0.0589 - accuracy: 0.9906 - val_loss: 0.6589 - val_accuracy: 0.9638\n",
      "Epoch 36/60\n",
      "118/118 [==============================] - 3s 24ms/step - loss: 0.0599 - accuracy: 0.9918 - val_loss: 0.7148 - val_accuracy: 0.9641\n",
      "Epoch 37/60\n",
      "118/118 [==============================] - 3s 25ms/step - loss: 0.0612 - accuracy: 0.9915 - val_loss: 0.6849 - val_accuracy: 0.9623\n",
      "Epoch 38/60\n",
      "118/118 [==============================] - 3s 22ms/step - loss: 0.0658 - accuracy: 0.9909 - val_loss: 0.6664 - val_accuracy: 0.9660\n",
      "Epoch 39/60\n",
      "118/118 [==============================] - 3s 22ms/step - loss: 0.0555 - accuracy: 0.9913 - val_loss: 0.6923 - val_accuracy: 0.9673\n",
      "Epoch 40/60\n",
      "118/118 [==============================] - 3s 22ms/step - loss: 0.0524 - accuracy: 0.9920 - val_loss: 0.6976 - val_accuracy: 0.9663\n",
      "Epoch 41/60\n",
      "118/118 [==============================] - 3s 26ms/step - loss: 0.0453 - accuracy: 0.9928 - val_loss: 0.7111 - val_accuracy: 0.9685\n",
      "Epoch 42/60\n",
      "118/118 [==============================] - 3s 22ms/step - loss: 0.0460 - accuracy: 0.9930 - val_loss: 0.6756 - val_accuracy: 0.9679\n",
      "Epoch 43/60\n",
      "118/118 [==============================] - 3s 22ms/step - loss: 0.0561 - accuracy: 0.9919 - val_loss: 0.7570 - val_accuracy: 0.9629\n",
      "Epoch 44/60\n",
      "118/118 [==============================] - 3s 23ms/step - loss: 0.0724 - accuracy: 0.9905 - val_loss: 0.6831 - val_accuracy: 0.9647\n",
      "Epoch 45/60\n",
      "118/118 [==============================] - 3s 21ms/step - loss: 0.0630 - accuracy: 0.9916 - val_loss: 0.7271 - val_accuracy: 0.9675\n",
      "Epoch 46/60\n",
      "118/118 [==============================] - 3s 22ms/step - loss: 0.0385 - accuracy: 0.9941 - val_loss: 0.6794 - val_accuracy: 0.9694\n",
      "Epoch 47/60\n",
      "118/118 [==============================] - 2s 21ms/step - loss: 0.0296 - accuracy: 0.9954 - val_loss: 0.7076 - val_accuracy: 0.9663\n",
      "Epoch 48/60\n",
      "118/118 [==============================] - 2s 21ms/step - loss: 0.0343 - accuracy: 0.9948 - val_loss: 0.6660 - val_accuracy: 0.9679\n",
      "Epoch 49/60\n",
      "118/118 [==============================] - 2s 21ms/step - loss: 0.0619 - accuracy: 0.9918 - val_loss: 0.7450 - val_accuracy: 0.9667\n",
      "Epoch 50/60\n",
      "118/118 [==============================] - 2s 21ms/step - loss: 0.0542 - accuracy: 0.9929 - val_loss: 0.7222 - val_accuracy: 0.9666\n",
      "Epoch 51/60\n",
      "118/118 [==============================] - 3s 22ms/step - loss: 0.0398 - accuracy: 0.9939 - val_loss: 0.6565 - val_accuracy: 0.9681\n",
      "Epoch 52/60\n",
      "118/118 [==============================] - 3s 23ms/step - loss: 0.0385 - accuracy: 0.9944 - val_loss: 0.6729 - val_accuracy: 0.9686\n",
      "Epoch 53/60\n",
      "118/118 [==============================] - 3s 23ms/step - loss: 0.0308 - accuracy: 0.9956 - val_loss: 0.6772 - val_accuracy: 0.9706\n",
      "Epoch 54/60\n",
      "118/118 [==============================] - 3s 24ms/step - loss: 0.0342 - accuracy: 0.9952 - val_loss: 0.8163 - val_accuracy: 0.9646\n",
      "Epoch 55/60\n",
      "118/118 [==============================] - 3s 22ms/step - loss: 0.0503 - accuracy: 0.9931 - val_loss: 0.8248 - val_accuracy: 0.9665\n",
      "Epoch 56/60\n",
      "118/118 [==============================] - 3s 22ms/step - loss: 0.0665 - accuracy: 0.9919 - val_loss: 0.8634 - val_accuracy: 0.9642\n",
      "Epoch 57/60\n",
      "118/118 [==============================] - 3s 22ms/step - loss: 0.0602 - accuracy: 0.9927 - val_loss: 0.7637 - val_accuracy: 0.9691\n",
      "Epoch 58/60\n",
      "118/118 [==============================] - 3s 21ms/step - loss: 0.0361 - accuracy: 0.9954 - val_loss: 0.6969 - val_accuracy: 0.9687\n",
      "Epoch 59/60\n",
      "118/118 [==============================] - 3s 21ms/step - loss: 0.0294 - accuracy: 0.9955 - val_loss: 0.8255 - val_accuracy: 0.9678\n",
      "Epoch 60/60\n",
      "118/118 [==============================] - 2s 21ms/step - loss: 0.0420 - accuracy: 0.9949 - val_loss: 0.7614 - val_accuracy: 0.9679\n"
     ]
    }
   ],
   "source": [
    "(train_images, train_labels), (test_images, test_labels) = tf.keras.datasets.mnist.load_data()\n",
    "\n",
    "model = keras.Sequential([\n",
    "    keras.layers.Flatten(input_shape=(28, 28)),\n",
    "    keras.layers.Dense(128, activation='relu'),\n",
    "    keras.layers.Dense(10, activation='softmax')\n",
    "])\n",
    "\n",
    "model.compile(optimizer='adam',\n",
    "              loss='sparse_categorical_crossentropy',\n",
    "              metrics=['accuracy'])\n",
    "\n",
    "\n",
    "history = model.fit(train_images,\n",
    "                    train_labels,\n",
    "                    epochs=60,\n",
    "                    batch_size=512,\n",
    "                    validation_data=(test_images, test_labels))"
   ]
  },
  {
   "cell_type": "code",
   "execution_count": 20,
   "metadata": {},
   "outputs": [
    {
     "data": {
      "image/png": "[encoded data removed]",
      "text/plain": [
       "<Figure size 432x288 with 1 Axes>"
      ]
     },
     "metadata": {
      "needs_background": "light"
     },
     "output_type": "display_data"
    }
   ],
   "source": [
    "loss = history.history['loss'][1:]\n",
    "val_loss = history.history['val_loss'][1:]\n",
    "\n",
    "epochs = range(1, len(loss)+1)\n",
    "\n",
    "plt.plot(epochs, loss, 'bo', label='Training loss')\n",
    "plt.plot(epochs, val_loss, 'b', label='Validation loss')\n",
    "plt.title('Training and validation loss')\n",
    "plt.xlabel('Epochs')\n",
    "plt.ylabel('Loss')\n",
    "plt.legend()\n",
    "plt.show()"
   ]
  },
  {
   "cell_type": "markdown",
   "metadata": {},
   "source": [
    "#### TODO experiment with architecture: number of nodes and layers; e.g. try to over- or under-fit\n",
    "\n"
   ]
  },
  {
   "cell_type": "markdown",
   "metadata": {},
   "source": [
    "### treatment effects:\n",
    "\n"
   ]
  },
  {
   "cell_type": "markdown",
   "metadata": {},
   "source": [
    "-   to stress the difference between prediction (above) and causality, we finish with a causal problem\n",
    "    -   we program our own data to see how IV works in identifying causal effects\n",
    "    -   what can we identify if the effects of a program differ by group?\n",
    "\n",
    "When examining the effect of education (e) on wage rate (w), there can be a confounding effect: personal motivation (u). This we call a &ldquo;fork&rdquo;. Regressing $e$ on $w$ will not give us the effect of education on the income you will earn.\n",
    "\n",
    "But if you want to predict wage, make sure you include education in your regression!\n",
    "\n",
    "We need an exogenous variation in $e$ to find the causal effect: e.g. the month that you go to (or leave) school.\n",
    "\n",
    "-   we generate our own data where $e$ has no effect on $w$\n",
    "-   running the regression of $w$ on $e$ shows that a correlation exists\n",
    "-   using an instrumental variable, we recover that this correlation is not a causal effect\n",
    "-   the assumption here is that the effect of $e$ on $w$ is the same for everyone\n",
    "\n",
    "Heterogeneous treatment effects:\n",
    "\n",
    "-   we allow different groups of unemployed (compliers, always-takers and never-takers) to be affected differently by training\n",
    "-   under which conditions can we identify the correct effects of training?\n",
    "\n",
    "We generate the data with:\n",
    "\n"
   ]
  },
  {
   "cell_type": "code",
   "execution_count": 21,
   "metadata": {},
   "outputs": [
    {
     "data": {
      "text/html": [
       "<div>\n",
       "<style scoped>\n",
       "    .dataframe tbody tr th:only-of-type {\n",
       "        vertical-align: middle;\n",
       "    }\n",
       "\n",
       "    .dataframe tbody tr th {\n",
       "        vertical-align: top;\n",
       "    }\n",
       "\n",
       "    .dataframe thead th {\n",
       "        text-align: right;\n",
       "    }\n",
       "</style>\n",
       "<table border=\"1\" class=\"dataframe\">\n",
       "  <thead>\n",
       "    <tr style=\"text-align: right;\">\n",
       "      <th></th>\n",
       "      <th>invited</th>\n",
       "      <th>trained</th>\n",
       "      <th>earnings</th>\n",
       "    </tr>\n",
       "  </thead>\n",
       "  <tbody>\n",
       "    <tr>\n",
       "      <th>0</th>\n",
       "      <td>1</td>\n",
       "      <td>1</td>\n",
       "      <td>2.522023</td>\n",
       "    </tr>\n",
       "    <tr>\n",
       "      <th>1</th>\n",
       "      <td>1</td>\n",
       "      <td>1</td>\n",
       "      <td>3.518007</td>\n",
       "    </tr>\n",
       "    <tr>\n",
       "      <th>2</th>\n",
       "      <td>0</td>\n",
       "      <td>0</td>\n",
       "      <td>1.136632</td>\n",
       "    </tr>\n",
       "    <tr>\n",
       "      <th>3</th>\n",
       "      <td>0</td>\n",
       "      <td>0</td>\n",
       "      <td>1.591541</td>\n",
       "    </tr>\n",
       "    <tr>\n",
       "      <th>4</th>\n",
       "      <td>0</td>\n",
       "      <td>0</td>\n",
       "      <td>0.057569</td>\n",
       "    </tr>\n",
       "  </tbody>\n",
       "</table>\n",
       "</div>"
      ],
      "text/plain": [
       "   invited  trained  earnings\n",
       "0        1        1  2.522023\n",
       "1        1        1  3.518007\n",
       "2        0        0  1.136632\n",
       "3        0        0  1.591541\n",
       "4        0        0  0.057569"
      ]
     },
     "execution_count": 21,
     "metadata": {},
     "output_type": "execute_result"
    }
   ],
   "source": [
    "def accept_complier(invited):\n",
    "    return invited\n",
    "\n",
    "def accept_always(invited):\n",
    "    return np.ones_like(invited)\n",
    "\n",
    "def accept_never(invited):\n",
    "    return np.zeros_like(invited)\n",
    "\n",
    "N_simulations = 10000\n",
    "fraction_training = 0.2 # 20% of agents are invited to the training\n",
    "types = ['complier','always_taker', 'never_taker']\n",
    "β = {'complier': 1, 'always_taker': 2, 'never_taker': 1}\n",
    "τ = {'complier': 3, 'always_taker': 4, 'never_taker': 1}\n",
    "n = {'complier': 0.5, 'always_taker': 0.25, 'never_taker': 0.25}\n",
    "accept = {'complier': accept_complier, 'always_taker': accept_always, 'never_taker': accept_never} # note that this dictionary returns a function\n",
    "earnings_without = {}\n",
    "training_effect = {}\n",
    "earnings = {}\n",
    "invited = {}\n",
    "trained = {}\n",
    "df = pd.DataFrame()\n",
    "def data_simulation(β = β, τ=τ, n = n):\n",
    "    for j in types:\n",
    "        earnings_without[j] = np.random.normal(loc = β[j], scale = 1.0, size = int(n[j]*N_simulations))\n",
    "        training_effect[j] = np.random.normal(loc = τ[j], scale = 1.0, size = int(n[j]*N_simulations))\n",
    "        invited[j] = np.random.binomial(1,fraction_training,size = int(n[j]*N_simulations))\n",
    "        trained[j] = accept[j](invited[j])\n",
    "        earnings[j] = earnings_without[j]+ trained[j]*training_effect[j]\n",
    "    column_invited = np.concatenate([invited[j] for j in types],axis=0)\n",
    "    column_trained = np.concatenate([trained[j] for j in types],axis=0)\n",
    "    column_earnings = np.concatenate([earnings[j] for j in types],axis=0)\n",
    "    df = pd.DataFrame({'invited':column_invited, 'trained':column_trained,'earnings':column_earnings})\n",
    "    return df\n",
    "\n",
    "df = data_simulation()\n",
    "df.head()"
   ]
  },
  {
   "cell_type": "markdown",
   "metadata": {},
   "source": [
    "Once we have this data, we can try different identification measures to see which of the parameters above we can recover from the data in the dataframe.\n",
    "\n",
    "| |%|trained|untrained| β | β + τ |\n",
    "|---|---|---|---|---|---|\n",
    "| complier|0.5|0.1|0.4|1|4|\n",
    "| always taker|0.25|0.25|0|2|6|\n",
    "| never taker|0.25|0|0.25|1|2|\n",
    "\n",
    "In the notebook we go over a number of estimation techniques to see under which conditions a given technique can recover the relevant parameter values.\n",
    "\n"
   ]
  },
  {
   "cell_type": "markdown",
   "metadata": {},
   "source": [
    "## aside setting seed for random numbers\n",
    "\n",
    "When you run the code above, you will get different random numbers from the ones above. If you want to avoid this (e.g. to make your results reproducible for someone else), you can set a seed:"
   ]
  },
  {
   "cell_type": "code",
   "execution_count": 2,
   "metadata": {},
   "outputs": [
    {
     "name": "stdout",
     "output_type": "stream",
     "text": [
      "[ 0.70816305  1.28592476 -0.69510559 -0.76328444 -0.93323025]\n",
      "[ 0.07418842 -0.72680535 -0.01221299 -0.0391326  -0.20510314]\n"
     ]
    }
   ],
   "source": [
    "print(np.random.normal(0,1,size=5))\n",
    "print(np.random.normal(0,1,size=5))"
   ]
  },
  {
   "cell_type": "code",
   "execution_count": 3,
   "metadata": {},
   "outputs": [
    {
     "name": "stdout",
     "output_type": "stream",
     "text": [
      "[-1.0856306   0.99734545  0.2829785  -1.50629471 -0.57860025]\n",
      "[-1.0856306   0.99734545  0.2829785  -1.50629471 -0.57860025]\n"
     ]
    }
   ],
   "source": [
    "np.random.seed(123)\n",
    "print(np.random.normal(0,1,size=5))\n",
    "np.random.seed(123)\n",
    "print(np.random.normal(0,1,size=5))"
   ]
  },
  {
   "cell_type": "markdown",
   "metadata": {},
   "source": [
    "# next lecture: getting data\n",
    "\n"
   ]
  },
  {
   "cell_type": "markdown",
   "metadata": {},
   "source": [
    "#### TODO upload `country_code.py` file on jupyterlab\n",
    "\n"
   ]
  },
  {
   "cell_type": "markdown",
   "metadata": {},
   "source": [
    "We look at the data for each variable, decide on the shape we want to have for the dataframe and then merge a number of data sets together. For this we will be using pandas. Further, we use the python file `country_codes.py` which should be in the same folder as this notebook.\n",
    "\n",
    "We focus on the following countries when looking at the data. For the Eurostat data this does not matter so much. But if you want to combine Eurostat data with OECD data, this selection can be useful.\n",
    "\n"
   ]
  },
  {
   "cell_type": "code",
   "execution_count": 35,
   "metadata": {},
   "outputs": [],
   "source": [
    "EU_countries = ['Belgium', 'Bulgaria', 'Czechia', 'Denmark',\n",
    "'Germany (until 1990 former territory of the FRG)', 'Germany','Estonia',\n",
    "'Ireland', 'Greece', 'Spain', 'France', 'Croatia', 'Italy',\n",
    "'Cyprus', 'Latvia', 'Lithuania', 'Luxembourg', 'Hungary', 'Malta',\n",
    "'Netherlands', 'Austria', 'Poland', 'Portugal', 'Romania',\n",
    "'Slovenia', 'Slovakia', 'Finland', 'Sweden', 'United Kingdom',\n",
    "'Iceland', 'Liechtenstein', 'Norway', 'Switzerland',\n",
    "'Bosnia and Herzegovina']"
   ]
  },
  {
   "cell_type": "markdown",
   "metadata": {},
   "source": [
    "#### Mortality\n",
    "\n"
   ]
  },
  {
   "cell_type": "markdown",
   "metadata": {},
   "source": [
    "The [Eurostat website](https://ec.europa.eu/eurostat/data/database?node_code=hlth_cd_apr) has a browser where you can look for data. Here we are looking for data on mortality. You can click on the link to the data browser to see the [details of the variable](https://ec.europa.eu/eurostat/databrowser/view/hlth_cd_apr/default/table?lang=en). At the top-left of the screen you can see the name of the variable in the line &ldquo;`online data code: HLTH_CD_APR`&rdquo;. The name of this variable we use below in the `get_data_df` method.\n",
    "\n",
    "So we call this method and collect the information in the dataframe `df`. Then we check what `df` looks like:\n",
    "\n"
   ]
  },
  {
   "cell_type": "code",
   "execution_count": 36,
   "metadata": {},
   "outputs": [
    {
     "data": {
      "text/html": [
       "<div>\n",
       "<style scoped>\n",
       "    .dataframe tbody tr th:only-of-type {\n",
       "        vertical-align: middle;\n",
       "    }\n",
       "\n",
       "    .dataframe tbody tr th {\n",
       "        vertical-align: top;\n",
       "    }\n",
       "\n",
       "    .dataframe thead th {\n",
       "        text-align: right;\n",
       "    }\n",
       "</style>\n",
       "<table border=\"1\" class=\"dataframe\">\n",
       "  <thead>\n",
       "    <tr style=\"text-align: right;\">\n",
       "      <th></th>\n",
       "      <th>mortalit</th>\n",
       "      <th>sex</th>\n",
       "      <th>icd10</th>\n",
       "      <th>unit</th>\n",
       "      <th>geo\\time</th>\n",
       "      <th>2018</th>\n",
       "      <th>2017</th>\n",
       "      <th>2016</th>\n",
       "      <th>2015</th>\n",
       "      <th>2014</th>\n",
       "      <th>2013</th>\n",
       "      <th>2012</th>\n",
       "      <th>2011</th>\n",
       "    </tr>\n",
       "  </thead>\n",
       "  <tbody>\n",
       "    <tr>\n",
       "      <th>0</th>\n",
       "      <td>PRVT</td>\n",
       "      <td>F</td>\n",
       "      <td>A00-A09</td>\n",
       "      <td>NR</td>\n",
       "      <td>AT</td>\n",
       "      <td>8.0</td>\n",
       "      <td>10.0</td>\n",
       "      <td>15.0</td>\n",
       "      <td>5.0</td>\n",
       "      <td>6.0</td>\n",
       "      <td>9.0</td>\n",
       "      <td>12.0</td>\n",
       "      <td>7.0</td>\n",
       "    </tr>\n",
       "    <tr>\n",
       "      <th>1</th>\n",
       "      <td>PRVT</td>\n",
       "      <td>F</td>\n",
       "      <td>A00-A09</td>\n",
       "      <td>NR</td>\n",
       "      <td>BE</td>\n",
       "      <td>26.0</td>\n",
       "      <td>45.0</td>\n",
       "      <td>27.0</td>\n",
       "      <td>26.0</td>\n",
       "      <td>26.0</td>\n",
       "      <td>20.0</td>\n",
       "      <td>11.0</td>\n",
       "      <td>25.0</td>\n",
       "    </tr>\n",
       "    <tr>\n",
       "      <th>2</th>\n",
       "      <td>PRVT</td>\n",
       "      <td>F</td>\n",
       "      <td>A00-A09</td>\n",
       "      <td>NR</td>\n",
       "      <td>BG</td>\n",
       "      <td>3.0</td>\n",
       "      <td>4.0</td>\n",
       "      <td>7.0</td>\n",
       "      <td>13.0</td>\n",
       "      <td>11.0</td>\n",
       "      <td>10.0</td>\n",
       "      <td>4.0</td>\n",
       "      <td>5.0</td>\n",
       "    </tr>\n",
       "    <tr>\n",
       "      <th>3</th>\n",
       "      <td>PRVT</td>\n",
       "      <td>F</td>\n",
       "      <td>A00-A09</td>\n",
       "      <td>NR</td>\n",
       "      <td>CH</td>\n",
       "      <td>11.0</td>\n",
       "      <td>13.0</td>\n",
       "      <td>13.0</td>\n",
       "      <td>5.0</td>\n",
       "      <td>9.0</td>\n",
       "      <td>9.0</td>\n",
       "      <td>14.0</td>\n",
       "      <td>14.0</td>\n",
       "    </tr>\n",
       "    <tr>\n",
       "      <th>4</th>\n",
       "      <td>PRVT</td>\n",
       "      <td>F</td>\n",
       "      <td>A00-A09</td>\n",
       "      <td>NR</td>\n",
       "      <td>CY</td>\n",
       "      <td>2.0</td>\n",
       "      <td>2.0</td>\n",
       "      <td>0.0</td>\n",
       "      <td>0.0</td>\n",
       "      <td>0.0</td>\n",
       "      <td>1.0</td>\n",
       "      <td>1.0</td>\n",
       "      <td>6.0</td>\n",
       "    </tr>\n",
       "  </tbody>\n",
       "</table>\n",
       "</div>"
      ],
      "text/plain": [
       "  mortalit sex    icd10 unit geo\\time  2018  2017  2016  2015  2014  2013  \\\n",
       "0     PRVT   F  A00-A09   NR       AT   8.0  10.0  15.0   5.0   6.0   9.0   \n",
       "1     PRVT   F  A00-A09   NR       BE  26.0  45.0  27.0  26.0  26.0  20.0   \n",
       "2     PRVT   F  A00-A09   NR       BG   3.0   4.0   7.0  13.0  11.0  10.0   \n",
       "3     PRVT   F  A00-A09   NR       CH  11.0  13.0  13.0   5.0   9.0   9.0   \n",
       "4     PRVT   F  A00-A09   NR       CY   2.0   2.0   0.0   0.0   0.0   1.0   \n",
       "\n",
       "   2012  2011  \n",
       "0  12.0   7.0  \n",
       "1  11.0  25.0  \n",
       "2   4.0   5.0  \n",
       "3  14.0  14.0  \n",
       "4   1.0   6.0  "
      ]
     },
     "execution_count": 36,
     "metadata": {},
     "output_type": "execute_result"
    }
   ],
   "source": [
    "df = eurostat.get_data_df('hlth_cd_apr')\n",
    "df.head()"
   ]
  },
  {
   "cell_type": "markdown",
   "metadata": {},
   "source": [
    "We would like to get our data into the following shape:\n",
    "\n",
    "| country|year|sex|Preventable  mortality|Treatable  mortality|\n",
    "|---|---|---|---|---|\n",
    "| Austria|2011|F|95.29|67.41|\n",
    "| Austria|2011|M|248.50|96.86|\n",
    "| Austria|2012|F|96.16|69.72|\n",
    "| Austria|2012|M|252.28|91.45|\n",
    "| Austria|2013|F|93.22|66.84|\n",
    "\n",
    "Hence we need to use pandas to get from our initial `df` to a dataframe like this table. The good news is that we will download a number of variables so that we can practice a lot!\n",
    "\n",
    "So we have a number of columns with abbreviations in them and then we have data for the years 2011-2017. Use the website of the variable to figure out what the abbreviations mean. To illustrate, the column `mortalit` gives three measures of mortality:\n",
    "\n"
   ]
  },
  {
   "cell_type": "code",
   "execution_count": 37,
   "metadata": {},
   "outputs": [
    {
     "data": {
      "text/plain": [
       "array(['PRVT', 'TOTAL', 'TRT'], dtype=object)"
      ]
     },
     "execution_count": 37,
     "metadata": {},
     "output_type": "execute_result"
    }
   ],
   "source": [
    "df.mortalit.unique()"
   ]
  },
  {
   "cell_type": "markdown",
   "metadata": {},
   "source": [
    "We will be interested in preventable &rsquo;PRVT&rsquo; and treatable &rsquo;TRT&rsquo; mortality.\n",
    "\n",
    "First, let&rsquo;s change the country column `geo\\time` and use country names instead of abbreviations. We need to &ldquo;escape&rdquo; the &rsquo;\\\\&rsquo; symbol to make sure pandas reads &rsquo;\\\\&rsquo; literally (not as a symbol). That is why we have &rsquo;\\\\\\\\&rsquo; in the code below. We use the `eurostat_dictionary` to turn the country abbreviations into country names.\n",
    "\n",
    "Note that to change the column name we use `.rename`; to change values in a row, we use `.replace`. The replacements are provided using a python dictionary: `{'old_name':'new_name'}`.\n",
    "\n",
    "If you are wondering why we use `inplace=True`, just run the code block without this to see the difference.\n",
    "\n"
   ]
  },
  {
   "cell_type": "code",
   "execution_count": 38,
   "metadata": {},
   "outputs": [
    {
     "data": {
      "text/html": [
       "<div>\n",
       "<style scoped>\n",
       "    .dataframe tbody tr th:only-of-type {\n",
       "        vertical-align: middle;\n",
       "    }\n",
       "\n",
       "    .dataframe tbody tr th {\n",
       "        vertical-align: top;\n",
       "    }\n",
       "\n",
       "    .dataframe thead th {\n",
       "        text-align: right;\n",
       "    }\n",
       "</style>\n",
       "<table border=\"1\" class=\"dataframe\">\n",
       "  <thead>\n",
       "    <tr style=\"text-align: right;\">\n",
       "      <th></th>\n",
       "      <th>mortalit</th>\n",
       "      <th>sex</th>\n",
       "      <th>icd10</th>\n",
       "      <th>unit</th>\n",
       "      <th>geo</th>\n",
       "      <th>2018</th>\n",
       "      <th>2017</th>\n",
       "      <th>2016</th>\n",
       "      <th>2015</th>\n",
       "      <th>2014</th>\n",
       "      <th>2013</th>\n",
       "      <th>2012</th>\n",
       "      <th>2011</th>\n",
       "      <th>country</th>\n",
       "    </tr>\n",
       "  </thead>\n",
       "  <tbody>\n",
       "    <tr>\n",
       "      <th>0</th>\n",
       "      <td>PRVT</td>\n",
       "      <td>F</td>\n",
       "      <td>A00-A09</td>\n",
       "      <td>NR</td>\n",
       "      <td>AT</td>\n",
       "      <td>8.0</td>\n",
       "      <td>10.0</td>\n",
       "      <td>15.0</td>\n",
       "      <td>5.0</td>\n",
       "      <td>6.0</td>\n",
       "      <td>9.0</td>\n",
       "      <td>12.0</td>\n",
       "      <td>7.0</td>\n",
       "      <td>Austria</td>\n",
       "    </tr>\n",
       "    <tr>\n",
       "      <th>1</th>\n",
       "      <td>PRVT</td>\n",
       "      <td>F</td>\n",
       "      <td>A00-A09</td>\n",
       "      <td>NR</td>\n",
       "      <td>BE</td>\n",
       "      <td>26.0</td>\n",
       "      <td>45.0</td>\n",
       "      <td>27.0</td>\n",
       "      <td>26.0</td>\n",
       "      <td>26.0</td>\n",
       "      <td>20.0</td>\n",
       "      <td>11.0</td>\n",
       "      <td>25.0</td>\n",
       "      <td>Belgium</td>\n",
       "    </tr>\n",
       "    <tr>\n",
       "      <th>2</th>\n",
       "      <td>PRVT</td>\n",
       "      <td>F</td>\n",
       "      <td>A00-A09</td>\n",
       "      <td>NR</td>\n",
       "      <td>BG</td>\n",
       "      <td>3.0</td>\n",
       "      <td>4.0</td>\n",
       "      <td>7.0</td>\n",
       "      <td>13.0</td>\n",
       "      <td>11.0</td>\n",
       "      <td>10.0</td>\n",
       "      <td>4.0</td>\n",
       "      <td>5.0</td>\n",
       "      <td>Bulgaria</td>\n",
       "    </tr>\n",
       "    <tr>\n",
       "      <th>3</th>\n",
       "      <td>PRVT</td>\n",
       "      <td>F</td>\n",
       "      <td>A00-A09</td>\n",
       "      <td>NR</td>\n",
       "      <td>CH</td>\n",
       "      <td>11.0</td>\n",
       "      <td>13.0</td>\n",
       "      <td>13.0</td>\n",
       "      <td>5.0</td>\n",
       "      <td>9.0</td>\n",
       "      <td>9.0</td>\n",
       "      <td>14.0</td>\n",
       "      <td>14.0</td>\n",
       "      <td>Switzerland</td>\n",
       "    </tr>\n",
       "    <tr>\n",
       "      <th>4</th>\n",
       "      <td>PRVT</td>\n",
       "      <td>F</td>\n",
       "      <td>A00-A09</td>\n",
       "      <td>NR</td>\n",
       "      <td>CY</td>\n",
       "      <td>2.0</td>\n",
       "      <td>2.0</td>\n",
       "      <td>0.0</td>\n",
       "      <td>0.0</td>\n",
       "      <td>0.0</td>\n",
       "      <td>1.0</td>\n",
       "      <td>1.0</td>\n",
       "      <td>6.0</td>\n",
       "      <td>Cyprus</td>\n",
       "    </tr>\n",
       "  </tbody>\n",
       "</table>\n",
       "</div>"
      ],
      "text/plain": [
       "  mortalit sex    icd10 unit geo  2018  2017  2016  2015  2014  2013  2012  \\\n",
       "0     PRVT   F  A00-A09   NR  AT   8.0  10.0  15.0   5.0   6.0   9.0  12.0   \n",
       "1     PRVT   F  A00-A09   NR  BE  26.0  45.0  27.0  26.0  26.0  20.0  11.0   \n",
       "2     PRVT   F  A00-A09   NR  BG   3.0   4.0   7.0  13.0  11.0  10.0   4.0   \n",
       "3     PRVT   F  A00-A09   NR  CH  11.0  13.0  13.0   5.0   9.0   9.0  14.0   \n",
       "4     PRVT   F  A00-A09   NR  CY   2.0   2.0   0.0   0.0   0.0   1.0   1.0   \n",
       "\n",
       "   2011      country  \n",
       "0   7.0      Austria  \n",
       "1  25.0      Belgium  \n",
       "2   5.0     Bulgaria  \n",
       "3  14.0  Switzerland  \n",
       "4   6.0       Cyprus  "
      ]
     },
     "execution_count": 38,
     "metadata": {},
     "output_type": "execute_result"
    }
   ],
   "source": [
    "df.rename({'geo\\\\time':'geo'},inplace=True,axis=1)\n",
    "df['country'] = df['geo'].replace(eurostat_dictionary)\n",
    "df.head()"
   ]
  },
  {
   "cell_type": "markdown",
   "metadata": {},
   "source": [
    "### aside: what is \\t?\n",
    "\n",
    "In the example above, we need to \"escape\" `\\time` for the following reason:"
   ]
  },
  {
   "cell_type": "code",
   "execution_count": 42,
   "metadata": {},
   "outputs": [
    {
     "name": "stdout",
     "output_type": "stream",
     "text": [
      "geo\time\n",
      "geo\\time\n"
     ]
    }
   ],
   "source": [
    "print('geo\\time')\n",
    "print('geo\\\\time')"
   ]
  },
  {
   "cell_type": "markdown",
   "metadata": {},
   "source": [
    "Now we will select the values that we are interested in: only EU countries, both males and females, both preventable and treatable mortality, unit of measurement rate &rsquo;RT&rsquo; (not number &rsquo;NR&rsquo;) and all diseases (e.g. not the subset &ldquo; [A00-A09] Intestinal infectious diseases&rdquo;).\n",
    "\n",
    "For selection, we can use `==` or `.isin()`. With numbers we can also use smaller/greater than `<,>` etc.\n",
    "\n",
    "After this selection, we can drop some columns to make the dataframe a bit easier to handle.\n",
    "\n"
   ]
  },
  {
   "cell_type": "code",
   "execution_count": 40,
   "metadata": {},
   "outputs": [
    {
     "data": {
      "text/html": [
       "<div>\n",
       "<style scoped>\n",
       "    .dataframe tbody tr th:only-of-type {\n",
       "        vertical-align: middle;\n",
       "    }\n",
       "\n",
       "    .dataframe tbody tr th {\n",
       "        vertical-align: top;\n",
       "    }\n",
       "\n",
       "    .dataframe thead th {\n",
       "        text-align: right;\n",
       "    }\n",
       "</style>\n",
       "<table border=\"1\" class=\"dataframe\">\n",
       "  <thead>\n",
       "    <tr style=\"text-align: right;\">\n",
       "      <th></th>\n",
       "      <th>mortalit</th>\n",
       "      <th>sex</th>\n",
       "      <th>2018</th>\n",
       "      <th>2017</th>\n",
       "      <th>2016</th>\n",
       "      <th>2015</th>\n",
       "      <th>2014</th>\n",
       "      <th>2013</th>\n",
       "      <th>2012</th>\n",
       "      <th>2011</th>\n",
       "      <th>country</th>\n",
       "    </tr>\n",
       "  </thead>\n",
       "  <tbody>\n",
       "    <tr>\n",
       "      <th>6300</th>\n",
       "      <td>PRVT</td>\n",
       "      <td>F</td>\n",
       "      <td>93.11</td>\n",
       "      <td>92.94</td>\n",
       "      <td>96.39</td>\n",
       "      <td>97.52</td>\n",
       "      <td>93.95</td>\n",
       "      <td>93.22</td>\n",
       "      <td>96.16</td>\n",
       "      <td>95.29</td>\n",
       "      <td>Austria</td>\n",
       "    </tr>\n",
       "    <tr>\n",
       "      <th>6301</th>\n",
       "      <td>PRVT</td>\n",
       "      <td>F</td>\n",
       "      <td>92.58</td>\n",
       "      <td>93.42</td>\n",
       "      <td>94.13</td>\n",
       "      <td>99.71</td>\n",
       "      <td>95.40</td>\n",
       "      <td>100.34</td>\n",
       "      <td>99.97</td>\n",
       "      <td>101.35</td>\n",
       "      <td>Belgium</td>\n",
       "    </tr>\n",
       "    <tr>\n",
       "      <th>6302</th>\n",
       "      <td>PRVT</td>\n",
       "      <td>F</td>\n",
       "      <td>119.02</td>\n",
       "      <td>121.87</td>\n",
       "      <td>120.14</td>\n",
       "      <td>128.32</td>\n",
       "      <td>129.04</td>\n",
       "      <td>119.29</td>\n",
       "      <td>126.17</td>\n",
       "      <td>119.32</td>\n",
       "      <td>Bulgaria</td>\n",
       "    </tr>\n",
       "    <tr>\n",
       "      <th>6303</th>\n",
       "      <td>PRVT</td>\n",
       "      <td>F</td>\n",
       "      <td>70.94</td>\n",
       "      <td>68.45</td>\n",
       "      <td>68.91</td>\n",
       "      <td>69.37</td>\n",
       "      <td>72.70</td>\n",
       "      <td>73.85</td>\n",
       "      <td>74.02</td>\n",
       "      <td>73.75</td>\n",
       "      <td>Switzerland</td>\n",
       "    </tr>\n",
       "    <tr>\n",
       "      <th>6304</th>\n",
       "      <td>PRVT</td>\n",
       "      <td>F</td>\n",
       "      <td>50.87</td>\n",
       "      <td>46.69</td>\n",
       "      <td>49.98</td>\n",
       "      <td>55.67</td>\n",
       "      <td>54.65</td>\n",
       "      <td>47.75</td>\n",
       "      <td>49.38</td>\n",
       "      <td>57.31</td>\n",
       "      <td>Cyprus</td>\n",
       "    </tr>\n",
       "  </tbody>\n",
       "</table>\n",
       "</div>"
      ],
      "text/plain": [
       "     mortalit sex    2018    2017    2016    2015    2014    2013    2012  \\\n",
       "6300     PRVT   F   93.11   92.94   96.39   97.52   93.95   93.22   96.16   \n",
       "6301     PRVT   F   92.58   93.42   94.13   99.71   95.40  100.34   99.97   \n",
       "6302     PRVT   F  119.02  121.87  120.14  128.32  129.04  119.29  126.17   \n",
       "6303     PRVT   F   70.94   68.45   68.91   69.37   72.70   73.85   74.02   \n",
       "6304     PRVT   F   50.87   46.69   49.98   55.67   54.65   47.75   49.38   \n",
       "\n",
       "        2011      country  \n",
       "6300   95.29      Austria  \n",
       "6301  101.35      Belgium  \n",
       "6302  119.32     Bulgaria  \n",
       "6303   73.75  Switzerland  \n",
       "6304   57.31       Cyprus  "
      ]
     },
     "execution_count": 40,
     "metadata": {},
     "output_type": "execute_result"
    }
   ],
   "source": [
    "df = df[df.country.isin(EU_countries) & (df.sex.isin([\"M\",\"F\"]) ) & (df.mortalit.isin([\"PRVT\",\"TRT\"])) \\\n",
    "        & (df.unit == \"RT\") & (df.icd10 == \"TOTAL\")]\n",
    "df.drop([\"unit\",\"icd10\",\"geo\"],axis=1,inplace=True)\n",
    "df.head()"
   ]
  },
  {
   "cell_type": "code",
   "execution_count": null,
   "metadata": {},
   "outputs": [],
   "source": []
  }
 ],
 "metadata": {
  "kernelspec": {
   "display_name": "Python 3 (ipykernel)",
   "language": "python",
   "name": "python3"
  },
  "language_info": {
   "codemirror_mode": {
    "name": "ipython",
    "version": 3
   },
   "file_extension": ".py",
   "mimetype": "text/x-python",
   "name": "python",
   "nbconvert_exporter": "python",
   "pygments_lexer": "ipython3",
   "version": "3.9.7"
  },
  "org": null
 },
 "nbformat": 4,
 "nbformat_minor": 4
}
