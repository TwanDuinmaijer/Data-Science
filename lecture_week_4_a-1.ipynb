{
 "cells": [
  {
   "cell_type": "markdown",
   "metadata": {},
   "source": [
    "Lecture week 4\n",
    "==============\n",
    "\n"
   ]
  },
  {
   "cell_type": "markdown",
   "metadata": {},
   "source": [
    "## Code preamble\n",
    "\n"
   ]
  },
  {
   "cell_type": "code",
   "execution_count": 1,
   "metadata": {},
   "outputs": [
    {
     "name": "stderr",
     "output_type": "stream",
     "text": [
      "/opt/conda/lib/python3.9/site-packages/statsmodels/compat/pandas.py:65: FutureWarning: pandas.Int64Index is deprecated and will be removed from pandas in a future version. Use pandas.Index with the appropriate dtype instead.\n",
      "  from pandas import Int64Index as NumericIndex\n"
     ]
    }
   ],
   "source": [
    "from __future__ import absolute_import, division, print_function, unicode_literals\n",
    "\n",
    "import numpy as np\n",
    "import pandas as pd\n",
    "import seaborn as sns\n",
    "from scipy import optimize\n",
    "import pymc3 as pm\n",
    "import statsmodels.api as sm # check the error that cannot import name 'factorial' in from scipy.misc import factorial\n",
    "import statsmodels.formula.api as smf\n",
    "import matplotlib.pyplot as plt\n",
    "import tensorflow as tf\n",
    "import altair as alt\n",
    "from linearmodels.iv import IV2SLS\n",
    "from tensorflow.keras import datasets, layers, models\n",
    "from tensorflow import keras\n",
    "import arviz as az\n",
    "\n",
    "import theano\n",
    "import covid19pandas as cod\n",
    "from country_codes import eurostat_dictionary\n",
    "import eurostat\n",
    "from warnings import filterwarnings\n",
    "filterwarnings('ignore')\n",
    "from sklearn import datasets\n",
    "from sklearn.preprocessing import scale\n",
    "from sklearn.model_selection import train_test_split\n",
    "from sklearn.datasets import make_moons"
   ]
  },
  {
   "cell_type": "markdown",
   "metadata": {},
   "source": [
    "## Overview: neural network and treatment effects\n",
    "\n"
   ]
  },
  {
   "cell_type": "markdown",
   "metadata": {},
   "source": [
    "### simple example\n",
    "\n"
   ]
  },
  {
   "cell_type": "markdown",
   "metadata": {},
   "source": [
    "From the python code for a neural network:\n",
    "\n"
   ]
  },
  {
   "cell_type": "markdown",
   "metadata": {},
   "source": [
    "`self.weights -= eta*np.dot(np.transpose(inputs),self.activations-targets)`"
   ]
  },
  {
   "cell_type": "markdown",
   "metadata": {},
   "source": [
    "In equation format, the weights are updated as: $w = w - \\eta (prediction - target) x$\n",
    "\n",
    "Let&rsquo;s look at a simple example to understand why this the correct updating rule. We have 4 observations with two labels (`targets`): red and blue in the figure.\n",
    "\n",
    "We want to find a line such that all points above the line are blue; the one point below the line is red.\n",
    "\n"
   ]
  },
  {
   "cell_type": "code",
   "execution_count": 3,
   "metadata": {},
   "outputs": [
    {
     "data": {
      "image/png": "[encoded data removed]",
      "text/plain": [
       "<Figure size 432x288 with 1 Axes>"
      ]
     },
     "metadata": {
      "needs_background": "light"
     },
     "output_type": "display_data"
    }
   ],
   "source": [
    "inputs = np.array([[0,0],[0,1],[1,0],[1,1]])\n",
    "targets = np.array([[0],[1],[1],[1]])\n",
    "colors = []\n",
    "for i in range(len(targets)):\n",
    "    colors.append(['red','blue'][targets[i][0]])\n",
    "plt.scatter(inputs[:,0],inputs[:,1],color=colors)\n",
    "plt.plot([0,1],[0.8,0.2],c='k')\n",
    "plt.plot([0,1],[0.8,-0.2],'--',c='k')\n",
    "\n",
    "plt.xlabel('$x$')\n",
    "plt.ylabel('$y$')\n",
    "plt.show()"
   ]
  },
  {
   "cell_type": "markdown",
   "metadata": {},
   "source": [
    "Line of the form $w_0 x + w_1 y - w_2 = 0$ or $y = -w_0/w_1 x + w_2/w_1$.\n",
    "\n",
    "The solid line mis-classifies one point. To get this classification right, the line needs to become steeper for the point with $x=1$ and $y=0$.\n",
    "\n",
    "To make the line steeper, $w_0$ needs to increase:\n",
    "\n",
    "\\begin{equation}\n",
    "\\label{eq:1}\n",
    "w_0 = w_0 - \\eta (0-1) * 1 = w_0 + \\eta\n",
    "\\end{equation}\n",
    "\n",
    "If we give the model a new point, it will predict &ldquo;blue&rdquo; if the point is above the line and &ldquo;red&rdquo; if it is below.\n",
    "\n"
   ]
  },
  {
   "cell_type": "markdown",
   "metadata": {},
   "source": [
    "### example neural network: confusion matrix\n",
    "\n"
   ]
  },
  {
   "cell_type": "markdown",
   "metadata": {},
   "source": [
    "We import some data:\n",
    "\n"
   ]
  },
  {
   "cell_type": "code",
   "execution_count": 37,
   "metadata": {},
   "outputs": [
    {
     "data": {
      "text/html": [
       "<div>\n",
       "<style scoped>\n",
       "    .dataframe tbody tr th:only-of-type {\n",
       "        vertical-align: middle;\n",
       "    }\n",
       "\n",
       "    .dataframe tbody tr th {\n",
       "        vertical-align: top;\n",
       "    }\n",
       "\n",
       "    .dataframe thead th {\n",
       "        text-align: right;\n",
       "    }\n",
       "</style>\n",
       "<table border=\"1\" class=\"dataframe\">\n",
       "  <thead>\n",
       "    <tr style=\"text-align: right;\">\n",
       "      <th></th>\n",
       "      <th>sepal_length</th>\n",
       "      <th>sepal_width</th>\n",
       "      <th>petal_length</th>\n",
       "      <th>petal_width</th>\n",
       "      <th>species</th>\n",
       "    </tr>\n",
       "  </thead>\n",
       "  <tbody>\n",
       "    <tr>\n",
       "      <th>0</th>\n",
       "      <td>5.1</td>\n",
       "      <td>3.5</td>\n",
       "      <td>1.4</td>\n",
       "      <td>0.2</td>\n",
       "      <td>Iris-setosa</td>\n",
       "    </tr>\n",
       "    <tr>\n",
       "      <th>1</th>\n",
       "      <td>4.9</td>\n",
       "      <td>3.0</td>\n",
       "      <td>1.4</td>\n",
       "      <td>0.2</td>\n",
       "      <td>Iris-setosa</td>\n",
       "    </tr>\n",
       "    <tr>\n",
       "      <th>2</th>\n",
       "      <td>4.7</td>\n",
       "      <td>3.2</td>\n",
       "      <td>1.3</td>\n",
       "      <td>0.2</td>\n",
       "      <td>Iris-setosa</td>\n",
       "    </tr>\n",
       "    <tr>\n",
       "      <th>3</th>\n",
       "      <td>4.6</td>\n",
       "      <td>3.1</td>\n",
       "      <td>1.5</td>\n",
       "      <td>0.2</td>\n",
       "      <td>Iris-setosa</td>\n",
       "    </tr>\n",
       "    <tr>\n",
       "      <th>4</th>\n",
       "      <td>5.0</td>\n",
       "      <td>3.6</td>\n",
       "      <td>1.4</td>\n",
       "      <td>0.2</td>\n",
       "      <td>Iris-setosa</td>\n",
       "    </tr>\n",
       "  </tbody>\n",
       "</table>\n",
       "</div>"
      ],
      "text/plain": [
       "   sepal_length  sepal_width  petal_length  petal_width      species\n",
       "0           5.1          3.5           1.4          0.2  Iris-setosa\n",
       "1           4.9          3.0           1.4          0.2  Iris-setosa\n",
       "2           4.7          3.2           1.3          0.2  Iris-setosa\n",
       "3           4.6          3.1           1.5          0.2  Iris-setosa\n",
       "4           5.0          3.6           1.4          0.2  Iris-setosa"
      ]
     },
     "execution_count": 37,
     "metadata": {},
     "output_type": "execute_result"
    }
   ],
   "source": [
    "import requests\n",
    "url = 'https://archive.ics.uci.edu/ml/machine-learning-databases/iris/iris.data'\n",
    "r = requests.get(url, allow_redirects=True)\n",
    "filename = \"./data/iris.csv\"\n",
    "open(filename, 'wb').write(r.content)\n",
    "\n",
    "df = pd.read_csv(filename, header=None, names=['sepal_length','sepal_width','petal_length','petal_width','species'])\n",
    "df.head()"
   ]
  },
  {
   "cell_type": "markdown",
   "metadata": {},
   "source": [
    "* how many observations do we have?\n",
    "* what are the datatypes of the columns (hint: use `dtypes`)\n",
    "* how can we figure out the number of species ('targets') that we have?"
   ]
  },
  {
   "cell_type": "code",
   "execution_count": 38,
   "metadata": {},
   "outputs": [
    {
     "data": {
      "text/plain": [
       "(150, 5)"
      ]
     },
     "execution_count": 38,
     "metadata": {},
     "output_type": "execute_result"
    }
   ],
   "source": [
    "df.shape"
   ]
  },
  {
   "cell_type": "code",
   "execution_count": 39,
   "metadata": {},
   "outputs": [
    {
     "data": {
      "text/plain": [
       "sepal_length    float64\n",
       "sepal_width     float64\n",
       "petal_length    float64\n",
       "petal_width     float64\n",
       "species          object\n",
       "dtype: object"
      ]
     },
     "execution_count": 39,
     "metadata": {},
     "output_type": "execute_result"
    }
   ],
   "source": [
    "df.dtypes"
   ]
  },
  {
   "cell_type": "code",
   "execution_count": 40,
   "metadata": {},
   "outputs": [
    {
     "data": {
      "text/plain": [
       "array(['Iris-setosa', 'Iris-versicolor', 'Iris-virginica'], dtype=object)"
      ]
     },
     "execution_count": 40,
     "metadata": {},
     "output_type": "execute_result"
    }
   ],
   "source": [
    "df.species.unique()"
   ]
  },
  {
   "cell_type": "code",
   "execution_count": 41,
   "metadata": {},
   "outputs": [
    {
     "data": {
      "text/html": [
       "<div>\n",
       "<style scoped>\n",
       "    .dataframe tbody tr th:only-of-type {\n",
       "        vertical-align: middle;\n",
       "    }\n",
       "\n",
       "    .dataframe tbody tr th {\n",
       "        vertical-align: top;\n",
       "    }\n",
       "\n",
       "    .dataframe thead th {\n",
       "        text-align: right;\n",
       "    }\n",
       "</style>\n",
       "<table border=\"1\" class=\"dataframe\">\n",
       "  <thead>\n",
       "    <tr style=\"text-align: right;\">\n",
       "      <th></th>\n",
       "      <th>sepal_length</th>\n",
       "      <th>sepal_width</th>\n",
       "      <th>petal_length</th>\n",
       "      <th>petal_width</th>\n",
       "      <th>species</th>\n",
       "    </tr>\n",
       "  </thead>\n",
       "  <tbody>\n",
       "    <tr>\n",
       "      <th>145</th>\n",
       "      <td>6.7</td>\n",
       "      <td>3.0</td>\n",
       "      <td>5.2</td>\n",
       "      <td>2.3</td>\n",
       "      <td>1</td>\n",
       "    </tr>\n",
       "    <tr>\n",
       "      <th>146</th>\n",
       "      <td>6.3</td>\n",
       "      <td>2.5</td>\n",
       "      <td>5.0</td>\n",
       "      <td>1.9</td>\n",
       "      <td>1</td>\n",
       "    </tr>\n",
       "    <tr>\n",
       "      <th>147</th>\n",
       "      <td>6.5</td>\n",
       "      <td>3.0</td>\n",
       "      <td>5.2</td>\n",
       "      <td>2.0</td>\n",
       "      <td>1</td>\n",
       "    </tr>\n",
       "    <tr>\n",
       "      <th>148</th>\n",
       "      <td>6.2</td>\n",
       "      <td>3.4</td>\n",
       "      <td>5.4</td>\n",
       "      <td>2.3</td>\n",
       "      <td>1</td>\n",
       "    </tr>\n",
       "    <tr>\n",
       "      <th>149</th>\n",
       "      <td>5.9</td>\n",
       "      <td>3.0</td>\n",
       "      <td>5.1</td>\n",
       "      <td>1.8</td>\n",
       "      <td>1</td>\n",
       "    </tr>\n",
       "  </tbody>\n",
       "</table>\n",
       "</div>"
      ],
      "text/plain": [
       "     sepal_length  sepal_width  petal_length  petal_width  species\n",
       "145           6.7          3.0           5.2          2.3        1\n",
       "146           6.3          2.5           5.0          1.9        1\n",
       "147           6.5          3.0           5.2          2.0        1\n",
       "148           6.2          3.4           5.4          2.3        1\n",
       "149           5.9          3.0           5.1          1.8        1"
      ]
     },
     "execution_count": 41,
     "metadata": {},
     "output_type": "execute_result"
    }
   ],
   "source": [
    "df[\"species\"].replace({\"Iris-setosa\":0,\"Iris-virginica\":1,\"Iris-versicolor\":2},inplace=True)\n",
    "df.tail()"
   ]
  },
  {
   "cell_type": "code",
   "execution_count": 42,
   "metadata": {},
   "outputs": [
    {
     "data": {
      "image/png": "[encoded data removed]",
      "text/plain": [
       "<Figure size 432x288 with 1 Axes>"
      ]
     },
     "metadata": {
      "needs_background": "light"
     },
     "output_type": "display_data"
    }
   ],
   "source": [
    "plt.scatter(df['sepal_width'],df['petal_width'],c=df.species);"
   ]
  },
  {
   "cell_type": "code",
   "execution_count": 43,
   "metadata": {},
   "outputs": [
    {
     "data": {
      "image/png": "[encoded data removed]",
      "text/plain": [
       "<Figure size 432x288 with 1 Axes>"
      ]
     },
     "metadata": {
      "needs_background": "light"
     },
     "output_type": "display_data"
    }
   ],
   "source": [
    "plt.scatter(df['sepal_length'],df['petal_length'],c=df.species);"
   ]
  },
  {
   "cell_type": "code",
   "execution_count": 45,
   "metadata": {},
   "outputs": [],
   "source": [
    "#plt.scatter?"
   ]
  },
  {
   "cell_type": "markdown",
   "metadata": {},
   "source": [
    "-   Neural networks do not only use linear functions to separate the data\n",
    "-   [https://playground.tensorflow.org/](https://playground.tensorflow.org/)\n",
    "\n",
    "Before estimating a neural network, it is a good idea to standardize the features. No need to standardize the labels.\n",
    "\n"
   ]
  },
  {
   "cell_type": "code",
   "execution_count": 46,
   "metadata": {},
   "outputs": [],
   "source": [
    "X = np.zeros([150,4])\n",
    "i = 0\n",
    "for col in df.columns[0:4]:\n",
    "    x = df[col].values\n",
    "    X[:,i] = (x-x.mean())/x.std()\n",
    "    i += 1\n",
    "\n",
    "y = df['species'].values"
   ]
  },
  {
   "cell_type": "markdown",
   "metadata": {},
   "source": [
    "-   Ignoring for now splitting the data into test and train set\n",
    "\n"
   ]
  },
  {
   "cell_type": "code",
   "execution_count": 47,
   "metadata": {},
   "outputs": [],
   "source": [
    "model = keras.Sequential([\n",
    "    keras.layers.Dense(20, input_dim = 4, activation='relu'), # input layer\n",
    "    keras.layers.Dense(10, activation = 'relu'),              # hidden\n",
    "    keras.layers.Dense(3, activation = 'softmax')             # output\n",
    "    ])\n",
    "\n",
    "model.compile(optimizer='adam',\n",
    "              loss='sparse_categorical_crossentropy',\n",
    "              metrics=['accuracy'])"
   ]
  },
  {
   "cell_type": "code",
   "execution_count": 48,
   "metadata": {},
   "outputs": [
    {
     "name": "stdout",
     "output_type": "stream",
     "text": [
      "Epoch 1/10\n",
      "5/5 [==============================] - 0s 15ms/step - loss: 1.3436 - accuracy: 0.0267\n",
      "Epoch 2/10\n",
      "5/5 [==============================] - 0s 1ms/step - loss: 1.2665 - accuracy: 0.0600\n",
      "Epoch 3/10\n",
      "5/5 [==============================] - 0s 23ms/step - loss: 1.1983 - accuracy: 0.1600\n",
      "Epoch 4/10\n",
      "5/5 [==============================] - 0s 2ms/step - loss: 1.1345 - accuracy: 0.3067\n",
      "Epoch 5/10\n",
      "5/5 [==============================] - 0s 22ms/step - loss: 1.0772 - accuracy: 0.4133\n",
      "Epoch 6/10\n",
      "5/5 [==============================] - 0s 1ms/step - loss: 1.0230 - accuracy: 0.4533\n",
      "Epoch 7/10\n",
      "5/5 [==============================] - 0s 21ms/step - loss: 0.9770 - accuracy: 0.5067\n",
      "Epoch 8/10\n",
      "5/5 [==============================] - 0s 2ms/step - loss: 0.9347 - accuracy: 0.5467\n",
      "Epoch 9/10\n",
      "5/5 [==============================] - 0s 20ms/step - loss: 0.8966 - accuracy: 0.5667\n",
      "Epoch 10/10\n",
      "5/5 [==============================] - 0s 1ms/step - loss: 0.8631 - accuracy: 0.5933\n"
     ]
    },
    {
     "data": {
      "text/plain": [
       "<keras.callbacks.History at 0x7efde0114940>"
      ]
     },
     "execution_count": 48,
     "metadata": {},
     "output_type": "execute_result"
    }
   ],
   "source": [
    "model.fit(X,y,epochs=10)"
   ]
  },
  {
   "cell_type": "code",
   "execution_count": 50,
   "metadata": {},
   "outputs": [
    {
     "data": {
      "text/plain": [
       "<tf.Tensor: shape=(3, 3), dtype=int32, numpy=\n",
       "array([[50,  0,  0],\n",
       "       [ 9, 41,  0],\n",
       "       [ 7, 43,  0]], dtype=int32)>"
      ]
     },
     "execution_count": 50,
     "metadata": {},
     "output_type": "execute_result"
    }
   ],
   "source": [
    "y_pred = (model.predict(X)).argmax(axis=1)\n",
    "matrix = tf.math.confusion_matrix(y, y_pred)\n",
    "matrix"
   ]
  },
  {
   "cell_type": "code",
   "execution_count": 52,
   "metadata": {},
   "outputs": [],
   "source": [
    "#tf.math.confusion_matrix?"
   ]
  },
  {
   "cell_type": "code",
   "execution_count": 49,
   "metadata": {
    "collapsed": true,
    "jupyter": {
     "outputs_hidden": true
    },
    "tags": []
   },
   "outputs": [
    {
     "data": {
      "text/plain": [
       "array([[0.5911184 , 0.295668  , 0.11321361],\n",
       "       [0.5272502 , 0.3122293 , 0.16052057],\n",
       "       [0.59597796, 0.2960006 , 0.10802138],\n",
       "       [0.58721024, 0.29916742, 0.11362233],\n",
       "       [0.6237827 , 0.28054452, 0.09567276],\n",
       "       [0.6512037 , 0.24660213, 0.10219412],\n",
       "       [0.64591324, 0.2704632 , 0.08362364],\n",
       "       [0.58503014, 0.29803678, 0.11693307],\n",
       "       [0.5790522 , 0.30560595, 0.11534184],\n",
       "       [0.5435964 , 0.30876505, 0.14763851],\n",
       "       [0.58658385, 0.291503  , 0.12191315],\n",
       "       [0.61182255, 0.2858076 , 0.10236976],\n",
       "       [0.54296833, 0.30822256, 0.1488091 ],\n",
       "       [0.61453056, 0.29223007, 0.09323942],\n",
       "       [0.61903393, 0.25940672, 0.12155931],\n",
       "       [0.77975696, 0.1600838 , 0.06015928],\n",
       "       [0.6566275 , 0.24816623, 0.09520628],\n",
       "       [0.5939104 , 0.29409885, 0.11199073],\n",
       "       [0.5738066 , 0.28099263, 0.14520076],\n",
       "       [0.65756583, 0.25605518, 0.08637901],\n",
       "       [0.51232964, 0.31822997, 0.16944046],\n",
       "       [0.6372637 , 0.2692244 , 0.09351191],\n",
       "       [0.6836263 , 0.2517197 , 0.06465402],\n",
       "       [0.5542076 , 0.30780137, 0.137991  ],\n",
       "       [0.6049812 , 0.28757665, 0.10744213],\n",
       "       [0.5064048 , 0.3156522 , 0.17794302],\n",
       "       [0.5880848 , 0.29532725, 0.11658783],\n",
       "       [0.5715157 , 0.30341646, 0.12506787],\n",
       "       [0.5518632 , 0.31000626, 0.13813059],\n",
       "       [0.5894304 , 0.2966788 , 0.11389071],\n",
       "       [0.5579207 , 0.30716872, 0.13491063],\n",
       "       [0.51977164, 0.31837642, 0.1618519 ],\n",
       "       [0.7098178 , 0.21906015, 0.07112198],\n",
       "       [0.72640866, 0.20064174, 0.07294957],\n",
       "       [0.5435964 , 0.30876505, 0.14763851],\n",
       "       [0.55067885, 0.30896837, 0.14035271],\n",
       "       [0.518102  , 0.3188539 , 0.16304414],\n",
       "       [0.5435964 , 0.30876505, 0.14763851],\n",
       "       [0.59812725, 0.29868138, 0.10319138],\n",
       "       [0.5687498 , 0.3048248 , 0.1264254 ],\n",
       "       [0.610451  , 0.28754494, 0.10200407],\n",
       "       [0.49480096, 0.32132536, 0.18387371],\n",
       "       [0.6378907 , 0.27634263, 0.08576665],\n",
       "       [0.61303484, 0.28276157, 0.10420358],\n",
       "       [0.6556433 , 0.25267756, 0.09167919],\n",
       "       [0.54783285, 0.3084197 , 0.14374745],\n",
       "       [0.65065694, 0.26044556, 0.08889752],\n",
       "       [0.6081733 , 0.2898901 , 0.10193655],\n",
       "       [0.60254043, 0.28572083, 0.11173873],\n",
       "       [0.56793594, 0.30471143, 0.12735267],\n",
       "       [0.3510927 , 0.41630676, 0.23260057],\n",
       "       [0.3489206 , 0.37710193, 0.27397746],\n",
       "       [0.322535  , 0.44606313, 0.23140188],\n",
       "       [0.24346831, 0.4608472 , 0.29568443],\n",
       "       [0.23905262, 0.47626263, 0.2846847 ],\n",
       "       [0.28438953, 0.38886687, 0.32674357],\n",
       "       [0.37846348, 0.361113  , 0.2604236 ],\n",
       "       [0.39245856, 0.3764309 , 0.23111056],\n",
       "       [0.24916033, 0.4595863 , 0.29125336],\n",
       "       [0.3559725 , 0.3745676 , 0.26945987],\n",
       "       [0.28843412, 0.46227375, 0.24929209],\n",
       "       [0.28823093, 0.38180208, 0.32996696],\n",
       "       [0.23317532, 0.4766997 , 0.29012498],\n",
       "       [0.26159838, 0.4234849 , 0.31491676],\n",
       "       [0.35802436, 0.3391835 , 0.30279213],\n",
       "       [0.32458135, 0.41345832, 0.26196033],\n",
       "       [0.32702518, 0.36431944, 0.3086554 ],\n",
       "       [0.28592655, 0.387924  , 0.3261495 ],\n",
       "       [0.20110704, 0.5312339 , 0.26765913],\n",
       "       [0.26757032, 0.41999537, 0.31243423],\n",
       "       [0.35730666, 0.3619926 , 0.2807007 ],\n",
       "       [0.27626467, 0.40072307, 0.3230122 ],\n",
       "       [0.21040212, 0.51293993, 0.27665797],\n",
       "       [0.26385355, 0.42008156, 0.3160649 ],\n",
       "       [0.26168212, 0.4294457 , 0.30887213],\n",
       "       [0.28927478, 0.43242994, 0.27829534],\n",
       "       [0.22976913, 0.50488573, 0.26534507],\n",
       "       [0.2990755 , 0.46449608, 0.23642837],\n",
       "       [0.26806408, 0.41364914, 0.31828672],\n",
       "       [0.29405951, 0.3891563 , 0.3167842 ],\n",
       "       [0.25966442, 0.43425545, 0.30608013],\n",
       "       [0.26934963, 0.42342156, 0.30722877],\n",
       "       [0.28341088, 0.391557  , 0.32503211],\n",
       "       [0.2364597 , 0.46683228, 0.29670808],\n",
       "       [0.37511244, 0.34335262, 0.28153488],\n",
       "       [0.4597734 , 0.29697374, 0.24325281],\n",
       "       [0.3237132 , 0.42656833, 0.24971843],\n",
       "       [0.21245363, 0.5101335 , 0.27741292],\n",
       "       [0.36286855, 0.33804408, 0.29908738],\n",
       "       [0.26324025, 0.42701712, 0.30974263],\n",
       "       [0.2748111 , 0.40696076, 0.31822813],\n",
       "       [0.2710023 , 0.407797  , 0.32120073],\n",
       "       [0.27233392, 0.40972725, 0.31793883],\n",
       "       [0.35871914, 0.40047202, 0.24080886],\n",
       "       [0.2810781 , 0.39587012, 0.32305178],\n",
       "       [0.33989742, 0.35078913, 0.3093134 ],\n",
       "       [0.29795873, 0.3674528 , 0.33458844],\n",
       "       [0.2694893 , 0.41071624, 0.31979445],\n",
       "       [0.40117478, 0.35878998, 0.24003525],\n",
       "       [0.28998387, 0.38073552, 0.32928059],\n",
       "       [0.4328044 , 0.40186647, 0.16532916],\n",
       "       [0.23487863, 0.47055206, 0.29456928],\n",
       "       [0.31145322, 0.5205545 , 0.1679924 ],\n",
       "       [0.2394765 , 0.49282372, 0.26769978],\n",
       "       [0.30802745, 0.48664346, 0.2053291 ],\n",
       "       [0.29014906, 0.5755277 , 0.13432321],\n",
       "       [0.30796486, 0.4180549 , 0.27398023],\n",
       "       [0.2395254 , 0.58196545, 0.17850915],\n",
       "       [0.17287202, 0.5974335 , 0.22969449],\n",
       "       [0.55338585, 0.33814728, 0.10846686],\n",
       "       [0.3897661 , 0.4015719 , 0.20866197],\n",
       "       [0.20906806, 0.53226113, 0.2586708 ],\n",
       "       [0.32168233, 0.4876037 , 0.190714  ],\n",
       "       [0.21893151, 0.5000827 , 0.28098583],\n",
       "       [0.27585107, 0.4640875 , 0.26006147],\n",
       "       [0.41137832, 0.40195143, 0.18667018],\n",
       "       [0.2800977 , 0.4763594 , 0.24354298],\n",
       "       [0.5661795 , 0.33495405, 0.0988664 ],\n",
       "       [0.18212023, 0.69436896, 0.12351085],\n",
       "       [0.19616905, 0.5412223 , 0.26260868],\n",
       "       [0.4090474 , 0.43603754, 0.15491503],\n",
       "       [0.26166832, 0.4399203 , 0.2984114 ],\n",
       "       [0.2194183 , 0.64170337, 0.13887836],\n",
       "       [0.21952537, 0.50267583, 0.27779874],\n",
       "       [0.4145668 , 0.40938574, 0.17604738],\n",
       "       [0.34712306, 0.47948515, 0.17339182],\n",
       "       [0.2389753 , 0.47382152, 0.28720322],\n",
       "       [0.29031384, 0.4271898 , 0.28249642],\n",
       "       [0.2421151 , 0.5239887 , 0.23389623],\n",
       "       [0.26986408, 0.52951145, 0.20062439],\n",
       "       [0.22997989, 0.60205394, 0.16796616],\n",
       "       [0.5557542 , 0.33799657, 0.10624924],\n",
       "       [0.25130257, 0.5239455 , 0.22475183],\n",
       "       [0.22967833, 0.47694957, 0.2933721 ],\n",
       "       [0.22097711, 0.49304962, 0.28597322],\n",
       "       [0.33641964, 0.5454068 , 0.11817359],\n",
       "       [0.47662365, 0.35674798, 0.1666283 ],\n",
       "       [0.30822483, 0.44719213, 0.24458304],\n",
       "       [0.29033935, 0.41855407, 0.2911066 ],\n",
       "       [0.36509526, 0.45781863, 0.17708613],\n",
       "       [0.38173324, 0.45103437, 0.16723233],\n",
       "       [0.40460557, 0.43438452, 0.16100998],\n",
       "       [0.23487863, 0.47055206, 0.29456928],\n",
       "       [0.39492416, 0.44320855, 0.16186728],\n",
       "       [0.4630388 , 0.39306748, 0.14389376],\n",
       "       [0.35489565, 0.46337196, 0.18173242],\n",
       "       [0.19982809, 0.5392919 , 0.26087996],\n",
       "       [0.31472212, 0.46056494, 0.22471288],\n",
       "       [0.4752003 , 0.33678186, 0.18801783],\n",
       "       [0.2773536 , 0.42770693, 0.2949395 ]], dtype=float32)"
      ]
     },
     "execution_count": 49,
     "metadata": {},
     "output_type": "execute_result"
    }
   ],
   "source": [
    "model.predict(X)"
   ]
  },
  {
   "cell_type": "markdown",
   "metadata": {},
   "source": [
    "### using history to check for over/under fitting\n",
    "\n"
   ]
  },
  {
   "cell_type": "markdown",
   "metadata": {},
   "source": [
    "-   neural network with the handwritten digits data set\n",
    "-   use `history` method to fine tune the number of epochs to avoid under/over-fitting\n",
    "\n"
   ]
  },
  {
   "cell_type": "code",
   "execution_count": 16,
   "metadata": {
    "collapsed": true,
    "jupyter": {
     "outputs_hidden": true
    },
    "tags": []
   },
   "outputs": [
    {
     "name": "stdout",
     "output_type": "stream",
     "text": [
      "Epoch 1/60\n",
      "118/118 [==============================] - 5s 34ms/step - loss: 9.4810 - accuracy: 0.8256 - val_loss: 2.3231 - val_accuracy: 0.9088\n",
      "Epoch 2/60\n",
      "118/118 [==============================] - 3s 26ms/step - loss: 1.7549 - accuracy: 0.9183 - val_loss: 1.4552 - val_accuracy: 0.9214\n",
      "Epoch 3/60\n",
      "118/118 [==============================] - 3s 27ms/step - loss: 1.0056 - accuracy: 0.9358 - val_loss: 1.1309 - val_accuracy: 0.9366\n",
      "Epoch 4/60\n",
      "118/118 [==============================] - 3s 24ms/step - loss: 0.6812 - accuracy: 0.9484 - val_loss: 1.0197 - val_accuracy: 0.9332\n",
      "Epoch 5/60\n",
      "118/118 [==============================] - 3s 24ms/step - loss: 0.5054 - accuracy: 0.9559 - val_loss: 0.8466 - val_accuracy: 0.9440\n",
      "Epoch 6/60\n",
      "118/118 [==============================] - 3s 22ms/step - loss: 0.3677 - accuracy: 0.9640 - val_loss: 0.7861 - val_accuracy: 0.9450\n",
      "Epoch 7/60\n",
      "118/118 [==============================] - 3s 23ms/step - loss: 0.2871 - accuracy: 0.9671 - val_loss: 0.7494 - val_accuracy: 0.9490\n",
      "Epoch 8/60\n",
      "118/118 [==============================] - 3s 24ms/step - loss: 0.2310 - accuracy: 0.9712 - val_loss: 0.7131 - val_accuracy: 0.9509\n",
      "Epoch 9/60\n",
      "118/118 [==============================] - 3s 26ms/step - loss: 0.1827 - accuracy: 0.9748 - val_loss: 0.6990 - val_accuracy: 0.9509\n",
      "Epoch 10/60\n",
      "118/118 [==============================] - 3s 23ms/step - loss: 0.1493 - accuracy: 0.9776 - val_loss: 0.6709 - val_accuracy: 0.9519\n",
      "Epoch 11/60\n",
      "118/118 [==============================] - 3s 24ms/step - loss: 0.1254 - accuracy: 0.9802 - val_loss: 0.6773 - val_accuracy: 0.9514\n",
      "Epoch 12/60\n",
      "118/118 [==============================] - 3s 24ms/step - loss: 0.1204 - accuracy: 0.9803 - val_loss: 0.6267 - val_accuracy: 0.9564\n",
      "Epoch 13/60\n",
      "118/118 [==============================] - 3s 23ms/step - loss: 0.0906 - accuracy: 0.9838 - val_loss: 0.6420 - val_accuracy: 0.95420873 - accuracy\n",
      "Epoch 14/60\n",
      "118/118 [==============================] - 3s 22ms/step - loss: 0.0895 - accuracy: 0.9835 - val_loss: 0.6557 - val_accuracy: 0.9535\n",
      "Epoch 15/60\n",
      "118/118 [==============================] - 3s 22ms/step - loss: 0.0752 - accuracy: 0.9862 - val_loss: 0.6365 - val_accuracy: 0.9539\n",
      "Epoch 16/60\n",
      "118/118 [==============================] - 3s 23ms/step - loss: 0.0538 - accuracy: 0.9886 - val_loss: 0.6245 - val_accuracy: 0.9558\n",
      "Epoch 17/60\n",
      "118/118 [==============================] - 3s 23ms/step - loss: 0.0473 - accuracy: 0.9898 - val_loss: 0.6287 - val_accuracy: 0.9568\n",
      "Epoch 18/60\n",
      "118/118 [==============================] - 3s 24ms/step - loss: 0.0419 - accuracy: 0.9909 - val_loss: 0.6135 - val_accuracy: 0.9597\n",
      "Epoch 19/60\n",
      "118/118 [==============================] - 3s 22ms/step - loss: 0.0550 - accuracy: 0.9882 - val_loss: 0.6242 - val_accuracy: 0.9565\n",
      "Epoch 20/60\n",
      "118/118 [==============================] - 3s 22ms/step - loss: 0.0520 - accuracy: 0.9894 - val_loss: 0.5954 - val_accuracy: 0.9583\n",
      "Epoch 21/60\n",
      "118/118 [==============================] - 3s 21ms/step - loss: 0.0435 - accuracy: 0.9905 - val_loss: 0.6009 - val_accuracy: 0.9610\n",
      "Epoch 22/60\n",
      "118/118 [==============================] - 2s 21ms/step - loss: 0.0436 - accuracy: 0.9907 - val_loss: 0.6420 - val_accuracy: 0.9573\n",
      "Epoch 23/60\n",
      "118/118 [==============================] - 3s 22ms/step - loss: 0.0465 - accuracy: 0.9902 - val_loss: 0.6827 - val_accuracy: 0.9571\n",
      "Epoch 24/60\n",
      "118/118 [==============================] - 3s 21ms/step - loss: 0.0606 - accuracy: 0.9888 - val_loss: 0.5970 - val_accuracy: 0.9597\n",
      "Epoch 25/60\n",
      "118/118 [==============================] - 3s 22ms/step - loss: 0.0438 - accuracy: 0.9911 - val_loss: 0.5739 - val_accuracy: 0.9619\n",
      "Epoch 26/60\n",
      "118/118 [==============================] - 3s 23ms/step - loss: 0.0428 - accuracy: 0.9914 - val_loss: 0.5960 - val_accuracy: 0.9610\n",
      "Epoch 27/60\n",
      "118/118 [==============================] - 3s 24ms/step - loss: 0.0443 - accuracy: 0.9907 - val_loss: 0.6318 - val_accuracy: 0.9595\n",
      "Epoch 28/60\n",
      "118/118 [==============================] - 3s 23ms/step - loss: 0.0714 - accuracy: 0.9882 - val_loss: 0.5554 - val_accuracy: 0.9629\n",
      "Epoch 29/60\n",
      "118/118 [==============================] - 3s 23ms/step - loss: 0.0500 - accuracy: 0.9908 - val_loss: 0.6326 - val_accuracy: 0.9622\n",
      "Epoch 30/60\n",
      "118/118 [==============================] - 3s 22ms/step - loss: 0.0481 - accuracy: 0.9913 - val_loss: 0.6542 - val_accuracy: 0.9605\n",
      "Epoch 31/60\n",
      "118/118 [==============================] - 3s 22ms/step - loss: 0.0498 - accuracy: 0.9908 - val_loss: 0.6144 - val_accuracy: 0.9626\n",
      "Epoch 32/60\n",
      "118/118 [==============================] - 3s 22ms/step - loss: 0.0555 - accuracy: 0.9902 - val_loss: 0.6180 - val_accuracy: 0.9638\n",
      "Epoch 33/60\n",
      "118/118 [==============================] - 3s 21ms/step - loss: 0.0707 - accuracy: 0.9889 - val_loss: 0.6251 - val_accuracy: 0.9639\n",
      "Epoch 34/60\n",
      "118/118 [==============================] - 3s 24ms/step - loss: 0.0600 - accuracy: 0.9894 - val_loss: 0.5951 - val_accuracy: 0.9648\n",
      "Epoch 35/60\n",
      "118/118 [==============================] - 3s 22ms/step - loss: 0.0482 - accuracy: 0.9920 - val_loss: 0.6127 - val_accuracy: 0.9649\n",
      "Epoch 36/60\n",
      "118/118 [==============================] - 3s 22ms/step - loss: 0.0417 - accuracy: 0.9926 - val_loss: 0.5658 - val_accuracy: 0.9636\n",
      "Epoch 37/60\n",
      "118/118 [==============================] - 3s 22ms/step - loss: 0.0538 - accuracy: 0.9909 - val_loss: 0.6260 - val_accuracy: 0.9631\n",
      "Epoch 38/60\n",
      "118/118 [==============================] - 3s 22ms/step - loss: 0.0357 - accuracy: 0.9933 - val_loss: 0.6135 - val_accuracy: 0.9654\n",
      "Epoch 39/60\n",
      "118/118 [==============================] - 3s 21ms/step - loss: 0.0399 - accuracy: 0.9929 - val_loss: 0.5755 - val_accuracy: 0.9658\n",
      "Epoch 40/60\n",
      "118/118 [==============================] - 3s 23ms/step - loss: 0.0539 - accuracy: 0.9916 - val_loss: 0.6047 - val_accuracy: 0.9642\n",
      "Epoch 41/60\n",
      "118/118 [==============================] - 3s 22ms/step - loss: 0.0493 - accuracy: 0.9921 - val_loss: 0.6088 - val_accuracy: 0.9658\n",
      "Epoch 42/60\n",
      "118/118 [==============================] - 3s 21ms/step - loss: 0.0608 - accuracy: 0.9906 - val_loss: 0.6206 - val_accuracy: 0.9663\n",
      "Epoch 43/60\n",
      "118/118 [==============================] - 3s 23ms/step - loss: 0.0463 - accuracy: 0.9928 - val_loss: 0.5811 - val_accuracy: 0.9667\n",
      "Epoch 44/60\n",
      "118/118 [==============================] - 3s 22ms/step - loss: 0.0698 - accuracy: 0.9898 - val_loss: 0.6353 - val_accuracy: 0.9669\n",
      "Epoch 45/60\n",
      "118/118 [==============================] - 3s 23ms/step - loss: 0.0421 - accuracy: 0.9927 - val_loss: 0.6545 - val_accuracy: 0.9628\n",
      "Epoch 46/60\n",
      "118/118 [==============================] - 3s 24ms/step - loss: 0.0407 - accuracy: 0.9931 - val_loss: 0.6385 - val_accuracy: 0.9654\n",
      "Epoch 47/60\n",
      "118/118 [==============================] - 3s 23ms/step - loss: 0.0267 - accuracy: 0.9952 - val_loss: 0.5704 - val_accuracy: 0.9686\n",
      "Epoch 48/60\n",
      "118/118 [==============================] - 3s 24ms/step - loss: 0.0237 - accuracy: 0.9956 - val_loss: 0.6239 - val_accuracy: 0.9672\n",
      "Epoch 49/60\n",
      "118/118 [==============================] - 3s 24ms/step - loss: 0.0256 - accuracy: 0.9952 - val_loss: 0.6702 - val_accuracy: 0.9657\n",
      "Epoch 50/60\n",
      "118/118 [==============================] - 3s 22ms/step - loss: 0.0274 - accuracy: 0.9954 - val_loss: 0.6628 - val_accuracy: 0.9677\n",
      "Epoch 51/60\n",
      "118/118 [==============================] - 3s 22ms/step - loss: 0.0400 - accuracy: 0.9939 - val_loss: 0.6312 - val_accuracy: 0.9693\n",
      "Epoch 52/60\n",
      "118/118 [==============================] - 3s 23ms/step - loss: 0.0385 - accuracy: 0.9937 - val_loss: 0.6934 - val_accuracy: 0.9678\n",
      "Epoch 53/60\n",
      "118/118 [==============================] - 3s 23ms/step - loss: 0.0431 - accuracy: 0.9931 - val_loss: 0.6894 - val_accuracy: 0.9636\n",
      "Epoch 54/60\n",
      "118/118 [==============================] - 3s 24ms/step - loss: 0.0489 - accuracy: 0.9933 - val_loss: 0.6264 - val_accuracy: 0.9696\n",
      "Epoch 55/60\n",
      "118/118 [==============================] - 3s 22ms/step - loss: 0.0735 - accuracy: 0.9906 - val_loss: 0.7337 - val_accuracy: 0.9653\n",
      "Epoch 56/60\n",
      "118/118 [==============================] - 3s 24ms/step - loss: 0.0496 - accuracy: 0.9931 - val_loss: 0.6072 - val_accuracy: 0.9702\n",
      "Epoch 57/60\n",
      "118/118 [==============================] - 3s 23ms/step - loss: 0.0311 - accuracy: 0.9951 - val_loss: 0.6271 - val_accuracy: 0.9674\n",
      "Epoch 58/60\n",
      "118/118 [==============================] - 3s 22ms/step - loss: 0.0412 - accuracy: 0.9943 - val_loss: 0.6940 - val_accuracy: 0.9669\n",
      "Epoch 59/60\n",
      "118/118 [==============================] - 3s 25ms/step - loss: 0.0239 - accuracy: 0.9959 - val_loss: 0.6569 - val_accuracy: 0.9716\n",
      "Epoch 60/60\n",
      "118/118 [==============================] - 3s 23ms/step - loss: 0.0548 - accuracy: 0.9926 - val_loss: 0.6726 - val_accuracy: 0.9698\n"
     ]
    }
   ],
   "source": [
    "(train_images, train_labels), (test_images, test_labels) = tf.keras.datasets.mnist.load_data()\n",
    "\n",
    "model = keras.Sequential([\n",
    "    keras.layers.Flatten(input_shape=(28, 28)),\n",
    "    keras.layers.Dense(128, activation='relu'),\n",
    "    keras.layers.Dense(10, activation='softmax')\n",
    "])\n",
    "\n",
    "model.compile(optimizer='adam',\n",
    "              loss='sparse_categorical_crossentropy',\n",
    "              metrics=['accuracy'])\n",
    "\n",
    "\n",
    "history = model.fit(train_images,\n",
    "                    train_labels,\n",
    "                    epochs=60,\n",
    "                    batch_size=512,\n",
    "                    validation_data=(test_images, test_labels))"
   ]
  },
  {
   "cell_type": "code",
   "execution_count": 17,
   "metadata": {},
   "outputs": [
    {
     "data": {
      "image/png": "[encoded data removed]",
      "text/plain": [
       "<Figure size 432x288 with 1 Axes>"
      ]
     },
     "metadata": {
      "needs_background": "light"
     },
     "output_type": "display_data"
    }
   ],
   "source": [
    "loss = history.history['loss'][1:]\n",
    "val_loss = history.history['val_loss'][1:]\n",
    "\n",
    "epochs = range(1, len(loss)+1)\n",
    "\n",
    "plt.plot(epochs, loss, 'bo', label='Training loss')\n",
    "plt.plot(epochs, val_loss, 'b', label='Validation loss')\n",
    "plt.title('Training and validation loss')\n",
    "plt.xlabel('Epochs')\n",
    "plt.ylabel('Loss')\n",
    "plt.legend()\n",
    "plt.show()"
   ]
  },
  {
   "cell_type": "markdown",
   "metadata": {},
   "source": [
    "#### TODO experiment with architecture: number of nodes and layers; e.g. try to over- or under-fit\n",
    "\n"
   ]
  },
  {
   "cell_type": "markdown",
   "metadata": {},
   "source": [
    "### treatment effects:\n",
    "\n"
   ]
  },
  {
   "cell_type": "markdown",
   "metadata": {},
   "source": [
    "-   to stress the difference between prediction (above) and causality, we finish with a causal problem\n",
    "    -   we program our own data to see how IV works in identifying causal effects\n",
    "    -   what can we identify if the effects of a program differ by group?\n",
    "\n",
    "When examining the effect of education (e) on wage rate (w), there can be a confounding effect: personal motivation (u). This we call a &ldquo;fork&rdquo;. Regressing $e$ on $w$ will not give us the effect of education on the income you will earn.\n",
    "\n",
    "But if you want to predict wage, make sure you include education in your regression!\n",
    "\n",
    "We need an exogenous variation in $e$ to find the causal effect: e.g. the month that you go to (or leave) school.\n",
    "\n",
    "-   we generate our own data where $e$ has no effect on $w$\n",
    "-   running the regression of $w$ on $e$ shows that a correlation exists\n",
    "-   using an instrumental variable, we recover that this correlation is not a causal effect\n",
    "-   the assumption here is that the effect of $e$ on $w$ is the same for everyone\n",
    "\n",
    "Heterogeneous treatment effects:\n",
    "\n",
    "-   we allow different groups of unemployed (compliers, always-takers and never-takers) to be affected differently by training\n",
    "-   under which conditions can we identify the correct effects of training?\n",
    "\n",
    "We generate the data with:\n",
    "\n"
   ]
  },
  {
   "cell_type": "code",
   "execution_count": 27,
   "metadata": {},
   "outputs": [
    {
     "data": {
      "text/html": [
       "<div>\n",
       "<style scoped>\n",
       "    .dataframe tbody tr th:only-of-type {\n",
       "        vertical-align: middle;\n",
       "    }\n",
       "\n",
       "    .dataframe tbody tr th {\n",
       "        vertical-align: top;\n",
       "    }\n",
       "\n",
       "    .dataframe thead th {\n",
       "        text-align: right;\n",
       "    }\n",
       "</style>\n",
       "<table border=\"1\" class=\"dataframe\">\n",
       "  <thead>\n",
       "    <tr style=\"text-align: right;\">\n",
       "      <th></th>\n",
       "      <th>invited</th>\n",
       "      <th>trained</th>\n",
       "      <th>earnings</th>\n",
       "    </tr>\n",
       "  </thead>\n",
       "  <tbody>\n",
       "    <tr>\n",
       "      <th>0</th>\n",
       "      <td>1</td>\n",
       "      <td>1</td>\n",
       "      <td>4.917681</td>\n",
       "    </tr>\n",
       "    <tr>\n",
       "      <th>1</th>\n",
       "      <td>0</td>\n",
       "      <td>0</td>\n",
       "      <td>2.076008</td>\n",
       "    </tr>\n",
       "    <tr>\n",
       "      <th>2</th>\n",
       "      <td>0</td>\n",
       "      <td>0</td>\n",
       "      <td>0.491808</td>\n",
       "    </tr>\n",
       "    <tr>\n",
       "      <th>3</th>\n",
       "      <td>0</td>\n",
       "      <td>0</td>\n",
       "      <td>-0.269131</td>\n",
       "    </tr>\n",
       "    <tr>\n",
       "      <th>4</th>\n",
       "      <td>0</td>\n",
       "      <td>0</td>\n",
       "      <td>0.092641</td>\n",
       "    </tr>\n",
       "  </tbody>\n",
       "</table>\n",
       "</div>"
      ],
      "text/plain": [
       "   invited  trained  earnings\n",
       "0        1        1  4.917681\n",
       "1        0        0  2.076008\n",
       "2        0        0  0.491808\n",
       "3        0        0 -0.269131\n",
       "4        0        0  0.092641"
      ]
     },
     "execution_count": 27,
     "metadata": {},
     "output_type": "execute_result"
    }
   ],
   "source": [
    "def accept_complier(invited):\n",
    "    return invited\n",
    "\n",
    "def accept_always(invited):\n",
    "    return np.ones_like(invited)\n",
    "\n",
    "def accept_never(invited):\n",
    "    return np.zeros_like(invited)\n",
    "\n",
    "N_simulations = 10000\n",
    "fraction_training = 0.2 # 20% of agents are invited to the training\n",
    "types = ['complier','always_taker', 'never_taker']\n",
    "β = {'complier': 1, 'always_taker': 2, 'never_taker': 1}\n",
    "τ = {'complier': 3, 'always_taker': 4, 'never_taker': 1}\n",
    "n = {'complier': 0.5, 'always_taker': 0.25, 'never_taker': 0.25}\n",
    "accept = {'complier': accept_complier, 'always_taker': accept_always, 'never_taker': accept_never} # note that this dictionary returns a function\n",
    "earnings_without = {}\n",
    "training_effect = {}\n",
    "earnings = {}\n",
    "invited = {}\n",
    "trained = {}\n",
    "df = pd.DataFrame()\n",
    "def data_simulation(β = β, τ=τ, n = n):\n",
    "    for j in types:\n",
    "        earnings_without[j] = np.random.normal(loc = β[j], scale = 1.0, size = int(n[j]*N_simulations))\n",
    "        training_effect[j] = np.random.normal(loc = τ[j], scale = 1.0, size = int(n[j]*N_simulations))\n",
    "        invited[j] = np.random.binomial(1,fraction_training,size = int(n[j]*N_simulations))\n",
    "        trained[j] = accept[j](invited[j])\n",
    "        earnings[j] = earnings_without[j] + trained[j]*training_effect[j]\n",
    "    column_invited = np.concatenate([invited[j] for j in types],axis=0)\n",
    "    column_trained = np.concatenate([trained[j] for j in types],axis=0)\n",
    "    column_earnings = np.concatenate([earnings[j] for j in types],axis=0)\n",
    "    df = pd.DataFrame({'invited':column_invited, 'trained':column_trained,'earnings':column_earnings})\n",
    "    return df\n",
    "\n",
    "df = data_simulation()\n",
    "df.head()"
   ]
  },
  {
   "cell_type": "markdown",
   "metadata": {},
   "source": [
    "Once we have this data, we can try different identification measures to see which of the parameters above we can recover from the data in the dataframe.\n",
    "\n",
    "| |%|trained|untrained| β | β + τ |\n",
    "|---|---|---|---|---|---|\n",
    "| complier|0.5|0.1|0.4|1|4|\n",
    "| always taker|0.25|0.25|0|2|6|\n",
    "| never taker|0.25|0|0.25|1|2|\n",
    "\n",
    "In the notebook we go over a number of estimation techniques to see under which conditions a given technique can recover the relevant parameter values.\n",
    "\n"
   ]
  },
  {
   "cell_type": "markdown",
   "metadata": {},
   "source": [
    "## aside: setting seed for random numbers\n",
    "\n",
    "When you run the code above, you will get different random numbers from the ones above. If you want to avoid this (e.g. to make your results reproducible for someone else), you can set a seed:"
   ]
  },
  {
   "cell_type": "code",
   "execution_count": 53,
   "metadata": {},
   "outputs": [
    {
     "name": "stdout",
     "output_type": "stream",
     "text": [
      "[ 1.65143654 -2.42667924 -0.42891263  1.26593626 -0.8667404 ]\n",
      "[-0.67888615 -0.09470897  1.49138963 -0.638902   -0.44398196]\n"
     ]
    }
   ],
   "source": [
    "print(np.random.normal(0,1,size=5))\n",
    "print(np.random.normal(0,1,size=5))"
   ]
  },
  {
   "cell_type": "code",
   "execution_count": 55,
   "metadata": {},
   "outputs": [
    {
     "name": "stdout",
     "output_type": "stream",
     "text": [
      "[-1.0856306   0.99734545  0.2829785  -1.50629471 -0.57860025]\n",
      "[ 1.65143654 -2.42667924 -0.42891263  1.26593626 -0.8667404 ]\n",
      "[-1.0856306   0.99734545  0.2829785  -1.50629471 -0.57860025]\n",
      "[ 1.65143654 -2.42667924 -0.42891263  1.26593626 -0.8667404 ]\n"
     ]
    }
   ],
   "source": [
    "np.random.seed(123)\n",
    "print(np.random.normal(0,1,size=5))\n",
    "print(np.random.normal(0,1,size=5))\n",
    "np.random.seed(123)\n",
    "print(np.random.normal(0,1,size=5))\n",
    "print(np.random.normal(0,1,size=5))"
   ]
  },
  {
   "cell_type": "markdown",
   "metadata": {},
   "source": [
    "# next lecture: getting data\n",
    "\n"
   ]
  },
  {
   "cell_type": "markdown",
   "metadata": {},
   "source": [
    "#### TODO upload `country_code.py` file on jupyterlab\n",
    "\n"
   ]
  },
  {
   "cell_type": "markdown",
   "metadata": {},
   "source": [
    "We look at the data for each variable, decide on the shape we want to have for the dataframe and then merge a number of data sets together. For this we will be using pandas. Further, we use the python file `country_codes.py` which should be in the same folder as this notebook.\n",
    "\n",
    "We focus on the following countries when looking at the data. For the Eurostat data this does not matter so much. But if you want to combine Eurostat data with OECD data, this selection can be useful.\n",
    "\n"
   ]
  },
  {
   "cell_type": "code",
   "execution_count": 56,
   "metadata": {},
   "outputs": [],
   "source": [
    "EU_countries = ['Belgium', 'Bulgaria', 'Czechia', 'Denmark',\n",
    "'Germany (until 1990 former territory of the FRG)', 'Germany','Estonia',\n",
    "'Ireland', 'Greece', 'Spain', 'France', 'Croatia', 'Italy',\n",
    "'Cyprus', 'Latvia', 'Lithuania', 'Luxembourg', 'Hungary', 'Malta',\n",
    "'Netherlands', 'Austria', 'Poland', 'Portugal', 'Romania',\n",
    "'Slovenia', 'Slovakia', 'Finland', 'Sweden', 'United Kingdom',\n",
    "'Iceland', 'Liechtenstein', 'Norway', 'Switzerland',\n",
    "'Bosnia and Herzegovina']"
   ]
  },
  {
   "cell_type": "markdown",
   "metadata": {},
   "source": [
    "#### Mortality\n",
    "\n"
   ]
  },
  {
   "cell_type": "markdown",
   "metadata": {},
   "source": [
    "The [Eurostat website](https://ec.europa.eu/eurostat/data/database?node_code=hlth_cd_apr) has a browser where you can look for data. Here we are looking for data on mortality. You can click on the link to the data browser to see the [details of the variable](https://ec.europa.eu/eurostat/databrowser/view/hlth_cd_apr/default/table?lang=en). At the top-left of the screen you can see the name of the variable in the line &ldquo;`online data code: HLTH_CD_APR`&rdquo;. The name of this variable we use below in the `get_data_df` method.\n",
    "\n",
    "So we call this method and collect the information in the dataframe `df`. Then we check what `df` looks like:\n",
    "\n"
   ]
  },
  {
   "cell_type": "code",
   "execution_count": 57,
   "metadata": {},
   "outputs": [
    {
     "data": {
      "text/html": [
       "<div>\n",
       "<style scoped>\n",
       "    .dataframe tbody tr th:only-of-type {\n",
       "        vertical-align: middle;\n",
       "    }\n",
       "\n",
       "    .dataframe tbody tr th {\n",
       "        vertical-align: top;\n",
       "    }\n",
       "\n",
       "    .dataframe thead th {\n",
       "        text-align: right;\n",
       "    }\n",
       "</style>\n",
       "<table border=\"1\" class=\"dataframe\">\n",
       "  <thead>\n",
       "    <tr style=\"text-align: right;\">\n",
       "      <th></th>\n",
       "      <th>mortalit</th>\n",
       "      <th>sex</th>\n",
       "      <th>icd10</th>\n",
       "      <th>unit</th>\n",
       "      <th>geo\\time</th>\n",
       "      <th>2018</th>\n",
       "      <th>2017</th>\n",
       "      <th>2016</th>\n",
       "      <th>2015</th>\n",
       "      <th>2014</th>\n",
       "      <th>2013</th>\n",
       "      <th>2012</th>\n",
       "      <th>2011</th>\n",
       "    </tr>\n",
       "  </thead>\n",
       "  <tbody>\n",
       "    <tr>\n",
       "      <th>0</th>\n",
       "      <td>PRVT</td>\n",
       "      <td>F</td>\n",
       "      <td>A00-A09</td>\n",
       "      <td>NR</td>\n",
       "      <td>AT</td>\n",
       "      <td>8.0</td>\n",
       "      <td>10.0</td>\n",
       "      <td>15.0</td>\n",
       "      <td>5.0</td>\n",
       "      <td>6.0</td>\n",
       "      <td>9.0</td>\n",
       "      <td>12.0</td>\n",
       "      <td>7.0</td>\n",
       "    </tr>\n",
       "    <tr>\n",
       "      <th>1</th>\n",
       "      <td>PRVT</td>\n",
       "      <td>F</td>\n",
       "      <td>A00-A09</td>\n",
       "      <td>NR</td>\n",
       "      <td>BE</td>\n",
       "      <td>26.0</td>\n",
       "      <td>45.0</td>\n",
       "      <td>27.0</td>\n",
       "      <td>26.0</td>\n",
       "      <td>26.0</td>\n",
       "      <td>20.0</td>\n",
       "      <td>11.0</td>\n",
       "      <td>25.0</td>\n",
       "    </tr>\n",
       "    <tr>\n",
       "      <th>2</th>\n",
       "      <td>PRVT</td>\n",
       "      <td>F</td>\n",
       "      <td>A00-A09</td>\n",
       "      <td>NR</td>\n",
       "      <td>BG</td>\n",
       "      <td>3.0</td>\n",
       "      <td>4.0</td>\n",
       "      <td>7.0</td>\n",
       "      <td>13.0</td>\n",
       "      <td>11.0</td>\n",
       "      <td>10.0</td>\n",
       "      <td>4.0</td>\n",
       "      <td>5.0</td>\n",
       "    </tr>\n",
       "    <tr>\n",
       "      <th>3</th>\n",
       "      <td>PRVT</td>\n",
       "      <td>F</td>\n",
       "      <td>A00-A09</td>\n",
       "      <td>NR</td>\n",
       "      <td>CH</td>\n",
       "      <td>11.0</td>\n",
       "      <td>13.0</td>\n",
       "      <td>13.0</td>\n",
       "      <td>5.0</td>\n",
       "      <td>9.0</td>\n",
       "      <td>9.0</td>\n",
       "      <td>14.0</td>\n",
       "      <td>14.0</td>\n",
       "    </tr>\n",
       "    <tr>\n",
       "      <th>4</th>\n",
       "      <td>PRVT</td>\n",
       "      <td>F</td>\n",
       "      <td>A00-A09</td>\n",
       "      <td>NR</td>\n",
       "      <td>CY</td>\n",
       "      <td>2.0</td>\n",
       "      <td>2.0</td>\n",
       "      <td>0.0</td>\n",
       "      <td>0.0</td>\n",
       "      <td>0.0</td>\n",
       "      <td>1.0</td>\n",
       "      <td>1.0</td>\n",
       "      <td>6.0</td>\n",
       "    </tr>\n",
       "  </tbody>\n",
       "</table>\n",
       "</div>"
      ],
      "text/plain": [
       "  mortalit sex    icd10 unit geo\\time  2018  2017  2016  2015  2014  2013  \\\n",
       "0     PRVT   F  A00-A09   NR       AT   8.0  10.0  15.0   5.0   6.0   9.0   \n",
       "1     PRVT   F  A00-A09   NR       BE  26.0  45.0  27.0  26.0  26.0  20.0   \n",
       "2     PRVT   F  A00-A09   NR       BG   3.0   4.0   7.0  13.0  11.0  10.0   \n",
       "3     PRVT   F  A00-A09   NR       CH  11.0  13.0  13.0   5.0   9.0   9.0   \n",
       "4     PRVT   F  A00-A09   NR       CY   2.0   2.0   0.0   0.0   0.0   1.0   \n",
       "\n",
       "   2012  2011  \n",
       "0  12.0   7.0  \n",
       "1  11.0  25.0  \n",
       "2   4.0   5.0  \n",
       "3  14.0  14.0  \n",
       "4   1.0   6.0  "
      ]
     },
     "execution_count": 57,
     "metadata": {},
     "output_type": "execute_result"
    }
   ],
   "source": [
    "df = eurostat.get_data_df('hlth_cd_apr')\n",
    "df.head()"
   ]
  },
  {
   "cell_type": "markdown",
   "metadata": {},
   "source": [
    "We would like to get our data into the following shape:\n",
    "\n",
    "| country|year|sex|Preventable  mortality|Treatable  mortality|\n",
    "|---|---|---|---|---|\n",
    "| Austria|2011|F|95.29|67.41|\n",
    "| Austria|2011|M|248.50|96.86|\n",
    "| Austria|2012|F|96.16|69.72|\n",
    "| Austria|2012|M|252.28|91.45|\n",
    "| Austria|2013|F|93.22|66.84|\n",
    "\n",
    "Hence we need to use pandas to get from our initial `df` to a dataframe like this table. The good news is that we will download a number of variables so that we can practice a lot!\n",
    "\n",
    "So we have a number of columns with abbreviations in them and then we have data for the years 2011-2017. Use the website of the variable to figure out what the abbreviations mean. To illustrate, the column `mortalit` gives three measures of mortality:\n",
    "\n"
   ]
  },
  {
   "cell_type": "code",
   "execution_count": 58,
   "metadata": {},
   "outputs": [
    {
     "data": {
      "text/plain": [
       "array(['PRVT', 'TOTAL', 'TRT'], dtype=object)"
      ]
     },
     "execution_count": 58,
     "metadata": {},
     "output_type": "execute_result"
    }
   ],
   "source": [
    "df.mortalit.unique()"
   ]
  },
  {
   "cell_type": "markdown",
   "metadata": {},
   "source": [
    "We will be interested in preventable &rsquo;PRVT&rsquo; and treatable &rsquo;TRT&rsquo; mortality.\n",
    "\n",
    "First, let&rsquo;s change the country column `geo\\time` and use country names instead of abbreviations. We need to &ldquo;escape&rdquo; the &rsquo;\\\\&rsquo; symbol to make sure pandas reads &rsquo;\\\\&rsquo; literally (not as a symbol). That is why we have &rsquo;\\\\\\\\&rsquo; in the code below. We use the `eurostat_dictionary` to turn the country abbreviations into country names.\n",
    "\n",
    "Note that to change the column name we use `.rename`; to change values in a row, we use `.replace`. The replacements are provided using a python dictionary: `{'old_name':'new_name'}`.\n",
    "\n",
    "If you are wondering why we use `inplace=True`, just run the code block without this to see the difference.\n",
    "\n"
   ]
  },
  {
   "cell_type": "code",
   "execution_count": 33,
   "metadata": {},
   "outputs": [
    {
     "data": {
      "text/html": [
       "<div>\n",
       "<style scoped>\n",
       "    .dataframe tbody tr th:only-of-type {\n",
       "        vertical-align: middle;\n",
       "    }\n",
       "\n",
       "    .dataframe tbody tr th {\n",
       "        vertical-align: top;\n",
       "    }\n",
       "\n",
       "    .dataframe thead th {\n",
       "        text-align: right;\n",
       "    }\n",
       "</style>\n",
       "<table border=\"1\" class=\"dataframe\">\n",
       "  <thead>\n",
       "    <tr style=\"text-align: right;\">\n",
       "      <th></th>\n",
       "      <th>mortalit</th>\n",
       "      <th>sex</th>\n",
       "      <th>icd10</th>\n",
       "      <th>unit</th>\n",
       "      <th>geo</th>\n",
       "      <th>2018</th>\n",
       "      <th>2017</th>\n",
       "      <th>2016</th>\n",
       "      <th>2015</th>\n",
       "      <th>2014</th>\n",
       "      <th>2013</th>\n",
       "      <th>2012</th>\n",
       "      <th>2011</th>\n",
       "      <th>country</th>\n",
       "    </tr>\n",
       "  </thead>\n",
       "  <tbody>\n",
       "    <tr>\n",
       "      <th>0</th>\n",
       "      <td>PRVT</td>\n",
       "      <td>F</td>\n",
       "      <td>A00-A09</td>\n",
       "      <td>NR</td>\n",
       "      <td>AT</td>\n",
       "      <td>8.0</td>\n",
       "      <td>10.0</td>\n",
       "      <td>15.0</td>\n",
       "      <td>5.0</td>\n",
       "      <td>6.0</td>\n",
       "      <td>9.0</td>\n",
       "      <td>12.0</td>\n",
       "      <td>7.0</td>\n",
       "      <td>Austria</td>\n",
       "    </tr>\n",
       "    <tr>\n",
       "      <th>1</th>\n",
       "      <td>PRVT</td>\n",
       "      <td>F</td>\n",
       "      <td>A00-A09</td>\n",
       "      <td>NR</td>\n",
       "      <td>BE</td>\n",
       "      <td>26.0</td>\n",
       "      <td>45.0</td>\n",
       "      <td>27.0</td>\n",
       "      <td>26.0</td>\n",
       "      <td>26.0</td>\n",
       "      <td>20.0</td>\n",
       "      <td>11.0</td>\n",
       "      <td>25.0</td>\n",
       "      <td>Belgium</td>\n",
       "    </tr>\n",
       "    <tr>\n",
       "      <th>2</th>\n",
       "      <td>PRVT</td>\n",
       "      <td>F</td>\n",
       "      <td>A00-A09</td>\n",
       "      <td>NR</td>\n",
       "      <td>BG</td>\n",
       "      <td>3.0</td>\n",
       "      <td>4.0</td>\n",
       "      <td>7.0</td>\n",
       "      <td>13.0</td>\n",
       "      <td>11.0</td>\n",
       "      <td>10.0</td>\n",
       "      <td>4.0</td>\n",
       "      <td>5.0</td>\n",
       "      <td>Bulgaria</td>\n",
       "    </tr>\n",
       "    <tr>\n",
       "      <th>3</th>\n",
       "      <td>PRVT</td>\n",
       "      <td>F</td>\n",
       "      <td>A00-A09</td>\n",
       "      <td>NR</td>\n",
       "      <td>CH</td>\n",
       "      <td>11.0</td>\n",
       "      <td>13.0</td>\n",
       "      <td>13.0</td>\n",
       "      <td>5.0</td>\n",
       "      <td>9.0</td>\n",
       "      <td>9.0</td>\n",
       "      <td>14.0</td>\n",
       "      <td>14.0</td>\n",
       "      <td>Switzerland</td>\n",
       "    </tr>\n",
       "    <tr>\n",
       "      <th>4</th>\n",
       "      <td>PRVT</td>\n",
       "      <td>F</td>\n",
       "      <td>A00-A09</td>\n",
       "      <td>NR</td>\n",
       "      <td>CY</td>\n",
       "      <td>2.0</td>\n",
       "      <td>2.0</td>\n",
       "      <td>0.0</td>\n",
       "      <td>0.0</td>\n",
       "      <td>0.0</td>\n",
       "      <td>1.0</td>\n",
       "      <td>1.0</td>\n",
       "      <td>6.0</td>\n",
       "      <td>Cyprus</td>\n",
       "    </tr>\n",
       "  </tbody>\n",
       "</table>\n",
       "</div>"
      ],
      "text/plain": [
       "  mortalit sex    icd10 unit geo  2018  2017  2016  2015  2014  2013  2012  \\\n",
       "0     PRVT   F  A00-A09   NR  AT   8.0  10.0  15.0   5.0   6.0   9.0  12.0   \n",
       "1     PRVT   F  A00-A09   NR  BE  26.0  45.0  27.0  26.0  26.0  20.0  11.0   \n",
       "2     PRVT   F  A00-A09   NR  BG   3.0   4.0   7.0  13.0  11.0  10.0   4.0   \n",
       "3     PRVT   F  A00-A09   NR  CH  11.0  13.0  13.0   5.0   9.0   9.0  14.0   \n",
       "4     PRVT   F  A00-A09   NR  CY   2.0   2.0   0.0   0.0   0.0   1.0   1.0   \n",
       "\n",
       "   2011      country  \n",
       "0   7.0      Austria  \n",
       "1  25.0      Belgium  \n",
       "2   5.0     Bulgaria  \n",
       "3  14.0  Switzerland  \n",
       "4   6.0       Cyprus  "
      ]
     },
     "execution_count": 33,
     "metadata": {},
     "output_type": "execute_result"
    }
   ],
   "source": [
    "df.rename({'geo\\\\time':'geo'},inplace=True,axis=1)\n",
    "df['country'] = df['geo'].replace(eurostat_dictionary)\n",
    "df.head()"
   ]
  },
  {
   "cell_type": "markdown",
   "metadata": {},
   "source": [
    "### aside: what is \\t?\n",
    "\n",
    "In the example above, we need to \"escape\" `\\time` for the following reason:"
   ]
  },
  {
   "cell_type": "code",
   "execution_count": 61,
   "metadata": {},
   "outputs": [
    {
     "name": "stdout",
     "output_type": "stream",
     "text": [
      "geo\time\n",
      "geo\\time\n"
     ]
    }
   ],
   "source": [
    "print('geo\\time')\n",
    "print('geo\\\\time')"
   ]
  },
  {
   "cell_type": "markdown",
   "metadata": {},
   "source": [
    "Now we will select the values that we are interested in: only EU countries, both males and females, both preventable and treatable mortality, unit of measurement rate &rsquo;RT&rsquo; (not number &rsquo;NR&rsquo;) and all diseases (e.g. not the subset &ldquo; [A00-A09] Intestinal infectious diseases&rdquo;).\n",
    "\n",
    "For selection, we can use `==` or `.isin()`. With numbers we can also use smaller/greater than `<,>` etc.\n",
    "\n",
    "After this selection, we can drop some columns to make the dataframe a bit easier to handle.\n",
    "\n"
   ]
  },
  {
   "cell_type": "code",
   "execution_count": 35,
   "metadata": {},
   "outputs": [
    {
     "data": {
      "text/html": [
       "<div>\n",
       "<style scoped>\n",
       "    .dataframe tbody tr th:only-of-type {\n",
       "        vertical-align: middle;\n",
       "    }\n",
       "\n",
       "    .dataframe tbody tr th {\n",
       "        vertical-align: top;\n",
       "    }\n",
       "\n",
       "    .dataframe thead th {\n",
       "        text-align: right;\n",
       "    }\n",
       "</style>\n",
       "<table border=\"1\" class=\"dataframe\">\n",
       "  <thead>\n",
       "    <tr style=\"text-align: right;\">\n",
       "      <th></th>\n",
       "      <th>mortalit</th>\n",
       "      <th>sex</th>\n",
       "      <th>2018</th>\n",
       "      <th>2017</th>\n",
       "      <th>2016</th>\n",
       "      <th>2015</th>\n",
       "      <th>2014</th>\n",
       "      <th>2013</th>\n",
       "      <th>2012</th>\n",
       "      <th>2011</th>\n",
       "      <th>country</th>\n",
       "    </tr>\n",
       "  </thead>\n",
       "  <tbody>\n",
       "    <tr>\n",
       "      <th>6300</th>\n",
       "      <td>PRVT</td>\n",
       "      <td>F</td>\n",
       "      <td>93.11</td>\n",
       "      <td>92.94</td>\n",
       "      <td>96.39</td>\n",
       "      <td>97.52</td>\n",
       "      <td>93.95</td>\n",
       "      <td>93.22</td>\n",
       "      <td>96.16</td>\n",
       "      <td>95.29</td>\n",
       "      <td>Austria</td>\n",
       "    </tr>\n",
       "    <tr>\n",
       "      <th>6301</th>\n",
       "      <td>PRVT</td>\n",
       "      <td>F</td>\n",
       "      <td>92.58</td>\n",
       "      <td>93.42</td>\n",
       "      <td>94.13</td>\n",
       "      <td>99.71</td>\n",
       "      <td>95.40</td>\n",
       "      <td>100.34</td>\n",
       "      <td>99.97</td>\n",
       "      <td>101.35</td>\n",
       "      <td>Belgium</td>\n",
       "    </tr>\n",
       "    <tr>\n",
       "      <th>6302</th>\n",
       "      <td>PRVT</td>\n",
       "      <td>F</td>\n",
       "      <td>119.02</td>\n",
       "      <td>121.87</td>\n",
       "      <td>120.14</td>\n",
       "      <td>128.32</td>\n",
       "      <td>129.04</td>\n",
       "      <td>119.29</td>\n",
       "      <td>126.17</td>\n",
       "      <td>119.32</td>\n",
       "      <td>Bulgaria</td>\n",
       "    </tr>\n",
       "    <tr>\n",
       "      <th>6303</th>\n",
       "      <td>PRVT</td>\n",
       "      <td>F</td>\n",
       "      <td>70.94</td>\n",
       "      <td>68.45</td>\n",
       "      <td>68.91</td>\n",
       "      <td>69.37</td>\n",
       "      <td>72.70</td>\n",
       "      <td>73.85</td>\n",
       "      <td>74.02</td>\n",
       "      <td>73.75</td>\n",
       "      <td>Switzerland</td>\n",
       "    </tr>\n",
       "    <tr>\n",
       "      <th>6304</th>\n",
       "      <td>PRVT</td>\n",
       "      <td>F</td>\n",
       "      <td>50.87</td>\n",
       "      <td>46.69</td>\n",
       "      <td>49.98</td>\n",
       "      <td>55.67</td>\n",
       "      <td>54.65</td>\n",
       "      <td>47.75</td>\n",
       "      <td>49.38</td>\n",
       "      <td>57.31</td>\n",
       "      <td>Cyprus</td>\n",
       "    </tr>\n",
       "  </tbody>\n",
       "</table>\n",
       "</div>"
      ],
      "text/plain": [
       "     mortalit sex    2018    2017    2016    2015    2014    2013    2012  \\\n",
       "6300     PRVT   F   93.11   92.94   96.39   97.52   93.95   93.22   96.16   \n",
       "6301     PRVT   F   92.58   93.42   94.13   99.71   95.40  100.34   99.97   \n",
       "6302     PRVT   F  119.02  121.87  120.14  128.32  129.04  119.29  126.17   \n",
       "6303     PRVT   F   70.94   68.45   68.91   69.37   72.70   73.85   74.02   \n",
       "6304     PRVT   F   50.87   46.69   49.98   55.67   54.65   47.75   49.38   \n",
       "\n",
       "        2011      country  \n",
       "6300   95.29      Austria  \n",
       "6301  101.35      Belgium  \n",
       "6302  119.32     Bulgaria  \n",
       "6303   73.75  Switzerland  \n",
       "6304   57.31       Cyprus  "
      ]
     },
     "execution_count": 35,
     "metadata": {},
     "output_type": "execute_result"
    }
   ],
   "source": [
    "df = df[df.country.isin(EU_countries) & (df.sex.isin([\"M\",\"F\"]) ) & (df.mortalit.isin([\"PRVT\",\"TRT\"])) \\\n",
    "        & (df.unit == \"RT\") & (df.icd10 == \"TOTAL\")]\n",
    "df.drop([\"unit\",\"icd10\",\"geo\"],axis=1,inplace=True)\n",
    "df.head()"
   ]
  },
  {
   "cell_type": "code",
   "execution_count": null,
   "metadata": {},
   "outputs": [],
   "source": []
  },
  {
   "cell_type": "code",
   "execution_count": null,
   "metadata": {},
   "outputs": [],
   "source": []
  }
 ],
 "metadata": {
  "kernelspec": {
   "display_name": "Python 3 (ipykernel)",
   "language": "python",
   "name": "python3"
  },
  "language_info": {
   "codemirror_mode": {
    "name": "ipython",
    "version": 3
   },
   "file_extension": ".py",
   "mimetype": "text/x-python",
   "name": "python",
   "nbconvert_exporter": "python",
   "pygments_lexer": "ipython3",
   "version": "3.9.7"
  },
  "org": null
 },
 "nbformat": 4,
 "nbformat_minor": 4
}
