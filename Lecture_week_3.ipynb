{
 "cells": [
  {
   "cell_type": "markdown",
   "metadata": {},
   "source": [
    "Lecture week 3\n",
    "==============\n",
    "\n"
   ]
  },
  {
   "cell_type": "markdown",
   "metadata": {},
   "source": [
    "## Code preamble\n",
    "\n"
   ]
  },
  {
   "cell_type": "code",
   "execution_count": 1,
   "metadata": {},
   "outputs": [
    {
     "name": "stderr",
     "output_type": "stream",
     "text": [
      "/opt/conda/lib/python3.9/site-packages/statsmodels/compat/pandas.py:65: FutureWarning: pandas.Int64Index is deprecated and will be removed from pandas in a future version. Use pandas.Index with the appropriate dtype instead.\n",
      "  from pandas import Int64Index as NumericIndex\n"
     ]
    }
   ],
   "source": [
    "from __future__ import absolute_import, division, print_function, unicode_literals\n",
    "\n",
    "import numpy as np\n",
    "import pandas as pd\n",
    "import seaborn as sns\n",
    "from scipy import optimize\n",
    "import pymc3 as pm\n",
    "import statsmodels.api as sm # check the error that cannot import name 'factorial' in from scipy.misc import factorial\n",
    "import statsmodels.formula.api as smf\n",
    "import matplotlib.pyplot as plt\n",
    "import tensorflow as tf\n",
    "import altair as alt\n",
    "# from linearmodels.iv import IV2SLS\n",
    "from tensorflow.keras import datasets, layers, models\n",
    "from tensorflow import keras"
   ]
  },
  {
   "cell_type": "markdown",
   "metadata": {},
   "source": [
    "## Overview: tensors, first neural network, over/under fitting\n",
    "\n"
   ]
  },
  {
   "cell_type": "markdown",
   "metadata": {},
   "source": [
    "### tensors\n",
    "\n"
   ]
  },
  {
   "cell_type": "markdown",
   "metadata": {},
   "source": [
    "Knowing how to work with tensors can simplify your code:\n",
    "\n",
    "-   makes it easier to read and understand\n",
    "-   both for you and other readers of your code\n",
    "-   simple example:\n",
    "    -   5 year fixed effects and 12 month fixed effects\n",
    "    -   add these together to get the total effect for the 60 months\n",
    "    -   what are the average total effects per year?\n",
    "\n"
   ]
  },
  {
   "cell_type": "code",
   "execution_count": 9,
   "metadata": {},
   "outputs": [],
   "source": [
    "year_effects = np.arange(100,600,100)\n",
    "month_effects = np.arange(1,13,1)"
   ]
  },
  {
   "cell_type": "code",
   "execution_count": 10,
   "metadata": {},
   "outputs": [
    {
     "name": "stdout",
     "output_type": "stream",
     "text": [
      "[100 200 300 400 500]\n",
      "[ 1  2  3  4  5  6  7  8  9 10 11 12]\n"
     ]
    }
   ],
   "source": [
    "print(year_effects)\n",
    "print(month_effects)"
   ]
  },
  {
   "cell_type": "code",
   "execution_count": null,
   "metadata": {},
   "outputs": [],
   "source": [
    "\n"
   ]
  },
  {
   "cell_type": "markdown",
   "metadata": {},
   "source": [
    "selecting data using masks:\n",
    "\n"
   ]
  },
  {
   "cell_type": "code",
   "execution_count": 12,
   "metadata": {},
   "outputs": [],
   "source": [
    "range_x = np.arange(0,2*np.pi,0.01)\n",
    "range_y = np.sin(range_x)"
   ]
  },
  {
   "cell_type": "markdown",
   "metadata": {},
   "source": [
    "Plot `sin(x)`, where positive values for `y` are blue and negative ones are red.\n",
    "\n"
   ]
  },
  {
   "cell_type": "code",
   "execution_count": null,
   "metadata": {},
   "outputs": [],
   "source": []
  },
  {
   "cell_type": "markdown",
   "metadata": {},
   "source": [
    "Practice with tensors!\n",
    "\n",
    "Construct a three dimensional tensor\n",
    "\n"
   ]
  },
  {
   "cell_type": "code",
   "execution_count": 14,
   "metadata": {},
   "outputs": [
    {
     "data": {
      "text/plain": [
       "array([[[0, 1],\n",
       "        [2, 3]],\n",
       "\n",
       "       [[4, 5],\n",
       "        [6, 7]]])"
      ]
     },
     "execution_count": 14,
     "metadata": {},
     "output_type": "execute_result"
    }
   ],
   "source": [
    "tensor_3d = np.arange(8).reshape(2,2,2)\n",
    "tensor_3d"
   ]
  },
  {
   "cell_type": "code",
   "execution_count": 44,
   "metadata": {},
   "outputs": [
    {
     "name": "stdout",
     "output_type": "stream",
     "text": [
      "3\n"
     ]
    }
   ],
   "source": [
    "print(np.ndim(tensor_3d))"
   ]
  },
  {
   "cell_type": "markdown",
   "metadata": {},
   "source": [
    "-   What is the shape of `tensor_3d`?\n",
    "-   What does a 3-D vector look like?\n",
    "\n",
    "Consider the following 3 tensors:\n",
    "\n"
   ]
  },
  {
   "cell_type": "code",
   "execution_count": 16,
   "metadata": {},
   "outputs": [],
   "source": [
    "x = np.arange(24).reshape(2,12)\n",
    "y = np.arange(36).reshape(3,1,12)\n",
    "z = np.arange(12).reshape(2,3,2)"
   ]
  },
  {
   "cell_type": "markdown",
   "metadata": {},
   "source": [
    "Which of these can be added together?\n",
    "\n"
   ]
  },
  {
   "cell_type": "code",
   "execution_count": 17,
   "metadata": {},
   "outputs": [],
   "source": [
    "# x + y\n",
    "# x + z\n",
    "# y + z\n",
    "# x + y + z"
   ]
  },
  {
   "cell_type": "markdown",
   "metadata": {},
   "source": [
    "Add dimensions to make sure that they can be added together\n",
    "\n"
   ]
  },
  {
   "cell_type": "code",
   "execution_count": null,
   "metadata": {},
   "outputs": [],
   "source": []
  },
  {
   "cell_type": "code",
   "execution_count": 19,
   "metadata": {},
   "outputs": [
    {
     "data": {
      "text/plain": [
       "array([[[ 0,  1,  2],\n",
       "        [ 3,  4,  5]],\n",
       "\n",
       "       [[ 6,  7,  8],\n",
       "        [ 9, 10, 11]]])"
      ]
     },
     "execution_count": 19,
     "metadata": {},
     "output_type": "execute_result"
    }
   ],
   "source": [
    "x = np.arange(12).reshape(2,2,3)\n",
    "x"
   ]
  },
  {
   "cell_type": "markdown",
   "metadata": {},
   "source": [
    "Use selections from `x` to get:\n",
    "\n",
    "-   `[0,1,2]`\n",
    "-   `[6,8]`\n",
    "-   `[4,10]`\n",
    "-   `[11,10,9]`\n",
    "-   `[7,8,9,10,11]`\n",
    "-   `[4,5,6,7,8,9]`\n",
    "\n"
   ]
  },
  {
   "cell_type": "code",
   "execution_count": null,
   "metadata": {},
   "outputs": [],
   "source": []
  },
  {
   "cell_type": "code",
   "execution_count": 21,
   "metadata": {},
   "outputs": [],
   "source": [
    "x = np.random.normal(0,1,size=20)\n",
    "y = np.random.normal(0,1,size=20)\n",
    "z = np.random.choice(3,size=20,replace=True)"
   ]
  },
  {
   "cell_type": "markdown",
   "metadata": {},
   "source": [
    "-   make a scatter plot of `x` and `y` where the color depends on the value of `z`.\n",
    "\n"
   ]
  },
  {
   "cell_type": "code",
   "execution_count": 45,
   "metadata": {},
   "outputs": [],
   "source": [
    "colors = ['ro','bo','go']\n"
   ]
  },
  {
   "cell_type": "markdown",
   "metadata": {},
   "source": [
    "**Homework:** Plot red dots, blue triangles and green stars\n",
    "\n"
   ]
  },
  {
   "cell_type": "code",
   "execution_count": null,
   "metadata": {},
   "outputs": [],
   "source": []
  },
  {
   "cell_type": "markdown",
   "metadata": {},
   "source": [
    "### first look at neural network\n",
    "\n"
   ]
  },
  {
   "cell_type": "markdown",
   "metadata": {},
   "source": [
    "-   this is a very first look at a neural network: do not worry if you don&rsquo;t understand everything now\n",
    "-   syntax for creating a keras network:\n",
    "    -   use `keras.Sequential` to create layers of the network, starting with the input layer and ending with the output layer\n",
    "    -   relu function for intermediate layers\n",
    "    -   softmax for output layer of a classification problem; if there are, say, 5 classes:\n",
    "        -   softmax gives you 5 probabilities that add up to 1\n",
    "        -   highest probability is your prediction for that input\n",
    "\n",
    "Two dimensional x-variable and the correct label:\n",
    "\n"
   ]
  },
  {
   "cell_type": "code",
   "execution_count": 24,
   "metadata": {},
   "outputs": [
    {
     "data": {
      "image/png": "[encoded data removed]",
      "text/plain": [
       "<Figure size 432x288 with 1 Axes>"
      ]
     },
     "metadata": {
      "needs_background": "light"
     },
     "output_type": "display_data"
    },
    {
     "name": "stdout",
     "output_type": "stream",
     "text": [
      "9\n"
     ]
    }
   ],
   "source": [
    "(train_images, train_labels), (test_images, test_labels) = datasets.mnist.load_data()\n",
    "plt.imshow(train_images[4],cmap=plt.cm.binary)\n",
    "plt.show()\n",
    "print(train_labels[4])"
   ]
  },
  {
   "cell_type": "code",
   "execution_count": 46,
   "metadata": {},
   "outputs": [],
   "source": [
    "#train_images[4]"
   ]
  },
  {
   "cell_type": "markdown",
   "metadata": {},
   "source": [
    "-   define the relu and softmax functions and plot these functions\n",
    "\n"
   ]
  },
  {
   "cell_type": "code",
   "execution_count": 48,
   "metadata": {},
   "outputs": [],
   "source": [
    "def relu(x):\n",
    "    return np.clip(x,0,np.inf)\n",
    "def softmax(x):\n",
    "    return [np.exp(x[i])/np.sum(np.exp(x)) for i in range(len(x))]\n",
    "\n",
    "range_x = np.arange(10)-5\n",
    "###"
   ]
  },
  {
   "cell_type": "code",
   "execution_count": 27,
   "metadata": {},
   "outputs": [
    {
     "data": {
      "text/plain": [
       "1.0"
      ]
     },
     "execution_count": 27,
     "metadata": {},
     "output_type": "execute_result"
    }
   ],
   "source": [
    "np.sum(softmax(range_x))"
   ]
  },
  {
   "cell_type": "code",
   "execution_count": 29,
   "metadata": {},
   "outputs": [],
   "source": [
    "model = keras.Sequential([\n",
    "    keras.layers.Flatten(input_shape=(28, 28)),\n",
    "    keras.layers.Dense(128, activation='relu'),\n",
    "    keras.layers.Dense(10, activation='softmax')\n",
    "])\n",
    "\n",
    "\n",
    "model.compile(optimizer='adam',\n",
    "              loss='sparse_categorical_crossentropy',\n",
    "              metrics=['accuracy'])"
   ]
  },
  {
   "cell_type": "code",
   "execution_count": 30,
   "metadata": {},
   "outputs": [
    {
     "name": "stdout",
     "output_type": "stream",
     "text": [
      "Epoch 1/5\n",
      "1875/1875 [==============================] - 12s 6ms/step - loss: 2.6236 - accuracy: 0.8575\n",
      "Epoch 2/5\n",
      "1875/1875 [==============================] - 11s 6ms/step - loss: 0.3782 - accuracy: 0.9118\n",
      "Epoch 3/5\n",
      "1875/1875 [==============================] - 11s 6ms/step - loss: 0.2819 - accuracy: 0.9299\n",
      "Epoch 4/5\n",
      "1875/1875 [==============================] - 11s 6ms/step - loss: 0.2448 - accuracy: 0.9390\n",
      "Epoch 5/5\n",
      "1875/1875 [==============================] - 11s 6ms/step - loss: 0.2220 - accuracy: 0.9433\n",
      "313/313 [==============================] - 1s 3ms/step - loss: 0.2633 - accuracy: 0.9417\n",
      "\n",
      "Test accuracy: 0.9416999816894531\n"
     ]
    }
   ],
   "source": [
    "model.fit(train_images, train_labels, epochs=5)\n",
    "test_loss, test_acc = model.evaluate(test_images, test_labels)\n",
    "\n",
    "print('\\nTest accuracy:', test_acc)"
   ]
  },
  {
   "cell_type": "code",
   "execution_count": 31,
   "metadata": {},
   "outputs": [],
   "source": [
    "predictions = model.predict(test_images)"
   ]
  },
  {
   "cell_type": "code",
   "execution_count": 32,
   "metadata": {},
   "outputs": [
    {
     "data": {
      "text/plain": [
       "array([2.7939557e-37, 1.2734737e-12, 4.8830423e-10, 7.1526862e-10,\n",
       "       4.7846206e-15, 1.1186264e-17, 0.0000000e+00, 1.0000000e+00,\n",
       "       1.9592408e-24, 3.2830120e-14], dtype=float32)"
      ]
     },
     "execution_count": 32,
     "metadata": {},
     "output_type": "execute_result"
    }
   ],
   "source": [
    "predictions[0]"
   ]
  },
  {
   "cell_type": "code",
   "execution_count": 33,
   "metadata": {},
   "outputs": [
    {
     "data": {
      "text/plain": [
       "7"
      ]
     },
     "execution_count": 33,
     "metadata": {},
     "output_type": "execute_result"
    }
   ],
   "source": [
    "np.argmax(predictions[0])"
   ]
  },
  {
   "cell_type": "code",
   "execution_count": 34,
   "metadata": {},
   "outputs": [
    {
     "data": {
      "text/plain": [
       "7"
      ]
     },
     "execution_count": 34,
     "metadata": {},
     "output_type": "execute_result"
    }
   ],
   "source": [
    "test_labels[0]"
   ]
  },
  {
   "cell_type": "code",
   "execution_count": 35,
   "metadata": {},
   "outputs": [
    {
     "data": {
      "image/png": "[encoded data removed]",
      "text/plain": [
       "<Figure size 432x288 with 1 Axes>"
      ]
     },
     "metadata": {
      "needs_background": "light"
     },
     "output_type": "display_data"
    }
   ],
   "source": [
    "plt.imshow(test_images[0],cmap=plt.cm.binary);"
   ]
  },
  {
   "cell_type": "markdown",
   "metadata": {},
   "source": [
    "### over/under fitting\n",
    "\n"
   ]
  },
  {
   "cell_type": "markdown",
   "metadata": {},
   "source": [
    "-   overfitting: you pick up structure that is particular to the sample but does not generalize to the population\n",
    "-   underfitting: the sample contains relevant information about the population but your model is too simple to pick this up\n",
    "\n",
    "First, we generate the data and plot the data"
   ]
  },
  {
   "cell_type": "code",
   "execution_count": 36,
   "metadata": {},
   "outputs": [],
   "source": [
    "N_observations = 30\n",
    "train_size = 15\n",
    "x = np.random.normal(0,1,size=N_observations)\n",
    "y = x**2 + np.random.normal(0,1,size=N_observations)\n",
    "x_train = x[:train_size]\n",
    "x_test = x[train_size:]\n",
    "y_train = y[:train_size]\n",
    "y_test = y[train_size:]"
   ]
  },
  {
   "cell_type": "code",
   "execution_count": 37,
   "metadata": {},
   "outputs": [
    {
     "data": {
      "image/png": "[encoded data removed]",
      "text/plain": [
       "<Figure size 432x288 with 1 Axes>"
      ]
     },
     "metadata": {
      "needs_background": "light"
     },
     "output_type": "display_data"
    }
   ],
   "source": [
    "plt.scatter(x_train,y_train,label='train')\n",
    "plt.scatter(x_test,y_test,label='test')\n",
    "plt.legend();"
   ]
  },
  {
   "cell_type": "markdown",
   "metadata": {},
   "source": [
    "Do not worry to much about the syntax of `polyfit` and `poly1d`"
   ]
  },
  {
   "cell_type": "code",
   "execution_count": 38,
   "metadata": {},
   "outputs": [],
   "source": [
    "z = np.polyfit(x_train, y_train, 2)\n",
    "p = np.poly1d(z)\n",
    "range_x = np.arange(np.min(x),np.max(x),0.05)"
   ]
  },
  {
   "cell_type": "code",
   "execution_count": 39,
   "metadata": {},
   "outputs": [
    {
     "data": {
      "image/png": "[encoded data removed]",
      "text/plain": [
       "<Figure size 432x288 with 1 Axes>"
      ]
     },
     "metadata": {
      "needs_background": "light"
     },
     "output_type": "display_data"
    }
   ],
   "source": [
    "plt.scatter(x_train,y_train,label='train')\n",
    "plt.scatter(x_test,y_test,label='test')\n",
    "plt.plot(range_x,p(range_x))\n",
    "plt.legend();"
   ]
  },
  {
   "cell_type": "markdown",
   "metadata": {},
   "source": [
    "-   overfitting\n",
    "\n"
   ]
  },
  {
   "cell_type": "code",
   "execution_count": null,
   "metadata": {},
   "outputs": [],
   "source": []
  },
  {
   "cell_type": "markdown",
   "metadata": {},
   "source": [
    "-   underfitting\n",
    "\n"
   ]
  },
  {
   "cell_type": "code",
   "execution_count": null,
   "metadata": {},
   "outputs": [],
   "source": []
  },
  {
   "cell_type": "markdown",
   "metadata": {},
   "source": [
    "### Next week: neural network and treatment effects\n",
    "\n"
   ]
  },
  {
   "cell_type": "markdown",
   "metadata": {},
   "source": [
    "To get an idea of what a neural network is, we look at the python code of a simple implementation of a neural network\n",
    "\n",
    "-   do not worry about the details of these python programs\n",
    "-   note that 1 A4 page of code is enough to program the code to solve a neural network\n",
    "-   updating the weights in the network is actually quite simple\n",
    "\n"
   ]
  },
  {
   "cell_type": "code",
   "execution_count": 49,
   "metadata": {},
   "outputs": [],
   "source": [
    "# Code from Chapter 3 of Machine Learning: An Algorithmic Perspective (2nd Edition)\n",
    "# by Stephen Marsland (http://stephenmonika.net)\n",
    "\n",
    "# You are free to use, change, or redistribute the code in any way you wish for\n",
    "# non-commercial purposes, but please maintain the name of the original author.\n",
    "# This code comes with no warranty of any kind.\n",
    "\n",
    "# Stephen Marsland, 2008, 2014\n",
    "\n",
    "\n",
    "\n",
    "class pcn:\n",
    "\t\"\"\" A basic Perceptron (the same pcn.py except with the weights printed\n",
    "\tand it does not reorder the inputs)\"\"\"\n",
    "\n",
    "\tdef __init__(self,inputs,targets):\n",
    "\t\t\"\"\" Constructor \"\"\"\n",
    "\t\t# Set up network size\n",
    "\t\tif np.ndim(inputs)>1:\n",
    "\t\t\tself.nIn = np.shape(inputs)[1]\n",
    "\t\telse:\n",
    "\t\t\tself.nIn = 1\n",
    "\n",
    "\t\tif np.ndim(targets)>1:\n",
    "\t\t\tself.nOut = np.shape(targets)[1]\n",
    "\t\telse:\n",
    "\t\t\tself.nOut = 1\n",
    "\n",
    "\t\tself.nData = np.shape(inputs)[0]\n",
    "\n",
    "\t\t# Initialise network\n",
    "\t\tself.weights = np.random.rand(self.nIn+1,self.nOut)*0.1-0.05\n",
    "\n",
    "\tdef pcntrain(self,inputs,targets,eta,nIterations):\n",
    "\t\t\"\"\" Train the thing \"\"\"\n",
    "\t\t# Add the inputs that match the bias node\n",
    "\t\tinputs = np.concatenate((inputs,-np.ones((self.nData,1))),axis=1)\n",
    "\n",
    "\t\t# Training\n",
    "\t\tchange = range(self.nData)\n",
    "\n",
    "\t\tfor n in range(nIterations):\n",
    "\n",
    "\t\t\tself.activations = self.pcnfwd(inputs);\n",
    "\t\t\tself.weights -= eta*np.dot(np.transpose(inputs),self.activations-targets)\n",
    "\t\t\tprint(\"Iteration: \", n)\n",
    "\t\t\tprint(self.weights)\n",
    "\n",
    "\t\t\tactivations = self.pcnfwd(inputs)\n",
    "\t\t\tprint(\"Final outputs are:\")\n",
    "\t\t\tprint(activations)\n",
    "\t\t#return self.weights\n",
    "\n",
    "\tdef pcnfwd(self,inputs):\n",
    "\t\t\"\"\" Run the network forward \"\"\"\n",
    "\n",
    "\t\t# Compute activations\n",
    "\t\tactivations =  np.dot(inputs,self.weights)\n",
    "\n",
    "\t\t# Threshold the activations\n",
    "\t\treturn np.where(activations>0,1,0)\n",
    "\n",
    "\tdef confmat(self,inputs,targets):\n",
    "\t\t\"\"\"Confusion matrix\"\"\"\n",
    "\n",
    "\t\t# Add the inputs that match the bias node\n",
    "\t\tinputs = np.concatenate((inputs,-np.ones((self.nData,1))),axis=1)\n",
    "\t\toutputs = np.dot(inputs,self.weights)\n",
    "\n",
    "\t\tnClasses = np.shape(targets)[1]\n",
    "\n",
    "\t\tif nClasses==1:\n",
    "\t\t\tnClasses = 2\n",
    "\t\t\toutputs = np.where(outputs>0,1,0)\n",
    "\t\telse:\n",
    "\t\t\t# 1-of-N encoding\n",
    "\t\t\toutputs = np.argmax(outputs,1)\n",
    "\t\t\ttargets = np.argmax(targets,1)\n",
    "\n",
    "\t\tcm = np.zeros((nClasses,nClasses))\n",
    "\t\tfor i in range(nClasses):\n",
    "\t\t\tfor j in range(nClasses):\n",
    "\t\t\t\tcm[i,j] = np.sum(np.where(outputs==i,1,0)*np.where(targets==j,1,0))\n",
    "\n",
    "\t\tprint(cm)\n",
    "\t\tprint(np.trace(cm)/np.sum(cm))"
   ]
  },
  {
   "cell_type": "markdown",
   "metadata": {},
   "source": [
    "-   to get used to tensorflow syntax, we program our own OLS regression using tensorflow minimization techniques, that is using derivatives\n",
    "\n"
   ]
  },
  {
   "cell_type": "code",
   "execution_count": 58,
   "metadata": {},
   "outputs": [
    {
     "data": {
      "text/plain": [
       "[-1.0, -1.0]"
      ]
     },
     "execution_count": 58,
     "metadata": {},
     "output_type": "execute_result"
    }
   ],
   "source": [
    "x = tf.Variable(0.0)\n",
    "y = tf.Variable(0.0)\n",
    "def my_function():\n",
    "    return x**2+y**2-x-y\n",
    "\n",
    "with tf.GradientTape() as tape:\n",
    "    value = my_function()\n",
    "[a.numpy() for a in tape.gradient(value,[x,y])]"
   ]
  },
  {
   "cell_type": "code",
   "execution_count": 43,
   "metadata": {},
   "outputs": [
    {
     "name": "stdout",
     "output_type": "stream",
     "text": [
      "1.0\n"
     ]
    },
    {
     "data": {
      "text/plain": [
       "[<tf.Tensor: shape=(), dtype=float32, numpy=1.0>,\n",
       " <tf.Tensor: shape=(), dtype=float32, numpy=-1.0>]"
      ]
     },
     "execution_count": 43,
     "metadata": {},
     "output_type": "execute_result"
    }
   ],
   "source": [
    "x.assign_add(1)\n",
    "print(x.numpy())\n",
    "\n",
    "with tf.GradientTape() as tape:\n",
    "    value = my_function()\n",
    "tape.gradient(value,[x,y])"
   ]
  },
  {
   "cell_type": "markdown",
   "metadata": {},
   "source": [
    "-   neural network with the handwritten digits data set\n",
    "    -   if you get bored with numbers, try [https://github.com/zalandoresearch/fashion-mnist](https://github.com/zalandoresearch/fashion-mnist)\n",
    "-   use `history` method to fine tune the number of epochs to avoid under/over-fitting\n",
    "\n",
    "-   treatment effects:\n",
    "    -   we program our own data to see how IV works in identifying causal effects\n",
    "    -   what can we identify if the effects of a program differ by group?\n",
    "\n"
   ]
  }
 ],
 "metadata": {
  "kernelspec": {
   "display_name": "Python 3 (ipykernel)",
   "language": "python",
   "name": "python3"
  },
  "language_info": {
   "codemirror_mode": {
    "name": "ipython",
    "version": 3
   },
   "file_extension": ".py",
   "mimetype": "text/x-python",
   "name": "python",
   "nbconvert_exporter": "python",
   "pygments_lexer": "ipython3",
   "version": "3.9.7"
  },
  "org": null
 },
 "nbformat": 4,
 "nbformat_minor": 4
}
