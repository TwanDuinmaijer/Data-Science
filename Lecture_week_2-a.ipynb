{
 "cells": [
  {
   "cell_type": "markdown",
   "metadata": {},
   "source": [
    "Lecture week 2\n",
    "==============\n",
    "\n"
   ]
  },
  {
   "cell_type": "code",
   "execution_count": 1,
   "metadata": {},
   "outputs": [],
   "source": [
    "from __future__ import absolute_import, division, print_function, unicode_literals\n",
    "\n",
    "import numpy as np\n",
    "import pandas as pd\n",
    "from scipy import optimize\n",
    "import statsmodels.api as sm # check the error that cannot import name 'factorial' in from scipy.misc import factorial\n",
    "import statsmodels.formula.api as smf\n",
    "import seaborn as sns\n",
    "import matplotlib.pyplot as plt\n",
    "import tensorflow as tf\n",
    "import altair as alt\n",
    "from linearmodels.iv import IV2SLS\n",
    "from tensorflow.keras import datasets, layers, models\n",
    "from tensorflow import keras\n"
   ]
  },
  {
   "cell_type": "markdown",
   "metadata": {},
   "source": [
    "## Overview: distributions, bootstrapping, OLS, causality\n",
    "\n"
   ]
  },
  {
   "cell_type": "markdown",
   "metadata": {},
   "source": [
    "### distributions\n",
    "\n"
   ]
  },
  {
   "cell_type": "markdown",
   "metadata": {},
   "source": [
    "-   important idea when you want to estimate a model/neural network:\n",
    "    -   generate your own data and then estimate the model on these data\n",
    "    -   last week we looked at the distribution of a slope\n",
    "    -   here we consider the distribution of the mean of a sample\n",
    "\n"
   ]
  },
  {
   "cell_type": "code",
   "execution_count": 2,
   "metadata": {},
   "outputs": [
    {
     "data": {
      "text/plain": [
       "(10000,)"
      ]
     },
     "execution_count": 2,
     "metadata": {},
     "output_type": "execute_result"
    }
   ],
   "source": [
    "sample_size = 10\n",
    "simulated_data = np.mean(tf.random.uniform([10000,sample_size],0,1),axis=1)\n",
    "simulated_data.shape"
   ]
  },
  {
   "cell_type": "code",
   "execution_count": 3,
   "metadata": {},
   "outputs": [
    {
     "data": {
      "image/png": "[encoded data removed]",
      "text/plain": [
       "<Figure size 432x288 with 1 Axes>"
      ]
     },
     "metadata": {
      "needs_background": "light"
     },
     "output_type": "display_data"
    }
   ],
   "source": [
    "plt.hist(simulated_data,bins=50,density=True)\n",
    "sns.kdeplot(simulated_data);"
   ]
  },
  {
   "cell_type": "markdown",
   "metadata": {},
   "source": [
    "This shows us that statistics like a mean have a distribution. We can compare this distribution to the values that we put into the data ourselves: in the example above, we draw from a population with a uniform distribution on $[0,1]$. Hence, the population mean equals 0.5.\n",
    "\n",
    "The histogram shows that on average the sample mean is close to 0.5, but with a sample of 10 there is quite some variation. You can draw a sample where the mean equals 0.3.\n",
    "\n"
   ]
  },
  {
   "cell_type": "markdown",
   "metadata": {},
   "source": [
    "### bootstrapping\n",
    "\n"
   ]
  },
  {
   "cell_type": "markdown",
   "metadata": {},
   "source": [
    "-   Bootstrapping takes this idea one step further:\n",
    "    -   when using &ldquo;fake&rdquo; data (which we generate ourselves), we can test properties directly on the sample by generating 1000 such samples\n",
    "        -   and then we do not need to worry whether the statistic has a $t$ or $F$ distribution\n",
    "    -   with bootstrapping we have **one** sample with real data\n",
    "    -   to get a distribution for our statistic (say, slope), we randomly draw a sample from our sample **with replacement**\n",
    "    -   on each of these samples (from our sample), we calculate our statistic\n",
    "    -   this gives us the distribution of our statistic\n",
    "\n",
    "We draw our data this time from a multivariate normal distribution with a covariance not equal to 0:\n",
    "\n"
   ]
  },
  {
   "cell_type": "code",
   "execution_count": 4,
   "metadata": {},
   "outputs": [
    {
     "name": "stdout",
     "output_type": "stream",
     "text": [
      "[1.58544167 0.54818665]\n"
     ]
    },
    {
     "data": {
      "image/png": "[encoded data removed]",
      "text/plain": [
       "<Figure size 432x288 with 1 Axes>"
      ]
     },
     "metadata": {
      "needs_background": "light"
     },
     "output_type": "display_data"
    }
   ],
   "source": [
    "mean = [1, 2]\n",
    "cov = [[1, 0.6], [0.6, 1]]\n",
    "n = 100\n",
    "\n",
    "x = np.random.multivariate_normal(mean, cov, (n))\n",
    "print(sm.OLS(x[:,1],sm.add_constant(x[:,0])).fit().params)\n",
    "plt.scatter(x[:,0],x[:,1]);"
   ]
  },
  {
   "cell_type": "markdown",
   "metadata": {},
   "source": [
    "Let&rsquo;s suppose that this is our &ldquo;real&rdquo; data. That is, we cannot generate more data from the data generating process; this is the data that we have.\n",
    "\n",
    "How can we generate a distribution for our slope? We draw samples from our sample using `np.random.choice()`:\n",
    "\n"
   ]
  },
  {
   "cell_type": "code",
   "execution_count": 5,
   "metadata": {},
   "outputs": [
    {
     "data": {
      "image/png": "[encoded data removed]",
      "text/plain": [
       "<Figure size 432x288 with 1 Axes>"
      ]
     },
     "metadata": {
      "needs_background": "light"
     },
     "output_type": "display_data"
    }
   ],
   "source": [
    "slopes = []\n",
    "for i in np.arange(100):\n",
    "    sample = np.random.choice(n,size = n, replace=True)\n",
    "    slopes.append(sm.OLS(x[:,1][sample],sm.add_constant(x[:,0][sample])).fit().params[1])\n",
    "\n",
    "plt.hist(slopes,bins=20,density=True);"
   ]
  },
  {
   "cell_type": "markdown",
   "metadata": {},
   "source": [
    "To illustrate how `random.choice()` works:"
   ]
  },
  {
   "cell_type": "code",
   "execution_count": 19,
   "metadata": {},
   "outputs": [
    {
     "data": {
      "text/plain": [
       "array(['two', 'two', 'two', 'one', 'two', 'one', 'one', 'three'],\n",
       "      dtype='<U5')"
      ]
     },
     "execution_count": 19,
     "metadata": {},
     "output_type": "execute_result"
    }
   ],
   "source": [
    "np.random.choice([\"one\",\"two\",\"three\"], 8, replace=True)"
   ]
  },
  {
   "cell_type": "code",
   "execution_count": 22,
   "metadata": {},
   "outputs": [
    {
     "data": {
      "text/plain": [
       "array([4, 2, 2, 6, 3, 5, 1, 2, 4, 3])"
      ]
     },
     "execution_count": 22,
     "metadata": {},
     "output_type": "execute_result"
    }
   ],
   "source": [
    "np.random.choice(8,10,replace=True)"
   ]
  },
  {
   "cell_type": "markdown",
   "metadata": {},
   "source": [
    "We can use a list of indices to select items from a numpy array. The syntax is: `np.array([1,2,3,4])[list with indices]` Because the list with indices is also a list, we get two sets of brackets: `[[0,2,2,-2]]`"
   ]
  },
  {
   "cell_type": "code",
   "execution_count": 27,
   "metadata": {},
   "outputs": [
    {
     "data": {
      "text/plain": [
       "array([1, 3, 3, 3])"
      ]
     },
     "execution_count": 27,
     "metadata": {},
     "output_type": "execute_result"
    }
   ],
   "source": [
    "np.array([1,2,3,4])[[0,2,2,-2]]"
   ]
  },
  {
   "cell_type": "markdown",
   "metadata": {},
   "source": [
    "-   one of the fun things of bootstrapping is to think about your data\n",
    "-   how do we test the null-hypothesis that there is no relation between x and y?\n",
    "-   that is, how should we sample from our sample to test the null hypothesis of slope equal to zero?\n",
    "\n"
   ]
  },
  {
   "cell_type": "code",
   "execution_count": 6,
   "metadata": {},
   "outputs": [
    {
     "data": {
      "image/png": "[encoded data removed]",
      "text/plain": [
       "<Figure size 432x288 with 1 Axes>"
      ]
     },
     "metadata": {
      "needs_background": "light"
     },
     "output_type": "display_data"
    }
   ],
   "source": [
    "slopes = []\n",
    "for i in np.arange(100):\n",
    "    sample_x = np.random.choice(n,size = n, replace=True)\n",
    "    sample_y = np.random.choice(n,size = n, replace=True)\n",
    "    slopes.append(sm.OLS(x[:,1][sample_y],sm.add_constant(x[:,0][sample_x])).fit().params[1])\n",
    "\n",
    "plt.hist(slopes,bins=20,density=True);"
   ]
  },
  {
   "cell_type": "markdown",
   "metadata": {},
   "source": [
    "### your own OLS\n",
    "\n"
   ]
  },
  {
   "cell_type": "markdown",
   "metadata": {},
   "source": [
    "-   OLS is basically a minimization problem (sum of squared residuals)\n",
    "-   when adding more parameters, the fit can only get better (lower sum of squared residuals)\n",
    "-   but by adding more variables, we run the risk of overfitting: we pick up aspects of the sample that do not generalize to the population\n",
    "-   one way to avoid overfitting is to add a penalty term to the minimization problem for each variable added to the OLS regression:\n",
    "    -   ridge and lasso regressions\n",
    "\n",
    "Many people choose the variables for their OLS estimation based on significance. They add variables that turn out to be significant and drop variables that are not significant.\n",
    "\n",
    "This is wrong!\n",
    "\n",
    "Significance is different from model selection. Model selection is based on theory; not stars in a table.\n",
    "\n",
    "-   5% significance:\n",
    "    -   in an OLS regression: even if a variable $x_i$ has no effect on $y$, there is a 5% probability that you find a significant effect\n",
    "    -   if you have 20 irrelevant variables, on average one of these will be significant\n",
    "    -   with &ldquo;big data&rdquo; you will have more than 20 explanatory variables\n",
    "    -   hence you need to be careful in what you put into your regressions\n",
    "-   some people have a &ldquo;better safe than sorry&rdquo; attitude: add as many variables as possible to control for &ldquo;things&rdquo;\n",
    "-   this has two problems:\n",
    "    -   some of these variables will be significant (if you have more than 20 of them)\n",
    "    -   messes up your causal interpretation of your regression results (see below)\n",
    "\n",
    "Consider the following example where we select variables based on whether they are significant at the 5% level.\n",
    "\n"
   ]
  },
  {
   "cell_type": "code",
   "execution_count": 7,
   "metadata": {},
   "outputs": [
    {
     "data": {
      "text/plain": [
       "0"
      ]
     },
     "execution_count": 7,
     "metadata": {},
     "output_type": "execute_result"
    }
   ],
   "source": [
    "nobs = 100\n",
    "X = np.random.normal(0,1,size=(nobs, 20))\n",
    "X = sm.add_constant(X)\n",
    "beta = np.zeros(21)\n",
    "e = np.random.normal(0,1,size=nobs)\n",
    "y = np.dot(X, beta) + e\n",
    "\n",
    "results = sm.OLS(y, X).fit()\n",
    "np.sum(results.pvalues<0.05)\n",
    "# print(results.summary())"
   ]
  },
  {
   "cell_type": "code",
   "execution_count": 8,
   "metadata": {},
   "outputs": [
    {
     "data": {
      "image/png": "[encoded data removed]",
      "text/plain": [
       "<Figure size 432x288 with 1 Axes>"
      ]
     },
     "metadata": {
      "needs_background": "light"
     },
     "output_type": "display_data"
    }
   ],
   "source": [
    "signif_variables = []\n",
    "for i in range(100):\n",
    "    X = np.random.normal(0,1,size=(nobs, 20))\n",
    "    X = sm.add_constant(X)\n",
    "    beta = np.zeros(21)\n",
    "    e = np.random.normal(0,1,size=nobs)\n",
    "    y = np.dot(X, beta) + e\n",
    "\n",
    "    results = sm.OLS(y, X).fit()\n",
    "    signif_variables.append(np.sum(results.pvalues<0.05))\n",
    "\n",
    "plt.hist(signif_variables,bins = 7,density=True);"
   ]
  },
  {
   "cell_type": "markdown",
   "metadata": {},
   "source": [
    "![img](https://imgs.xkcd.com/comics/significant.png)\n",
    "\n",
    "An automated way to select variables is based on their predictive power. We add a penalty to the OLS minimization problem for having an additional parameter (not equal to zero).\n",
    "\n",
    "For lasso and ridge regressions to make sense, you need to standardize the variables!\n",
    "\n",
    "To keep things simple, we will generate variables that are already standardized.\n",
    "\n",
    "We define the loss function:\n",
    "\n"
   ]
  },
  {
   "cell_type": "code",
   "execution_count": 42,
   "metadata": {},
   "outputs": [],
   "source": [
    "def loss_lasso(w,λ,X,y):\n",
    "    loss = np.sum((np.dot(X,w)-y)**2)/len(y) + λ * np.sum(np.abs(w))\n",
    "    return loss"
   ]
  },
  {
   "cell_type": "code",
   "execution_count": null,
   "metadata": {},
   "outputs": [],
   "source": []
  },
  {
   "cell_type": "markdown",
   "metadata": {},
   "source": [
    "Then we go through the same 100 iterations as above and check how often an unrelated variable is added to the regression:\n",
    "\n"
   ]
  },
  {
   "cell_type": "code",
   "execution_count": 43,
   "metadata": {},
   "outputs": [],
   "source": [
    "n_variables = 20\n",
    "penalty = 0.7\n",
    "lasso_weights = []\n",
    "for i in range(100):\n",
    "    X = np.random.random((nobs, n_variables))\n",
    "    y = np.random.random(nobs)\n",
    "    res = optimize.minimize(lambda w: loss_lasso(w,penalty,X,y),np.zeros(n_variables))\n",
    "    lasso_weights.append(np.sum(np.abs(res.x)))"
   ]
  },
  {
   "cell_type": "code",
   "execution_count": 44,
   "metadata": {},
   "outputs": [
    {
     "data": {
      "image/png": "[encoded data removed]",
      "text/plain": [
       "<Figure size 432x288 with 1 Axes>"
      ]
     },
     "metadata": {
      "needs_background": "light"
     },
     "output_type": "display_data"
    }
   ],
   "source": [
    "plt.hist(lasso_weights,bins=20);"
   ]
  },
  {
   "cell_type": "markdown",
   "metadata": {},
   "source": [
    "With high enough penalty $\\lambda$, we find that all coefficients are indeed zero.\n",
    "\n",
    "But if you set the penalty too high, even variables that do affect $y$ will be dropped from the regression.\n",
    "\n",
    "The penalty affects the outcome of the regression, but is itself not estimated: hyperparameter\n",
    "\n",
    "Hyperparameters need to be &ldquo;tuned&rdquo;\n",
    "\n"
   ]
  },
  {
   "cell_type": "markdown",
   "metadata": {},
   "source": [
    "### causality\n",
    "\n"
   ]
  },
  {
   "cell_type": "markdown",
   "metadata": {},
   "source": [
    "-   OLS gives you correlations\n",
    "    -   there is nothing wrong with that!\n",
    "    -   but we tend to interpret these correlations as causal effects\n",
    "    -   here we can make three mistakes:\n",
    "        -   the fork\n",
    "        -   the pipe\n",
    "        -   the collider\n",
    "    -   use economic theory to understand in which situation you are\n",
    "\n",
    "To understand the mistakes you can make when moving from correlation to causality, we simulate our own data. Hence, we know what the underlying causal effects are. Then we use OLS to see what coefficients we find and how we can interpret these.\n",
    "\n",
    "-   three mistakes you can make when interpreting an OLS regression as a causal model:\n",
    "    -   fork: x and y are unrelated but both are correlated with a variable z that is not in the regression\n",
    "        -   you get the impression that x is causing y\n",
    "        -   the correct statement is: x and y are correlated\n",
    "        -   you solve the causality misinterpretation by adding z as explanatory variable\n",
    "        -   this is the reason for the &ldquo;better safe than sorry&rdquo; attitude\n",
    "    -   pipe: there is a causal effect from x on y and it is mediated by z\n",
    "        -   running an OLS regression with x and z as explanatory variables suggests that there is no causal effect of x on y\n",
    "        -   the &ldquo;correct&rdquo; regression here is to include only x as explanatory variable\n",
    "        -   (economic) theory helps you to distinguish the fork from the pipe\n",
    "    -   collider: if you cannot control for all relevant variables, controlling for some of them can give &ldquo;unexpected results&rdquo;\n",
    "        -   example of notebook: find effect of grandparent education on grandchild education, controlling for parental educational achievement\n",
    "        -   leads to negative correlation between grandparent and grandchild education\n",
    "        -   because parental education contains information about a variable (neigborhood) that affects both grandparent and grandchild education\n",
    "\n",
    "Here we model the fork as an illustration:\n",
    "\n"
   ]
  },
  {
   "cell_type": "code",
   "execution_count": 45,
   "metadata": {},
   "outputs": [
    {
     "data": {
      "text/html": [
       "<div>\n",
       "<style scoped>\n",
       "    .dataframe tbody tr th:only-of-type {\n",
       "        vertical-align: middle;\n",
       "    }\n",
       "\n",
       "    .dataframe tbody tr th {\n",
       "        vertical-align: top;\n",
       "    }\n",
       "\n",
       "    .dataframe thead th {\n",
       "        text-align: right;\n",
       "    }\n",
       "</style>\n",
       "<table border=\"1\" class=\"dataframe\">\n",
       "  <thead>\n",
       "    <tr style=\"text-align: right;\">\n",
       "      <th></th>\n",
       "      <th>x</th>\n",
       "      <th>y</th>\n",
       "      <th>z</th>\n",
       "    </tr>\n",
       "  </thead>\n",
       "  <tbody>\n",
       "    <tr>\n",
       "      <th>0</th>\n",
       "      <td>1.244817</td>\n",
       "      <td>-1.767749</td>\n",
       "      <td>0.443857</td>\n",
       "    </tr>\n",
       "    <tr>\n",
       "      <th>1</th>\n",
       "      <td>-1.900986</td>\n",
       "      <td>1.032423</td>\n",
       "      <td>-0.159776</td>\n",
       "    </tr>\n",
       "    <tr>\n",
       "      <th>2</th>\n",
       "      <td>-3.509210</td>\n",
       "      <td>-0.605795</td>\n",
       "      <td>-0.483883</td>\n",
       "    </tr>\n",
       "    <tr>\n",
       "      <th>3</th>\n",
       "      <td>1.769457</td>\n",
       "      <td>0.355486</td>\n",
       "      <td>1.285375</td>\n",
       "    </tr>\n",
       "    <tr>\n",
       "      <th>4</th>\n",
       "      <td>4.461674</td>\n",
       "      <td>-0.298696</td>\n",
       "      <td>1.742108</td>\n",
       "    </tr>\n",
       "  </tbody>\n",
       "</table>\n",
       "</div>"
      ],
      "text/plain": [
       "          x         y         z\n",
       "0  1.244817 -1.767749  0.443857\n",
       "1 -1.900986  1.032423 -0.159776\n",
       "2 -3.509210 -0.605795 -0.483883\n",
       "3  1.769457  0.355486  1.285375\n",
       "4  4.461674 -0.298696  1.742108"
      ]
     },
     "execution_count": 45,
     "metadata": {},
     "output_type": "execute_result"
    }
   ],
   "source": [
    "n = 100\n",
    "z = np.random.normal(0,1,size = n)\n",
    "x = 2 * z + np.random.normal(0,1,size=n)\n",
    "y = -1 * z + np.random.normal(0,1,size=n)\n",
    "data = pd.DataFrame({'x':x,'y':y,'z':z})\n",
    "data.head()"
   ]
  },
  {
   "cell_type": "markdown",
   "metadata": {},
   "source": [
    "The following regression seems to suggest that x causes y:\n",
    "\n"
   ]
  },
  {
   "cell_type": "code",
   "execution_count": 46,
   "metadata": {},
   "outputs": [
    {
     "data": {
      "text/html": [
       "<table class=\"simpletable\">\n",
       "<caption>OLS Regression Results</caption>\n",
       "<tr>\n",
       "  <th>Dep. Variable:</th>            <td>y</td>        <th>  R-squared:         </th> <td>   0.287</td>\n",
       "</tr>\n",
       "<tr>\n",
       "  <th>Model:</th>                   <td>OLS</td>       <th>  Adj. R-squared:    </th> <td>   0.280</td>\n",
       "</tr>\n",
       "<tr>\n",
       "  <th>Method:</th>             <td>Least Squares</td>  <th>  F-statistic:       </th> <td>   39.46</td>\n",
       "</tr>\n",
       "<tr>\n",
       "  <th>Date:</th>             <td>Tue, 08 Feb 2022</td> <th>  Prob (F-statistic):</th> <td>9.24e-09</td>\n",
       "</tr>\n",
       "<tr>\n",
       "  <th>Time:</th>                 <td>16:50:03</td>     <th>  Log-Likelihood:    </th> <td> -152.40</td>\n",
       "</tr>\n",
       "<tr>\n",
       "  <th>No. Observations:</th>      <td>   100</td>      <th>  AIC:               </th> <td>   308.8</td>\n",
       "</tr>\n",
       "<tr>\n",
       "  <th>Df Residuals:</th>          <td>    98</td>      <th>  BIC:               </th> <td>   314.0</td>\n",
       "</tr>\n",
       "<tr>\n",
       "  <th>Df Model:</th>              <td>     1</td>      <th>                     </th>     <td> </td>   \n",
       "</tr>\n",
       "<tr>\n",
       "  <th>Covariance Type:</th>      <td>nonrobust</td>    <th>                     </th>     <td> </td>   \n",
       "</tr>\n",
       "</table>\n",
       "<table class=\"simpletable\">\n",
       "<tr>\n",
       "      <td></td>         <th>coef</th>     <th>std err</th>      <th>t</th>      <th>P>|t|</th>  <th>[0.025</th>    <th>0.975]</th>  \n",
       "</tr>\n",
       "<tr>\n",
       "  <th>Intercept</th> <td>    0.0170</td> <td>    0.112</td> <td>    0.151</td> <td> 0.880</td> <td>   -0.206</td> <td>    0.240</td>\n",
       "</tr>\n",
       "<tr>\n",
       "  <th>x</th>         <td>   -0.2981</td> <td>    0.047</td> <td>   -6.282</td> <td> 0.000</td> <td>   -0.392</td> <td>   -0.204</td>\n",
       "</tr>\n",
       "</table>\n",
       "<table class=\"simpletable\">\n",
       "<tr>\n",
       "  <th>Omnibus:</th>       <td> 1.482</td> <th>  Durbin-Watson:     </th> <td>   2.114</td>\n",
       "</tr>\n",
       "<tr>\n",
       "  <th>Prob(Omnibus):</th> <td> 0.477</td> <th>  Jarque-Bera (JB):  </th> <td>   1.248</td>\n",
       "</tr>\n",
       "<tr>\n",
       "  <th>Skew:</th>          <td> 0.274</td> <th>  Prob(JB):          </th> <td>   0.536</td>\n",
       "</tr>\n",
       "<tr>\n",
       "  <th>Kurtosis:</th>      <td> 3.005</td> <th>  Cond. No.          </th> <td>    2.37</td>\n",
       "</tr>\n",
       "</table><br/><br/>Notes:<br/>[1] Standard Errors assume that the covariance matrix of the errors is correctly specified."
      ],
      "text/plain": [
       "<class 'statsmodels.iolib.summary.Summary'>\n",
       "\"\"\"\n",
       "                            OLS Regression Results                            \n",
       "==============================================================================\n",
       "Dep. Variable:                      y   R-squared:                       0.287\n",
       "Model:                            OLS   Adj. R-squared:                  0.280\n",
       "Method:                 Least Squares   F-statistic:                     39.46\n",
       "Date:                Tue, 08 Feb 2022   Prob (F-statistic):           9.24e-09\n",
       "Time:                        16:50:03   Log-Likelihood:                -152.40\n",
       "No. Observations:                 100   AIC:                             308.8\n",
       "Df Residuals:                      98   BIC:                             314.0\n",
       "Df Model:                           1                                         \n",
       "Covariance Type:            nonrobust                                         \n",
       "==============================================================================\n",
       "                 coef    std err          t      P>|t|      [0.025      0.975]\n",
       "------------------------------------------------------------------------------\n",
       "Intercept      0.0170      0.112      0.151      0.880      -0.206       0.240\n",
       "x             -0.2981      0.047     -6.282      0.000      -0.392      -0.204\n",
       "==============================================================================\n",
       "Omnibus:                        1.482   Durbin-Watson:                   2.114\n",
       "Prob(Omnibus):                  0.477   Jarque-Bera (JB):                1.248\n",
       "Skew:                           0.274   Prob(JB):                        0.536\n",
       "Kurtosis:                       3.005   Cond. No.                         2.37\n",
       "==============================================================================\n",
       "\n",
       "Notes:\n",
       "[1] Standard Errors assume that the covariance matrix of the errors is correctly specified.\n",
       "\"\"\""
      ]
     },
     "execution_count": 46,
     "metadata": {},
     "output_type": "execute_result"
    }
   ],
   "source": [
    "smf.ols('y ~ x', data=data).fit().summary()"
   ]
  },
  {
   "cell_type": "markdown",
   "metadata": {},
   "source": [
    "But this effect disappears once we control for z:\n",
    "\n"
   ]
  },
  {
   "cell_type": "code",
   "execution_count": 47,
   "metadata": {},
   "outputs": [
    {
     "data": {
      "text/html": [
       "<table class=\"simpletable\">\n",
       "<caption>OLS Regression Results</caption>\n",
       "<tr>\n",
       "  <th>Dep. Variable:</th>            <td>y</td>        <th>  R-squared:         </th> <td>   0.404</td>\n",
       "</tr>\n",
       "<tr>\n",
       "  <th>Model:</th>                   <td>OLS</td>       <th>  Adj. R-squared:    </th> <td>   0.392</td>\n",
       "</tr>\n",
       "<tr>\n",
       "  <th>Method:</th>             <td>Least Squares</td>  <th>  F-statistic:       </th> <td>   32.94</td>\n",
       "</tr>\n",
       "<tr>\n",
       "  <th>Date:</th>             <td>Tue, 08 Feb 2022</td> <th>  Prob (F-statistic):</th> <td>1.21e-11</td>\n",
       "</tr>\n",
       "<tr>\n",
       "  <th>Time:</th>                 <td>16:51:20</td>     <th>  Log-Likelihood:    </th> <td> -143.40</td>\n",
       "</tr>\n",
       "<tr>\n",
       "  <th>No. Observations:</th>      <td>   100</td>      <th>  AIC:               </th> <td>   292.8</td>\n",
       "</tr>\n",
       "<tr>\n",
       "  <th>Df Residuals:</th>          <td>    97</td>      <th>  BIC:               </th> <td>   300.6</td>\n",
       "</tr>\n",
       "<tr>\n",
       "  <th>Df Model:</th>              <td>     2</td>      <th>                     </th>     <td> </td>   \n",
       "</tr>\n",
       "<tr>\n",
       "  <th>Covariance Type:</th>      <td>nonrobust</td>    <th>                     </th>     <td> </td>   \n",
       "</tr>\n",
       "</table>\n",
       "<table class=\"simpletable\">\n",
       "<tr>\n",
       "      <td></td>         <th>coef</th>     <th>std err</th>      <th>t</th>      <th>P>|t|</th>  <th>[0.025</th>    <th>0.975]</th>  \n",
       "</tr>\n",
       "<tr>\n",
       "  <th>Intercept</th> <td>    0.0776</td> <td>    0.104</td> <td>    0.746</td> <td> 0.457</td> <td>   -0.129</td> <td>    0.284</td>\n",
       "</tr>\n",
       "<tr>\n",
       "  <th>x</th>         <td>    0.1027</td> <td>    0.101</td> <td>    1.012</td> <td> 0.314</td> <td>   -0.099</td> <td>    0.304</td>\n",
       "</tr>\n",
       "<tr>\n",
       "  <th>z</th>         <td>   -1.0586</td> <td>    0.242</td> <td>   -4.373</td> <td> 0.000</td> <td>   -1.539</td> <td>   -0.578</td>\n",
       "</tr>\n",
       "</table>\n",
       "<table class=\"simpletable\">\n",
       "<tr>\n",
       "  <th>Omnibus:</th>       <td> 1.692</td> <th>  Durbin-Watson:     </th> <td>   2.099</td>\n",
       "</tr>\n",
       "<tr>\n",
       "  <th>Prob(Omnibus):</th> <td> 0.429</td> <th>  Jarque-Bera (JB):  </th> <td>   1.162</td>\n",
       "</tr>\n",
       "<tr>\n",
       "  <th>Skew:</th>          <td> 0.111</td> <th>  Prob(JB):          </th> <td>   0.559</td>\n",
       "</tr>\n",
       "<tr>\n",
       "  <th>Kurtosis:</th>      <td> 3.479</td> <th>  Cond. No.          </th> <td>    6.39</td>\n",
       "</tr>\n",
       "</table><br/><br/>Notes:<br/>[1] Standard Errors assume that the covariance matrix of the errors is correctly specified."
      ],
      "text/plain": [
       "<class 'statsmodels.iolib.summary.Summary'>\n",
       "\"\"\"\n",
       "                            OLS Regression Results                            \n",
       "==============================================================================\n",
       "Dep. Variable:                      y   R-squared:                       0.404\n",
       "Model:                            OLS   Adj. R-squared:                  0.392\n",
       "Method:                 Least Squares   F-statistic:                     32.94\n",
       "Date:                Tue, 08 Feb 2022   Prob (F-statistic):           1.21e-11\n",
       "Time:                        16:51:20   Log-Likelihood:                -143.40\n",
       "No. Observations:                 100   AIC:                             292.8\n",
       "Df Residuals:                      97   BIC:                             300.6\n",
       "Df Model:                           2                                         \n",
       "Covariance Type:            nonrobust                                         \n",
       "==============================================================================\n",
       "                 coef    std err          t      P>|t|      [0.025      0.975]\n",
       "------------------------------------------------------------------------------\n",
       "Intercept      0.0776      0.104      0.746      0.457      -0.129       0.284\n",
       "x              0.1027      0.101      1.012      0.314      -0.099       0.304\n",
       "z             -1.0586      0.242     -4.373      0.000      -1.539      -0.578\n",
       "==============================================================================\n",
       "Omnibus:                        1.692   Durbin-Watson:                   2.099\n",
       "Prob(Omnibus):                  0.429   Jarque-Bera (JB):                1.162\n",
       "Skew:                           0.111   Prob(JB):                        0.559\n",
       "Kurtosis:                       3.479   Cond. No.                         6.39\n",
       "==============================================================================\n",
       "\n",
       "Notes:\n",
       "[1] Standard Errors assume that the covariance matrix of the errors is correctly specified.\n",
       "\"\"\""
      ]
     },
     "execution_count": 47,
     "metadata": {},
     "output_type": "execute_result"
    }
   ],
   "source": [
    "smf.ols('y ~ x + z', data=data).fit().summary()"
   ]
  },
  {
   "cell_type": "markdown",
   "metadata": {},
   "source": [
    "### Next week: tensors, first neural network, over/under fitting\n",
    "\n"
   ]
  },
  {
   "cell_type": "markdown",
   "metadata": {},
   "source": [
    "-   tensors are vectors/matrices that capture multidimensional data\n",
    "-   we tend to think in two dimensional tables (&ldquo;excel&rdquo;) but some phenomena have higher dimensions than 2\n",
    "-   a set of images, say we want to separate images of cats and dogs\n",
    "-   one observation has two dimensions (x and y axis), say I have 50\\*50 &ldquo;pixels&rdquo;\n",
    "-   if I have 3000 observations, my data has dimensions 3000\\*50\\*50\n",
    "-   you cannot do this in excel&#x2026;\n",
    "-   to deal with such data in python, we need tensors\n",
    "-   we introduce tensors in `numpy` and explain how you can work with them (e.g. add them together, multiply them)\n",
    "-   this is different than with matrices:\n",
    "    -   I can multiply an $n*m$ and $k*l$ matrix if and only if $m=k$\n",
    "    -   this is not true for multiplying tensors\n",
    "-   an important concept with tensors is: broadcasting\n",
    "-   with tensors you will use (the attribute) `.shape` a lot\n",
    "-   you will learn how to select observations from a tensor using slicing and indexing\n",
    "\n"
   ]
  },
  {
   "cell_type": "code",
   "execution_count": 51,
   "metadata": {},
   "outputs": [
    {
     "data": {
      "text/plain": [
       "(2, 3, 4)"
      ]
     },
     "execution_count": 51,
     "metadata": {},
     "output_type": "execute_result"
    }
   ],
   "source": [
    "A = np.arange(24).reshape(2,3,4)\n",
    "A.shape"
   ]
  },
  {
   "cell_type": "code",
   "execution_count": 49,
   "metadata": {},
   "outputs": [
    {
     "data": {
      "text/plain": [
       "array([[[ 0,  1,  2,  3],\n",
       "        [ 4,  5,  6,  7],\n",
       "        [ 8,  9, 10, 11]],\n",
       "\n",
       "       [[12, 13, 14, 15],\n",
       "        [16, 17, 18, 19],\n",
       "        [20, 21, 22, 23]]])"
      ]
     },
     "execution_count": 49,
     "metadata": {},
     "output_type": "execute_result"
    }
   ],
   "source": [
    "A"
   ]
  },
  {
   "cell_type": "code",
   "execution_count": 54,
   "metadata": {},
   "outputs": [
    {
     "name": "stdout",
     "output_type": "stream",
     "text": [
      "[[ 0  1  2  3]\n",
      " [ 4  5  6  7]\n",
      " [ 8  9 10 11]]\n",
      "\n",
      "\n",
      "[[12 13 14 15]\n",
      " [16 17 18 19]\n",
      " [20 21 22 23]]\n"
     ]
    }
   ],
   "source": [
    "print(A[0,:,:])\n",
    "print('\\n')\n",
    "print(A[1,:,:])"
   ]
  },
  {
   "cell_type": "code",
   "execution_count": 57,
   "metadata": {},
   "outputs": [
    {
     "data": {
      "text/plain": [
       "array([20, 21, 22, 23])"
      ]
     },
     "execution_count": 57,
     "metadata": {},
     "output_type": "execute_result"
    }
   ],
   "source": [
    "A[1,2,:]"
   ]
  },
  {
   "cell_type": "markdown",
   "metadata": {},
   "source": [
    "Recall matrix multiplication: we multiply a (2,3) matrix and (3,1) vector and the result is a (2,1) vector:\n",
    "\n"
   ]
  },
  {
   "cell_type": "code",
   "execution_count": 58,
   "metadata": {},
   "outputs": [
    {
     "data": {
      "text/plain": [
       "array([[ 0.49454338],\n",
       "       [-2.27593168]])"
      ]
     },
     "execution_count": 58,
     "metadata": {},
     "output_type": "execute_result"
    }
   ],
   "source": [
    "B = np.random.normal(0,1,size=(2,3))\n",
    "C = np.random.normal(0,1,size=(3,1))\n",
    "B.dot(C)"
   ]
  },
  {
   "cell_type": "markdown",
   "metadata": {},
   "source": [
    "But multiplying **tensors** B and C gives an error:\n",
    "\n"
   ]
  },
  {
   "cell_type": "code",
   "execution_count": 59,
   "metadata": {},
   "outputs": [
    {
     "ename": "ValueError",
     "evalue": "operands could not be broadcast together with shapes (2,3) (3,1) ",
     "output_type": "error",
     "traceback": [
      "\u001b[0;31m---------------------------------------------------------------------------\u001b[0m",
      "\u001b[0;31mValueError\u001b[0m                                Traceback (most recent call last)",
      "\u001b[0;32m<ipython-input-59-03507f8da0a7>\u001b[0m in \u001b[0;36m<module>\u001b[0;34m\u001b[0m\n\u001b[0;32m----> 1\u001b[0;31m \u001b[0mB\u001b[0m\u001b[0;34m*\u001b[0m\u001b[0mC\u001b[0m\u001b[0;34m\u001b[0m\u001b[0;34m\u001b[0m\u001b[0m\n\u001b[0m",
      "\u001b[0;31mValueError\u001b[0m: operands could not be broadcast together with shapes (2,3) (3,1) "
     ]
    }
   ],
   "source": [
    "B*C"
   ]
  },
  {
   "cell_type": "markdown",
   "metadata": {},
   "source": [
    "When multiplying tensors, the dimensions need to be same or satisfy the broadcasting rules:\n",
    "\n"
   ]
  },
  {
   "cell_type": "code",
   "execution_count": 60,
   "metadata": {},
   "outputs": [
    {
     "name": "stdout",
     "output_type": "stream",
     "text": [
      "[[[  0.           1.23338322   2.46676644   3.70014966]\n",
      "  [ -3.96179061  -4.95223826  -5.94268592  -6.93313357]\n",
      "  [  0.18407785   0.20708758   0.23009731   0.25310704]]\n",
      "\n",
      " [[-14.27061946 -15.45983775 -16.64905603 -17.83827432]\n",
      "  [  1.02479762   1.08884748   1.15289733   1.21694718]\n",
      "  [-38.54341516 -40.47058591 -42.39775667 -44.32492743]]]\n",
      "\n",
      "\n",
      "(2, 3, 1)\n"
     ]
    }
   ],
   "source": [
    "print(A * B[:,:,np.newaxis])\n",
    "print('\\n')\n",
    "print((B[:,:,np.newaxis]).shape)"
   ]
  },
  {
   "cell_type": "markdown",
   "metadata": {},
   "source": [
    "Slicing and indexing:\n",
    "\n"
   ]
  },
  {
   "cell_type": "code",
   "execution_count": 64,
   "metadata": {},
   "outputs": [
    {
     "data": {
      "text/plain": [
       "array([[[ 0,  1],\n",
       "        [ 4,  5]],\n",
       "\n",
       "       [[12, 13],\n",
       "        [16, 17]]])"
      ]
     },
     "execution_count": 64,
     "metadata": {},
     "output_type": "execute_result"
    }
   ],
   "source": [
    "A[:,:2,:2]"
   ]
  },
  {
   "cell_type": "markdown",
   "metadata": {},
   "source": [
    "# selecting entries with booleans:\n",
    "\n"
   ]
  },
  {
   "cell_type": "code",
   "execution_count": 65,
   "metadata": {},
   "outputs": [
    {
     "data": {
      "text/plain": [
       "array([ 6,  7,  8,  9, 10, 11, 12, 13, 14, 15, 16, 17, 18, 19, 20, 21, 22,\n",
       "       23])"
      ]
     },
     "execution_count": 65,
     "metadata": {},
     "output_type": "execute_result"
    }
   ],
   "source": [
    "A[A>5]"
   ]
  },
  {
   "cell_type": "markdown",
   "metadata": {},
   "source": [
    "-   we introduce our very first neural network\n",
    "-   and the functions &ldquo;relu&rdquo; and &ldquo;softmax&rdquo;\n",
    "\n",
    "Tensor in our data and the correct label:\n",
    "\n"
   ]
  },
  {
   "cell_type": "code",
   "execution_count": 66,
   "metadata": {},
   "outputs": [
    {
     "data": {
      "image/png": "[encoded data removed]",
      "text/plain": [
       "<Figure size 432x288 with 1 Axes>"
      ]
     },
     "metadata": {
      "needs_background": "light"
     },
     "output_type": "display_data"
    },
    {
     "name": "stdout",
     "output_type": "stream",
     "text": [
      "9\n"
     ]
    }
   ],
   "source": [
    "(train_images, train_labels), (test_images, test_labels) = datasets.mnist.load_data()\n",
    "plt.imshow(train_images[4],cmap=plt.cm.binary)\n",
    "plt.show()\n",
    "print(train_labels[4])"
   ]
  },
  {
   "cell_type": "code",
   "execution_count": 67,
   "metadata": {},
   "outputs": [],
   "source": [
    "model = keras.Sequential([\n",
    "    keras.layers.Flatten(input_shape=(28, 28)),\n",
    "    keras.layers.Dense(128, activation='relu'),\n",
    "    keras.layers.Dense(10, activation='softmax')\n",
    "])\n",
    "\n",
    "\n",
    "model.compile(optimizer='adam',\n",
    "              loss='sparse_categorical_crossentropy',\n",
    "              metrics=['accuracy'])"
   ]
  },
  {
   "cell_type": "code",
   "execution_count": 68,
   "metadata": {},
   "outputs": [
    {
     "name": "stdout",
     "output_type": "stream",
     "text": [
      "Epoch 1/5\n",
      "1875/1875 [==============================] - 13s 6ms/step - loss: 7.1405 - accuracy: 0.8221\n",
      "Epoch 2/5\n",
      "1875/1875 [==============================] - 11s 6ms/step - loss: 0.4382 - accuracy: 0.9006\n",
      "Epoch 3/5\n",
      "1875/1875 [==============================] - 11s 6ms/step - loss: 0.3043 - accuracy: 0.9251\n",
      "Epoch 4/5\n",
      "1875/1875 [==============================] - 11s 6ms/step - loss: 0.2346 - accuracy: 0.9383\n",
      "Epoch 5/5\n",
      "1875/1875 [==============================] - 11s 6ms/step - loss: 0.2188 - accuracy: 0.9451\n",
      "313/313 [==============================] - 1s 3ms/step - loss: 0.2644 - accuracy: 0.9416\n",
      "\n",
      "Test accuracy: 0.9416000247001648\n"
     ]
    }
   ],
   "source": [
    "model.fit(train_images, train_labels, epochs=5)\n",
    "test_loss, test_acc = model.evaluate(test_images, test_labels)\n",
    "\n",
    "print('\\nTest accuracy:', test_acc)"
   ]
  },
  {
   "cell_type": "markdown",
   "metadata": {},
   "source": [
    "-   overfitting: you pick up structure that is particular to the sample but does not generalize to the population\n",
    "-   underfitting: the sample contains relevant information about the population but your model is too simple to pick this up\n",
    "    \n",
    "    To see how this work, we simulate our own data:\n",
    "    \n",
    "    -   we know which structure is relevant for the population (we programmed it)\n",
    "    -   then we create models that over/underfit the sample and see what the properties are of such models\n",
    "    -   find ways to steer between underfitting and overfitting:\n",
    "        -   in the sample, adding more variables always improves the fit\n",
    "        -   but this is not necessarily the case out-of-sample\n",
    "        -   hence we split our data into a train set and a test set\n",
    "        -   make model decisions based on performance in the test set (not the train set)\n",
    "\n"
   ]
  }
 ],
 "metadata": {
  "kernelspec": {
   "display_name": "Python 3",
   "language": "python",
   "name": "python3"
  },
  "language_info": {
   "codemirror_mode": {
    "name": "ipython",
    "version": 3
   },
   "file_extension": ".py",
   "mimetype": "text/x-python",
   "name": "python",
   "nbconvert_exporter": "python",
   "pygments_lexer": "ipython3",
   "version": "3.8.6"
  },
  "org": null
 },
 "nbformat": 4,
 "nbformat_minor": 4
}
